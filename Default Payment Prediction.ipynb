{
 "cells": [
  {
   "cell_type": "markdown",
   "metadata": {},
   "source": [
    "# Milestone 1\n",
    "## 1. Introduction\n",
    "`Fachmi Maris`\n",
    "\n",
    "Batch 002\n",
    "\n",
    "the dataset used is `ml_datasets` from a database named `credit_card_default`.\n",
    "## Source : \n",
    "SELECT \n",
    "limit_balance, sex, education_level, marital_status, age, pay_0, pay_2, pay_3, pay_4, pay_5, pay_6, bill_amt_1, bill_amt_2, bill_amt_3, bill_amt_4, bill_amt_5, bill_amt_6, pay_amt_1, pay_amt_2, pay_amt_3, pay_amt_4, pay_amt_5, pay_amt_6, default_payment_next_month\n",
    "FROM `bigquery-public-data.ml_datasets.credit_card_default` LIMIT 3990\n",
    "\n",
    "The above query is fetched and saved in the `.csv` file format which is saved with the name `h8dsft_P1M1_Fachmi_Maris.csv`."
   ]
  },
  {
   "cell_type": "markdown",
   "metadata": {},
   "source": [
    "### OBJECTIVES\n",
    "Milestones 1 was created to evaluate Phase 1 Learning in the Supervised Learning concept as follows:\n",
    "\n",
    "- Able to obtain data using BigQuery\n",
    "- Able to understand the concept of supervised learning\n",
    "- Able to prepare data for use in supervised learning models\n",
    "- Able to implement supervised learning with the data provided\n",
    "- Able to do model evaluation\n",
    "- Able to do model tuning"
   ]
  },
  {
   "cell_type": "markdown",
   "metadata": {},
   "source": [
    "### PROBLEM STATEMENT\n",
    "Create a Classification model to predict default_payment_next_month using the saved dataset."
   ]
  },
  {
   "cell_type": "markdown",
   "metadata": {},
   "source": [
    "## 2.Import Library"
   ]
  },
  {
   "cell_type": "code",
   "execution_count": 1,
   "metadata": {},
   "outputs": [],
   "source": [
    "# Define Librearies\n",
    "import pandas as pd\n",
    "import numpy as np\n",
    "from scipy import stats\n",
    "import matplotlib.pyplot as plt\n",
    "import seaborn as sns\n",
    "\n",
    "\n",
    "#For Classifer Problem\n",
    "from sklearn.linear_model import LogisticRegression\n",
    "from sklearn.svm import SVC\n",
    "from sklearn.tree import DecisionTreeClassifier\n",
    "from sklearn.ensemble import RandomForestClassifier\n",
    "from sklearn.neighbors import KNeighborsClassifier\n",
    "from sklearn.naive_bayes import GaussianNB\n",
    "from sklearn.ensemble import AdaBoostClassifier\n",
    "\n",
    "#Split Dataset and Standarize Dataset\n",
    "from sklearn.model_selection import train_test_split\n",
    "from sklearn.preprocessing import StandardScaler, MinMaxScaler\n",
    "from sklearn.impute import SimpleImputer\n",
    "from feature_engine.outliers import Winsorizer\n",
    "from sklearn.pipeline import Pipeline\n",
    "from sklearn.compose import ColumnTransformer\n",
    "from statsmodels.stats.outliers_influence import variance_inflation_factor\n",
    "\n",
    "#For Selection Features\n",
    "from sklearn.feature_selection import f_classif, mutual_info_classif, SelectKBest\n",
    "\n",
    "#Evaluate Regression Models\n",
    "from sklearn.model_selection import cross_val_score\n",
    "from sklearn.model_selection import GridSearchCV\n",
    "from sklearn.metrics import accuracy_score, classification_report, ConfusionMatrixDisplay,confusion_matrix \n",
    "\n",
    "#Error and Display Setting\n",
    "pd.set_option('display.max_column', None)\n",
    "pd.set_option('display.max_rows',100)\n",
    "import warnings\n",
    "warnings.filterwarnings('ignore')\n",
    "\n"
   ]
  },
  {
   "cell_type": "markdown",
   "metadata": {},
   "source": [
    "The cell above contains the libraries that are called and needed in this study which consist of 6 groups:\n",
    "1. Define Libraries\n",
    "2. For Classifer Problem\n",
    "3. Split Dataset and Standardize Dataset\n",
    "4. For Selection Features\n",
    "5. Evaluate Regression Models\n",
    "6. Error and Display Settings\n"
   ]
  },
  {
   "cell_type": "markdown",
   "metadata": {},
   "source": [
    "## 3.Data Loading\n",
    "\n",
    "Loading dataset into Visual Studio Code"
   ]
  },
  {
   "cell_type": "code",
   "execution_count": 2,
   "metadata": {},
   "outputs": [],
   "source": [
    "df = pd.read_csv('h8dsft_P1M1_Fachmi_Maris.csv..csv')"
   ]
  },
  {
   "cell_type": "markdown",
   "metadata": {},
   "source": [
    "The above step is to call and read the dataset taken from the bigquery source listed as in the source."
   ]
  },
  {
   "cell_type": "code",
   "execution_count": 3,
   "metadata": {},
   "outputs": [
    {
     "data": {
      "text/html": [
       "<div>\n",
       "<style scoped>\n",
       "    .dataframe tbody tr th:only-of-type {\n",
       "        vertical-align: middle;\n",
       "    }\n",
       "\n",
       "    .dataframe tbody tr th {\n",
       "        vertical-align: top;\n",
       "    }\n",
       "\n",
       "    .dataframe thead th {\n",
       "        text-align: right;\n",
       "    }\n",
       "</style>\n",
       "<table border=\"1\" class=\"dataframe\">\n",
       "  <thead>\n",
       "    <tr style=\"text-align: right;\">\n",
       "      <th></th>\n",
       "      <th>limit_balance</th>\n",
       "      <th>sex</th>\n",
       "      <th>education_level</th>\n",
       "      <th>marital_status</th>\n",
       "      <th>age</th>\n",
       "      <th>pay_0</th>\n",
       "      <th>pay_2</th>\n",
       "      <th>pay_3</th>\n",
       "      <th>pay_4</th>\n",
       "      <th>pay_5</th>\n",
       "      <th>pay_6</th>\n",
       "      <th>bill_amt_1</th>\n",
       "      <th>bill_amt_2</th>\n",
       "      <th>bill_amt_3</th>\n",
       "      <th>bill_amt_4</th>\n",
       "      <th>bill_amt_5</th>\n",
       "      <th>bill_amt_6</th>\n",
       "      <th>pay_amt_1</th>\n",
       "      <th>pay_amt_2</th>\n",
       "      <th>pay_amt_3</th>\n",
       "      <th>pay_amt_4</th>\n",
       "      <th>pay_amt_5</th>\n",
       "      <th>pay_amt_6</th>\n",
       "      <th>default_payment_next_month</th>\n",
       "    </tr>\n",
       "  </thead>\n",
       "  <tbody>\n",
       "    <tr>\n",
       "      <th>0</th>\n",
       "      <td>130000</td>\n",
       "      <td>1</td>\n",
       "      <td>1</td>\n",
       "      <td>1</td>\n",
       "      <td>45</td>\n",
       "      <td>0</td>\n",
       "      <td>0</td>\n",
       "      <td>0</td>\n",
       "      <td>0</td>\n",
       "      <td>0</td>\n",
       "      <td>0</td>\n",
       "      <td>58180</td>\n",
       "      <td>59134</td>\n",
       "      <td>61156</td>\n",
       "      <td>62377</td>\n",
       "      <td>63832</td>\n",
       "      <td>65099</td>\n",
       "      <td>2886</td>\n",
       "      <td>2908</td>\n",
       "      <td>2129</td>\n",
       "      <td>2354</td>\n",
       "      <td>2366</td>\n",
       "      <td>2291</td>\n",
       "      <td>0</td>\n",
       "    </tr>\n",
       "    <tr>\n",
       "      <th>1</th>\n",
       "      <td>230000</td>\n",
       "      <td>1</td>\n",
       "      <td>2</td>\n",
       "      <td>1</td>\n",
       "      <td>41</td>\n",
       "      <td>0</td>\n",
       "      <td>0</td>\n",
       "      <td>0</td>\n",
       "      <td>0</td>\n",
       "      <td>0</td>\n",
       "      <td>0</td>\n",
       "      <td>301038</td>\n",
       "      <td>305327</td>\n",
       "      <td>213058</td>\n",
       "      <td>216260</td>\n",
       "      <td>215968</td>\n",
       "      <td>174195</td>\n",
       "      <td>9405</td>\n",
       "      <td>7769</td>\n",
       "      <td>7757</td>\n",
       "      <td>8030</td>\n",
       "      <td>6549</td>\n",
       "      <td>5226</td>\n",
       "      <td>1</td>\n",
       "    </tr>\n",
       "    <tr>\n",
       "      <th>2</th>\n",
       "      <td>50000</td>\n",
       "      <td>1</td>\n",
       "      <td>2</td>\n",
       "      <td>1</td>\n",
       "      <td>42</td>\n",
       "      <td>0</td>\n",
       "      <td>0</td>\n",
       "      <td>0</td>\n",
       "      <td>0</td>\n",
       "      <td>0</td>\n",
       "      <td>2</td>\n",
       "      <td>35892</td>\n",
       "      <td>32546</td>\n",
       "      <td>30660</td>\n",
       "      <td>31320</td>\n",
       "      <td>36227</td>\n",
       "      <td>35569</td>\n",
       "      <td>2007</td>\n",
       "      <td>2000</td>\n",
       "      <td>1500</td>\n",
       "      <td>5400</td>\n",
       "      <td>0</td>\n",
       "      <td>3000</td>\n",
       "      <td>0</td>\n",
       "    </tr>\n",
       "    <tr>\n",
       "      <th>3</th>\n",
       "      <td>200000</td>\n",
       "      <td>1</td>\n",
       "      <td>1</td>\n",
       "      <td>1</td>\n",
       "      <td>58</td>\n",
       "      <td>0</td>\n",
       "      <td>0</td>\n",
       "      <td>0</td>\n",
       "      <td>0</td>\n",
       "      <td>0</td>\n",
       "      <td>0</td>\n",
       "      <td>192461</td>\n",
       "      <td>195970</td>\n",
       "      <td>122214</td>\n",
       "      <td>124647</td>\n",
       "      <td>126921</td>\n",
       "      <td>129167</td>\n",
       "      <td>7822</td>\n",
       "      <td>4417</td>\n",
       "      <td>4446</td>\n",
       "      <td>4597</td>\n",
       "      <td>4677</td>\n",
       "      <td>4698</td>\n",
       "      <td>0</td>\n",
       "    </tr>\n",
       "    <tr>\n",
       "      <th>4</th>\n",
       "      <td>500000</td>\n",
       "      <td>1</td>\n",
       "      <td>1</td>\n",
       "      <td>1</td>\n",
       "      <td>39</td>\n",
       "      <td>0</td>\n",
       "      <td>0</td>\n",
       "      <td>0</td>\n",
       "      <td>0</td>\n",
       "      <td>0</td>\n",
       "      <td>0</td>\n",
       "      <td>133598</td>\n",
       "      <td>167378</td>\n",
       "      <td>171106</td>\n",
       "      <td>174500</td>\n",
       "      <td>137406</td>\n",
       "      <td>204975</td>\n",
       "      <td>54209</td>\n",
       "      <td>4607</td>\n",
       "      <td>4603</td>\n",
       "      <td>5224</td>\n",
       "      <td>207440</td>\n",
       "      <td>7509</td>\n",
       "      <td>0</td>\n",
       "    </tr>\n",
       "    <tr>\n",
       "      <th>...</th>\n",
       "      <td>...</td>\n",
       "      <td>...</td>\n",
       "      <td>...</td>\n",
       "      <td>...</td>\n",
       "      <td>...</td>\n",
       "      <td>...</td>\n",
       "      <td>...</td>\n",
       "      <td>...</td>\n",
       "      <td>...</td>\n",
       "      <td>...</td>\n",
       "      <td>...</td>\n",
       "      <td>...</td>\n",
       "      <td>...</td>\n",
       "      <td>...</td>\n",
       "      <td>...</td>\n",
       "      <td>...</td>\n",
       "      <td>...</td>\n",
       "      <td>...</td>\n",
       "      <td>...</td>\n",
       "      <td>...</td>\n",
       "      <td>...</td>\n",
       "      <td>...</td>\n",
       "      <td>...</td>\n",
       "      <td>...</td>\n",
       "    </tr>\n",
       "    <tr>\n",
       "      <th>2960</th>\n",
       "      <td>80000</td>\n",
       "      <td>2</td>\n",
       "      <td>3</td>\n",
       "      <td>1</td>\n",
       "      <td>39</td>\n",
       "      <td>-1</td>\n",
       "      <td>-1</td>\n",
       "      <td>-1</td>\n",
       "      <td>-1</td>\n",
       "      <td>-2</td>\n",
       "      <td>-1</td>\n",
       "      <td>5280</td>\n",
       "      <td>5000</td>\n",
       "      <td>5000</td>\n",
       "      <td>0</td>\n",
       "      <td>0</td>\n",
       "      <td>5000</td>\n",
       "      <td>5000</td>\n",
       "      <td>5000</td>\n",
       "      <td>0</td>\n",
       "      <td>5000</td>\n",
       "      <td>5000</td>\n",
       "      <td>470</td>\n",
       "      <td>0</td>\n",
       "    </tr>\n",
       "    <tr>\n",
       "      <th>2961</th>\n",
       "      <td>110000</td>\n",
       "      <td>2</td>\n",
       "      <td>2</td>\n",
       "      <td>2</td>\n",
       "      <td>24</td>\n",
       "      <td>-1</td>\n",
       "      <td>-1</td>\n",
       "      <td>-1</td>\n",
       "      <td>-1</td>\n",
       "      <td>0</td>\n",
       "      <td>0</td>\n",
       "      <td>1362</td>\n",
       "      <td>1352</td>\n",
       "      <td>1867</td>\n",
       "      <td>36986</td>\n",
       "      <td>40053</td>\n",
       "      <td>41196</td>\n",
       "      <td>1352</td>\n",
       "      <td>1867</td>\n",
       "      <td>36986</td>\n",
       "      <td>5000</td>\n",
       "      <td>3000</td>\n",
       "      <td>23000</td>\n",
       "      <td>0</td>\n",
       "    </tr>\n",
       "    <tr>\n",
       "      <th>2962</th>\n",
       "      <td>160000</td>\n",
       "      <td>2</td>\n",
       "      <td>1</td>\n",
       "      <td>2</td>\n",
       "      <td>32</td>\n",
       "      <td>-1</td>\n",
       "      <td>-1</td>\n",
       "      <td>-1</td>\n",
       "      <td>-1</td>\n",
       "      <td>-1</td>\n",
       "      <td>-1</td>\n",
       "      <td>9441</td>\n",
       "      <td>5714</td>\n",
       "      <td>5030</td>\n",
       "      <td>3181</td>\n",
       "      <td>4998</td>\n",
       "      <td>1250</td>\n",
       "      <td>5726</td>\n",
       "      <td>5037</td>\n",
       "      <td>3182</td>\n",
       "      <td>5000</td>\n",
       "      <td>1252</td>\n",
       "      <td>749</td>\n",
       "      <td>0</td>\n",
       "    </tr>\n",
       "    <tr>\n",
       "      <th>2963</th>\n",
       "      <td>210000</td>\n",
       "      <td>2</td>\n",
       "      <td>1</td>\n",
       "      <td>1</td>\n",
       "      <td>38</td>\n",
       "      <td>0</td>\n",
       "      <td>0</td>\n",
       "      <td>-1</td>\n",
       "      <td>-1</td>\n",
       "      <td>0</td>\n",
       "      <td>0</td>\n",
       "      <td>8420</td>\n",
       "      <td>8106</td>\n",
       "      <td>4168</td>\n",
       "      <td>23067</td>\n",
       "      <td>19972</td>\n",
       "      <td>45864</td>\n",
       "      <td>3000</td>\n",
       "      <td>4521</td>\n",
       "      <td>24000</td>\n",
       "      <td>10000</td>\n",
       "      <td>30000</td>\n",
       "      <td>6432</td>\n",
       "      <td>0</td>\n",
       "    </tr>\n",
       "    <tr>\n",
       "      <th>2964</th>\n",
       "      <td>360000</td>\n",
       "      <td>2</td>\n",
       "      <td>2</td>\n",
       "      <td>1</td>\n",
       "      <td>37</td>\n",
       "      <td>-1</td>\n",
       "      <td>-1</td>\n",
       "      <td>0</td>\n",
       "      <td>-1</td>\n",
       "      <td>-1</td>\n",
       "      <td>-1</td>\n",
       "      <td>10000</td>\n",
       "      <td>17444</td>\n",
       "      <td>17165</td>\n",
       "      <td>10000</td>\n",
       "      <td>10000</td>\n",
       "      <td>10000</td>\n",
       "      <td>17444</td>\n",
       "      <td>10035</td>\n",
       "      <td>10000</td>\n",
       "      <td>10000</td>\n",
       "      <td>10000</td>\n",
       "      <td>0</td>\n",
       "      <td>0</td>\n",
       "    </tr>\n",
       "  </tbody>\n",
       "</table>\n",
       "<p>2965 rows × 24 columns</p>\n",
       "</div>"
      ],
      "text/plain": [
       "      limit_balance  sex  education_level  marital_status  age  pay_0  pay_2  \\\n",
       "0            130000    1                1               1   45      0      0   \n",
       "1            230000    1                2               1   41      0      0   \n",
       "2             50000    1                2               1   42      0      0   \n",
       "3            200000    1                1               1   58      0      0   \n",
       "4            500000    1                1               1   39      0      0   \n",
       "...             ...  ...              ...             ...  ...    ...    ...   \n",
       "2960          80000    2                3               1   39     -1     -1   \n",
       "2961         110000    2                2               2   24     -1     -1   \n",
       "2962         160000    2                1               2   32     -1     -1   \n",
       "2963         210000    2                1               1   38      0      0   \n",
       "2964         360000    2                2               1   37     -1     -1   \n",
       "\n",
       "      pay_3  pay_4  pay_5  pay_6  bill_amt_1  bill_amt_2  bill_amt_3  \\\n",
       "0         0      0      0      0       58180       59134       61156   \n",
       "1         0      0      0      0      301038      305327      213058   \n",
       "2         0      0      0      2       35892       32546       30660   \n",
       "3         0      0      0      0      192461      195970      122214   \n",
       "4         0      0      0      0      133598      167378      171106   \n",
       "...     ...    ...    ...    ...         ...         ...         ...   \n",
       "2960     -1     -1     -2     -1        5280        5000        5000   \n",
       "2961     -1     -1      0      0        1362        1352        1867   \n",
       "2962     -1     -1     -1     -1        9441        5714        5030   \n",
       "2963     -1     -1      0      0        8420        8106        4168   \n",
       "2964      0     -1     -1     -1       10000       17444       17165   \n",
       "\n",
       "      bill_amt_4  bill_amt_5  bill_amt_6  pay_amt_1  pay_amt_2  pay_amt_3  \\\n",
       "0          62377       63832       65099       2886       2908       2129   \n",
       "1         216260      215968      174195       9405       7769       7757   \n",
       "2          31320       36227       35569       2007       2000       1500   \n",
       "3         124647      126921      129167       7822       4417       4446   \n",
       "4         174500      137406      204975      54209       4607       4603   \n",
       "...          ...         ...         ...        ...        ...        ...   \n",
       "2960           0           0        5000       5000       5000          0   \n",
       "2961       36986       40053       41196       1352       1867      36986   \n",
       "2962        3181        4998        1250       5726       5037       3182   \n",
       "2963       23067       19972       45864       3000       4521      24000   \n",
       "2964       10000       10000       10000      17444      10035      10000   \n",
       "\n",
       "      pay_amt_4  pay_amt_5  pay_amt_6  default_payment_next_month  \n",
       "0          2354       2366       2291                           0  \n",
       "1          8030       6549       5226                           1  \n",
       "2          5400          0       3000                           0  \n",
       "3          4597       4677       4698                           0  \n",
       "4          5224     207440       7509                           0  \n",
       "...         ...        ...        ...                         ...  \n",
       "2960       5000       5000        470                           0  \n",
       "2961       5000       3000      23000                           0  \n",
       "2962       5000       1252        749                           0  \n",
       "2963      10000      30000       6432                           0  \n",
       "2964      10000      10000          0                           0  \n",
       "\n",
       "[2965 rows x 24 columns]"
      ]
     },
     "execution_count": 3,
     "metadata": {},
     "output_type": "execute_result"
    }
   ],
   "source": [
    "df"
   ]
  },
  {
   "cell_type": "markdown",
   "metadata": {},
   "source": [
    "displays a dataframe with the variable name df"
   ]
  },
  {
   "cell_type": "markdown",
   "metadata": {},
   "source": [
    "There are 24 variables:\n",
    "\n",
    "- `LIMIT_BAL`: Amount of given credit in NT dollars (includes individual and family/supplementary credit\n",
    "- `SEX`: Gender (1=male, 2=female)\n",
    "- `education_level`: (1=graduate school, 2=university, 3=high school, 4=others, 5=unknown, 6=unknow, 0=unknown)\n",
    "- `marital_status`: Marital status (1=married, 2=single, 3=others)\n",
    "- `age`: Age in years\n",
    "- `PAY_0`: Repayment status in September, 2005 (-1=pay duly, 1=payment delay for one month, 2=payment delay for two\n",
    "- months, … 8=payment delay for eight months, 9=payment delay for nine months and above)\n",
    "- `PAY_2`: Repayment status in August, 2005 (scale same as above)\n",
    "- `PAY_3`: Repayment status in July, 2005 (scale same as above)\n",
    "- `PAY_4`: Repayment status in June, 2005 (scale same as above)\n",
    "- `PAY_5`: Repayment status in May, 2005 (scale same as above)\n",
    "- `PAY_6`: Repayment status in April, 2005 (scale same as above)\n",
    "- `BILL_AMT1`: Amount of bill statement in September, 2005 (NT dollar)\n",
    "- `BILL_AMT2`: Amount of bill statement in August, 2005 (NT dollar)\n",
    "- `BILL_AMT3`: Amount of bill statement in July, 2005 (NT dollar)\n",
    "- `BILL_AMT4`: Amount of bill statement in June, 2005 (NT dollar)\n",
    "- `BILL_AMT5`: Amount of bill statement in May, 2005 (NT dollar)\n",
    "- `BILL_AMT6`: Amount of bill statement in April, 2005 (NT dollar)\n",
    "- `PAY_AMT1`: Amount of previous payment in September, 2005 (NT dollar)\n",
    "- `PAY_AMT2`: Amount of previous payment in August, 2005 (NT dollar)\n",
    "- `PAY_AMT3`: Amount of previous payment in July, 2005 (NT dollar)\n",
    "- `PAY_AMT4`: Amount of previous payment in June, 2005 (NT dollar)\n",
    "- `PAY_AMT5`: Amount of previous payment in May, 2005 (NT dollar)\n",
    "- `PAY_AMT6`: Amount of previous payment in April, 2005 (NT dollar)\n",
    "- `default.payment.next.month`: Default payment (1=yes, 0=no)\n",
    "\n",
    "Based on the description of the dataset columns, we can conclude that the dataset discusses credit cards in Taiwan because the dataset states that the currency is NT dollars (Taiwanese Dollars). The goal of this project is that the researcher wants to predict the next user's default payment within the next month.\n",
    "Based on the existing dataset, the researcher realizes that there are some things that are awkward and worth handling in an appropriate way, such as:\n",
    "1. In the `education_level` column there are unique 0, 5, and 6 which have an unknown meaning, so the unique will be combined with unique 4\n",
    "\n",
    "2. The column name `Pay_0` will be renamed to `Pay_1` because the researcher assumes that the dataset author may have made a typo or typo.\n",
    "\n",
    "3. In column `Marital_status` found unique 0 whose definition is unknown so it will be combined with unique 3.\n",
    "\n",
    "4. `default.payment.next.month` consists of 0=no, 1=yes.\n",
    "- class 0 is a client with smooth payments, which means that the client is still able to fulfill their debt payment obligations\n",
    "- Class 1 is a client with delinquent payments which means the client is unable to fulfill their debt payment obligations."
   ]
  },
  {
   "cell_type": "code",
   "execution_count": 4,
   "metadata": {},
   "outputs": [
    {
     "data": {
      "text/html": [
       "<div>\n",
       "<style scoped>\n",
       "    .dataframe tbody tr th:only-of-type {\n",
       "        vertical-align: middle;\n",
       "    }\n",
       "\n",
       "    .dataframe tbody tr th {\n",
       "        vertical-align: top;\n",
       "    }\n",
       "\n",
       "    .dataframe thead th {\n",
       "        text-align: right;\n",
       "    }\n",
       "</style>\n",
       "<table border=\"1\" class=\"dataframe\">\n",
       "  <thead>\n",
       "    <tr style=\"text-align: right;\">\n",
       "      <th></th>\n",
       "      <th>limit_balance</th>\n",
       "      <th>sex</th>\n",
       "      <th>education_level</th>\n",
       "      <th>marital_status</th>\n",
       "      <th>age</th>\n",
       "      <th>pay_0</th>\n",
       "      <th>pay_2</th>\n",
       "      <th>pay_3</th>\n",
       "      <th>pay_4</th>\n",
       "      <th>pay_5</th>\n",
       "      <th>pay_6</th>\n",
       "      <th>bill_amt_1</th>\n",
       "      <th>bill_amt_2</th>\n",
       "      <th>bill_amt_3</th>\n",
       "      <th>bill_amt_4</th>\n",
       "      <th>bill_amt_5</th>\n",
       "      <th>bill_amt_6</th>\n",
       "      <th>pay_amt_1</th>\n",
       "      <th>pay_amt_2</th>\n",
       "      <th>pay_amt_3</th>\n",
       "      <th>pay_amt_4</th>\n",
       "      <th>pay_amt_5</th>\n",
       "      <th>pay_amt_6</th>\n",
       "      <th>default_payment_next_month</th>\n",
       "    </tr>\n",
       "  </thead>\n",
       "  <tbody>\n",
       "    <tr>\n",
       "      <th>0</th>\n",
       "      <td>130000</td>\n",
       "      <td>1</td>\n",
       "      <td>1</td>\n",
       "      <td>1</td>\n",
       "      <td>45</td>\n",
       "      <td>0</td>\n",
       "      <td>0</td>\n",
       "      <td>0</td>\n",
       "      <td>0</td>\n",
       "      <td>0</td>\n",
       "      <td>0</td>\n",
       "      <td>58180</td>\n",
       "      <td>59134</td>\n",
       "      <td>61156</td>\n",
       "      <td>62377</td>\n",
       "      <td>63832</td>\n",
       "      <td>65099</td>\n",
       "      <td>2886</td>\n",
       "      <td>2908</td>\n",
       "      <td>2129</td>\n",
       "      <td>2354</td>\n",
       "      <td>2366</td>\n",
       "      <td>2291</td>\n",
       "      <td>0</td>\n",
       "    </tr>\n",
       "    <tr>\n",
       "      <th>1</th>\n",
       "      <td>230000</td>\n",
       "      <td>1</td>\n",
       "      <td>2</td>\n",
       "      <td>1</td>\n",
       "      <td>41</td>\n",
       "      <td>0</td>\n",
       "      <td>0</td>\n",
       "      <td>0</td>\n",
       "      <td>0</td>\n",
       "      <td>0</td>\n",
       "      <td>0</td>\n",
       "      <td>301038</td>\n",
       "      <td>305327</td>\n",
       "      <td>213058</td>\n",
       "      <td>216260</td>\n",
       "      <td>215968</td>\n",
       "      <td>174195</td>\n",
       "      <td>9405</td>\n",
       "      <td>7769</td>\n",
       "      <td>7757</td>\n",
       "      <td>8030</td>\n",
       "      <td>6549</td>\n",
       "      <td>5226</td>\n",
       "      <td>1</td>\n",
       "    </tr>\n",
       "    <tr>\n",
       "      <th>2</th>\n",
       "      <td>50000</td>\n",
       "      <td>1</td>\n",
       "      <td>2</td>\n",
       "      <td>1</td>\n",
       "      <td>42</td>\n",
       "      <td>0</td>\n",
       "      <td>0</td>\n",
       "      <td>0</td>\n",
       "      <td>0</td>\n",
       "      <td>0</td>\n",
       "      <td>2</td>\n",
       "      <td>35892</td>\n",
       "      <td>32546</td>\n",
       "      <td>30660</td>\n",
       "      <td>31320</td>\n",
       "      <td>36227</td>\n",
       "      <td>35569</td>\n",
       "      <td>2007</td>\n",
       "      <td>2000</td>\n",
       "      <td>1500</td>\n",
       "      <td>5400</td>\n",
       "      <td>0</td>\n",
       "      <td>3000</td>\n",
       "      <td>0</td>\n",
       "    </tr>\n",
       "    <tr>\n",
       "      <th>3</th>\n",
       "      <td>200000</td>\n",
       "      <td>1</td>\n",
       "      <td>1</td>\n",
       "      <td>1</td>\n",
       "      <td>58</td>\n",
       "      <td>0</td>\n",
       "      <td>0</td>\n",
       "      <td>0</td>\n",
       "      <td>0</td>\n",
       "      <td>0</td>\n",
       "      <td>0</td>\n",
       "      <td>192461</td>\n",
       "      <td>195970</td>\n",
       "      <td>122214</td>\n",
       "      <td>124647</td>\n",
       "      <td>126921</td>\n",
       "      <td>129167</td>\n",
       "      <td>7822</td>\n",
       "      <td>4417</td>\n",
       "      <td>4446</td>\n",
       "      <td>4597</td>\n",
       "      <td>4677</td>\n",
       "      <td>4698</td>\n",
       "      <td>0</td>\n",
       "    </tr>\n",
       "    <tr>\n",
       "      <th>4</th>\n",
       "      <td>500000</td>\n",
       "      <td>1</td>\n",
       "      <td>1</td>\n",
       "      <td>1</td>\n",
       "      <td>39</td>\n",
       "      <td>0</td>\n",
       "      <td>0</td>\n",
       "      <td>0</td>\n",
       "      <td>0</td>\n",
       "      <td>0</td>\n",
       "      <td>0</td>\n",
       "      <td>133598</td>\n",
       "      <td>167378</td>\n",
       "      <td>171106</td>\n",
       "      <td>174500</td>\n",
       "      <td>137406</td>\n",
       "      <td>204975</td>\n",
       "      <td>54209</td>\n",
       "      <td>4607</td>\n",
       "      <td>4603</td>\n",
       "      <td>5224</td>\n",
       "      <td>207440</td>\n",
       "      <td>7509</td>\n",
       "      <td>0</td>\n",
       "    </tr>\n",
       "  </tbody>\n",
       "</table>\n",
       "</div>"
      ],
      "text/plain": [
       "   limit_balance  sex  education_level  marital_status  age  pay_0  pay_2  \\\n",
       "0         130000    1                1               1   45      0      0   \n",
       "1         230000    1                2               1   41      0      0   \n",
       "2          50000    1                2               1   42      0      0   \n",
       "3         200000    1                1               1   58      0      0   \n",
       "4         500000    1                1               1   39      0      0   \n",
       "\n",
       "   pay_3  pay_4  pay_5  pay_6  bill_amt_1  bill_amt_2  bill_amt_3  bill_amt_4  \\\n",
       "0      0      0      0      0       58180       59134       61156       62377   \n",
       "1      0      0      0      0      301038      305327      213058      216260   \n",
       "2      0      0      0      2       35892       32546       30660       31320   \n",
       "3      0      0      0      0      192461      195970      122214      124647   \n",
       "4      0      0      0      0      133598      167378      171106      174500   \n",
       "\n",
       "   bill_amt_5  bill_amt_6  pay_amt_1  pay_amt_2  pay_amt_3  pay_amt_4  \\\n",
       "0       63832       65099       2886       2908       2129       2354   \n",
       "1      215968      174195       9405       7769       7757       8030   \n",
       "2       36227       35569       2007       2000       1500       5400   \n",
       "3      126921      129167       7822       4417       4446       4597   \n",
       "4      137406      204975      54209       4607       4603       5224   \n",
       "\n",
       "   pay_amt_5  pay_amt_6  default_payment_next_month  \n",
       "0       2366       2291                           0  \n",
       "1       6549       5226                           1  \n",
       "2          0       3000                           0  \n",
       "3       4677       4698                           0  \n",
       "4     207440       7509                           0  "
      ]
     },
     "execution_count": 4,
     "metadata": {},
     "output_type": "execute_result"
    }
   ],
   "source": [
    "df.head()"
   ]
  },
  {
   "cell_type": "markdown",
   "metadata": {},
   "source": [
    "show df.head() to display the top 5 rows in the dataset."
   ]
  },
  {
   "cell_type": "code",
   "execution_count": 5,
   "metadata": {},
   "outputs": [
    {
     "data": {
      "text/html": [
       "<div>\n",
       "<style scoped>\n",
       "    .dataframe tbody tr th:only-of-type {\n",
       "        vertical-align: middle;\n",
       "    }\n",
       "\n",
       "    .dataframe tbody tr th {\n",
       "        vertical-align: top;\n",
       "    }\n",
       "\n",
       "    .dataframe thead th {\n",
       "        text-align: right;\n",
       "    }\n",
       "</style>\n",
       "<table border=\"1\" class=\"dataframe\">\n",
       "  <thead>\n",
       "    <tr style=\"text-align: right;\">\n",
       "      <th></th>\n",
       "      <th>limit_balance</th>\n",
       "      <th>sex</th>\n",
       "      <th>education_level</th>\n",
       "      <th>marital_status</th>\n",
       "      <th>age</th>\n",
       "      <th>pay_0</th>\n",
       "      <th>pay_2</th>\n",
       "      <th>pay_3</th>\n",
       "      <th>pay_4</th>\n",
       "      <th>pay_5</th>\n",
       "      <th>pay_6</th>\n",
       "      <th>bill_amt_1</th>\n",
       "      <th>bill_amt_2</th>\n",
       "      <th>bill_amt_3</th>\n",
       "      <th>bill_amt_4</th>\n",
       "      <th>bill_amt_5</th>\n",
       "      <th>bill_amt_6</th>\n",
       "      <th>pay_amt_1</th>\n",
       "      <th>pay_amt_2</th>\n",
       "      <th>pay_amt_3</th>\n",
       "      <th>pay_amt_4</th>\n",
       "      <th>pay_amt_5</th>\n",
       "      <th>pay_amt_6</th>\n",
       "      <th>default_payment_next_month</th>\n",
       "    </tr>\n",
       "  </thead>\n",
       "  <tbody>\n",
       "    <tr>\n",
       "      <th>2960</th>\n",
       "      <td>80000</td>\n",
       "      <td>2</td>\n",
       "      <td>3</td>\n",
       "      <td>1</td>\n",
       "      <td>39</td>\n",
       "      <td>-1</td>\n",
       "      <td>-1</td>\n",
       "      <td>-1</td>\n",
       "      <td>-1</td>\n",
       "      <td>-2</td>\n",
       "      <td>-1</td>\n",
       "      <td>5280</td>\n",
       "      <td>5000</td>\n",
       "      <td>5000</td>\n",
       "      <td>0</td>\n",
       "      <td>0</td>\n",
       "      <td>5000</td>\n",
       "      <td>5000</td>\n",
       "      <td>5000</td>\n",
       "      <td>0</td>\n",
       "      <td>5000</td>\n",
       "      <td>5000</td>\n",
       "      <td>470</td>\n",
       "      <td>0</td>\n",
       "    </tr>\n",
       "    <tr>\n",
       "      <th>2961</th>\n",
       "      <td>110000</td>\n",
       "      <td>2</td>\n",
       "      <td>2</td>\n",
       "      <td>2</td>\n",
       "      <td>24</td>\n",
       "      <td>-1</td>\n",
       "      <td>-1</td>\n",
       "      <td>-1</td>\n",
       "      <td>-1</td>\n",
       "      <td>0</td>\n",
       "      <td>0</td>\n",
       "      <td>1362</td>\n",
       "      <td>1352</td>\n",
       "      <td>1867</td>\n",
       "      <td>36986</td>\n",
       "      <td>40053</td>\n",
       "      <td>41196</td>\n",
       "      <td>1352</td>\n",
       "      <td>1867</td>\n",
       "      <td>36986</td>\n",
       "      <td>5000</td>\n",
       "      <td>3000</td>\n",
       "      <td>23000</td>\n",
       "      <td>0</td>\n",
       "    </tr>\n",
       "    <tr>\n",
       "      <th>2962</th>\n",
       "      <td>160000</td>\n",
       "      <td>2</td>\n",
       "      <td>1</td>\n",
       "      <td>2</td>\n",
       "      <td>32</td>\n",
       "      <td>-1</td>\n",
       "      <td>-1</td>\n",
       "      <td>-1</td>\n",
       "      <td>-1</td>\n",
       "      <td>-1</td>\n",
       "      <td>-1</td>\n",
       "      <td>9441</td>\n",
       "      <td>5714</td>\n",
       "      <td>5030</td>\n",
       "      <td>3181</td>\n",
       "      <td>4998</td>\n",
       "      <td>1250</td>\n",
       "      <td>5726</td>\n",
       "      <td>5037</td>\n",
       "      <td>3182</td>\n",
       "      <td>5000</td>\n",
       "      <td>1252</td>\n",
       "      <td>749</td>\n",
       "      <td>0</td>\n",
       "    </tr>\n",
       "    <tr>\n",
       "      <th>2963</th>\n",
       "      <td>210000</td>\n",
       "      <td>2</td>\n",
       "      <td>1</td>\n",
       "      <td>1</td>\n",
       "      <td>38</td>\n",
       "      <td>0</td>\n",
       "      <td>0</td>\n",
       "      <td>-1</td>\n",
       "      <td>-1</td>\n",
       "      <td>0</td>\n",
       "      <td>0</td>\n",
       "      <td>8420</td>\n",
       "      <td>8106</td>\n",
       "      <td>4168</td>\n",
       "      <td>23067</td>\n",
       "      <td>19972</td>\n",
       "      <td>45864</td>\n",
       "      <td>3000</td>\n",
       "      <td>4521</td>\n",
       "      <td>24000</td>\n",
       "      <td>10000</td>\n",
       "      <td>30000</td>\n",
       "      <td>6432</td>\n",
       "      <td>0</td>\n",
       "    </tr>\n",
       "    <tr>\n",
       "      <th>2964</th>\n",
       "      <td>360000</td>\n",
       "      <td>2</td>\n",
       "      <td>2</td>\n",
       "      <td>1</td>\n",
       "      <td>37</td>\n",
       "      <td>-1</td>\n",
       "      <td>-1</td>\n",
       "      <td>0</td>\n",
       "      <td>-1</td>\n",
       "      <td>-1</td>\n",
       "      <td>-1</td>\n",
       "      <td>10000</td>\n",
       "      <td>17444</td>\n",
       "      <td>17165</td>\n",
       "      <td>10000</td>\n",
       "      <td>10000</td>\n",
       "      <td>10000</td>\n",
       "      <td>17444</td>\n",
       "      <td>10035</td>\n",
       "      <td>10000</td>\n",
       "      <td>10000</td>\n",
       "      <td>10000</td>\n",
       "      <td>0</td>\n",
       "      <td>0</td>\n",
       "    </tr>\n",
       "  </tbody>\n",
       "</table>\n",
       "</div>"
      ],
      "text/plain": [
       "      limit_balance  sex  education_level  marital_status  age  pay_0  pay_2  \\\n",
       "2960          80000    2                3               1   39     -1     -1   \n",
       "2961         110000    2                2               2   24     -1     -1   \n",
       "2962         160000    2                1               2   32     -1     -1   \n",
       "2963         210000    2                1               1   38      0      0   \n",
       "2964         360000    2                2               1   37     -1     -1   \n",
       "\n",
       "      pay_3  pay_4  pay_5  pay_6  bill_amt_1  bill_amt_2  bill_amt_3  \\\n",
       "2960     -1     -1     -2     -1        5280        5000        5000   \n",
       "2961     -1     -1      0      0        1362        1352        1867   \n",
       "2962     -1     -1     -1     -1        9441        5714        5030   \n",
       "2963     -1     -1      0      0        8420        8106        4168   \n",
       "2964      0     -1     -1     -1       10000       17444       17165   \n",
       "\n",
       "      bill_amt_4  bill_amt_5  bill_amt_6  pay_amt_1  pay_amt_2  pay_amt_3  \\\n",
       "2960           0           0        5000       5000       5000          0   \n",
       "2961       36986       40053       41196       1352       1867      36986   \n",
       "2962        3181        4998        1250       5726       5037       3182   \n",
       "2963       23067       19972       45864       3000       4521      24000   \n",
       "2964       10000       10000       10000      17444      10035      10000   \n",
       "\n",
       "      pay_amt_4  pay_amt_5  pay_amt_6  default_payment_next_month  \n",
       "2960       5000       5000        470                           0  \n",
       "2961       5000       3000      23000                           0  \n",
       "2962       5000       1252        749                           0  \n",
       "2963      10000      30000       6432                           0  \n",
       "2964      10000      10000          0                           0  "
      ]
     },
     "execution_count": 5,
     "metadata": {},
     "output_type": "execute_result"
    }
   ],
   "source": [
    "df.tail()"
   ]
  },
  {
   "cell_type": "markdown",
   "metadata": {},
   "source": [
    "show df.head() to display the bottom 5 rows in the dataset."
   ]
  },
  {
   "cell_type": "code",
   "execution_count": 6,
   "metadata": {},
   "outputs": [
    {
     "name": "stdout",
     "output_type": "stream",
     "text": [
      "<class 'pandas.core.frame.DataFrame'>\n",
      "RangeIndex: 2965 entries, 0 to 2964\n",
      "Data columns (total 24 columns):\n",
      " #   Column                      Non-Null Count  Dtype\n",
      "---  ------                      --------------  -----\n",
      " 0   limit_balance               2965 non-null   int64\n",
      " 1   sex                         2965 non-null   int64\n",
      " 2   education_level             2965 non-null   int64\n",
      " 3   marital_status              2965 non-null   int64\n",
      " 4   age                         2965 non-null   int64\n",
      " 5   pay_0                       2965 non-null   int64\n",
      " 6   pay_2                       2965 non-null   int64\n",
      " 7   pay_3                       2965 non-null   int64\n",
      " 8   pay_4                       2965 non-null   int64\n",
      " 9   pay_5                       2965 non-null   int64\n",
      " 10  pay_6                       2965 non-null   int64\n",
      " 11  bill_amt_1                  2965 non-null   int64\n",
      " 12  bill_amt_2                  2965 non-null   int64\n",
      " 13  bill_amt_3                  2965 non-null   int64\n",
      " 14  bill_amt_4                  2965 non-null   int64\n",
      " 15  bill_amt_5                  2965 non-null   int64\n",
      " 16  bill_amt_6                  2965 non-null   int64\n",
      " 17  pay_amt_1                   2965 non-null   int64\n",
      " 18  pay_amt_2                   2965 non-null   int64\n",
      " 19  pay_amt_3                   2965 non-null   int64\n",
      " 20  pay_amt_4                   2965 non-null   int64\n",
      " 21  pay_amt_5                   2965 non-null   int64\n",
      " 22  pay_amt_6                   2965 non-null   int64\n",
      " 23  default_payment_next_month  2965 non-null   int64\n",
      "dtypes: int64(24)\n",
      "memory usage: 556.1 KB\n"
     ]
    }
   ],
   "source": [
    "df.info()"
   ]
  },
  {
   "cell_type": "markdown",
   "metadata": {},
   "source": [
    "Based on the data above, all data are integer. each column consists of 2965 rows and 24 columns of data. It is known that in the dataset in each column there is no missing value, this can be seen from the number of non-null columns in each column of the dataset which is the same as the number of data entries."
   ]
  },
  {
   "cell_type": "code",
   "execution_count": 7,
   "metadata": {},
   "outputs": [
    {
     "data": {
      "text/plain": [
       "(1, 24)"
      ]
     },
     "execution_count": 7,
     "metadata": {},
     "output_type": "execute_result"
    }
   ],
   "source": [
    "df[df.duplicated()].shape"
   ]
  },
  {
   "cell_type": "markdown",
   "metadata": {},
   "source": [
    "There is 1 duplicate data line that will be deleted because the data is just a repetition which may occur due to technical errors in data input"
   ]
  },
  {
   "cell_type": "code",
   "execution_count": 8,
   "metadata": {},
   "outputs": [
    {
     "data": {
      "text/plain": [
       "limit_balance                 0\n",
       "sex                           0\n",
       "education_level               0\n",
       "marital_status                0\n",
       "age                           0\n",
       "pay_0                         0\n",
       "pay_2                         0\n",
       "pay_3                         0\n",
       "pay_4                         0\n",
       "pay_5                         0\n",
       "pay_6                         0\n",
       "bill_amt_1                    0\n",
       "bill_amt_2                    0\n",
       "bill_amt_3                    0\n",
       "bill_amt_4                    0\n",
       "bill_amt_5                    0\n",
       "bill_amt_6                    0\n",
       "pay_amt_1                     0\n",
       "pay_amt_2                     0\n",
       "pay_amt_3                     0\n",
       "pay_amt_4                     0\n",
       "pay_amt_5                     0\n",
       "pay_amt_6                     0\n",
       "default_payment_next_month    0\n",
       "dtype: int64"
      ]
     },
     "execution_count": 8,
     "metadata": {},
     "output_type": "execute_result"
    }
   ],
   "source": [
    "df.isnull().sum()"
   ]
  },
  {
   "cell_type": "markdown",
   "metadata": {},
   "source": [
    "Looking for missing values in each row and column of data then looking for a lot and the result is that there are no missing values in the dataset."
   ]
  },
  {
   "cell_type": "code",
   "execution_count": 9,
   "metadata": {},
   "outputs": [
    {
     "data": {
      "text/plain": [
       "(2965, 24)"
      ]
     },
     "execution_count": 9,
     "metadata": {},
     "output_type": "execute_result"
    }
   ],
   "source": [
    "df.shape"
   ]
  },
  {
   "cell_type": "markdown",
   "metadata": {},
   "source": [
    "Based on df.shape, it displays the initial dataset before data cleaning is carried out based on the number of rows and columns. The number of rows in df is 2965 rows and 24 columns."
   ]
  },
  {
   "cell_type": "code",
   "execution_count": 10,
   "metadata": {},
   "outputs": [],
   "source": [
    "numerical = ['limit_balance','age','bill_amt_1','bill_amt_2','bill_amt_3','bill_amt_4','bill_amt_5','bill_amt_6','pay_amt_1', 'pay_amt_2', 'pay_amt_3', 'pay_amt_4', 'pay_amt_5',\n",
    "       'pay_amt_6']\n",
    "categorical = ['sex','education_level', 'marital_status','pay_0','pay_2','pay_3','pay_4', 'pay_5', 'pay_6', 'default_payment_next_month']"
   ]
  },
  {
   "cell_type": "markdown",
   "metadata": {},
   "source": [
    "Based on Separating data based on numerical and categorical data. then give it a numeric and category variable name"
   ]
  },
  {
   "cell_type": "code",
   "execution_count": 11,
   "metadata": {},
   "outputs": [
    {
     "data": {
      "text/html": [
       "<div>\n",
       "<style scoped>\n",
       "    .dataframe tbody tr th:only-of-type {\n",
       "        vertical-align: middle;\n",
       "    }\n",
       "\n",
       "    .dataframe tbody tr th {\n",
       "        vertical-align: top;\n",
       "    }\n",
       "\n",
       "    .dataframe thead th {\n",
       "        text-align: right;\n",
       "    }\n",
       "</style>\n",
       "<table border=\"1\" class=\"dataframe\">\n",
       "  <thead>\n",
       "    <tr style=\"text-align: right;\">\n",
       "      <th></th>\n",
       "      <th>count</th>\n",
       "      <th>mean</th>\n",
       "      <th>std</th>\n",
       "      <th>min</th>\n",
       "      <th>25%</th>\n",
       "      <th>50%</th>\n",
       "      <th>75%</th>\n",
       "      <th>max</th>\n",
       "    </tr>\n",
       "  </thead>\n",
       "  <tbody>\n",
       "    <tr>\n",
       "      <th>limit_balance</th>\n",
       "      <td>2965.0</td>\n",
       "      <td>163369.308600</td>\n",
       "      <td>125030.415472</td>\n",
       "      <td>10000.0</td>\n",
       "      <td>50000.0</td>\n",
       "      <td>140000.0</td>\n",
       "      <td>230000.0</td>\n",
       "      <td>800000.0</td>\n",
       "    </tr>\n",
       "    <tr>\n",
       "      <th>age</th>\n",
       "      <td>2965.0</td>\n",
       "      <td>35.193255</td>\n",
       "      <td>9.109439</td>\n",
       "      <td>21.0</td>\n",
       "      <td>28.0</td>\n",
       "      <td>34.0</td>\n",
       "      <td>41.0</td>\n",
       "      <td>69.0</td>\n",
       "    </tr>\n",
       "    <tr>\n",
       "      <th>bill_amt_1</th>\n",
       "      <td>2965.0</td>\n",
       "      <td>52118.305228</td>\n",
       "      <td>72328.670541</td>\n",
       "      <td>-11545.0</td>\n",
       "      <td>3958.0</td>\n",
       "      <td>24257.0</td>\n",
       "      <td>69852.0</td>\n",
       "      <td>613860.0</td>\n",
       "    </tr>\n",
       "    <tr>\n",
       "      <th>bill_amt_2</th>\n",
       "      <td>2965.0</td>\n",
       "      <td>50649.153120</td>\n",
       "      <td>70785.001588</td>\n",
       "      <td>-67526.0</td>\n",
       "      <td>3390.0</td>\n",
       "      <td>23111.0</td>\n",
       "      <td>67827.0</td>\n",
       "      <td>512650.0</td>\n",
       "    </tr>\n",
       "    <tr>\n",
       "      <th>bill_amt_3</th>\n",
       "      <td>2965.0</td>\n",
       "      <td>48239.757504</td>\n",
       "      <td>68145.710745</td>\n",
       "      <td>-25443.0</td>\n",
       "      <td>3302.0</td>\n",
       "      <td>21520.0</td>\n",
       "      <td>63023.0</td>\n",
       "      <td>578971.0</td>\n",
       "    </tr>\n",
       "    <tr>\n",
       "      <th>bill_amt_4</th>\n",
       "      <td>2965.0</td>\n",
       "      <td>44089.683305</td>\n",
       "      <td>61907.454056</td>\n",
       "      <td>-46627.0</td>\n",
       "      <td>2582.0</td>\n",
       "      <td>19894.0</td>\n",
       "      <td>58622.0</td>\n",
       "      <td>488808.0</td>\n",
       "    </tr>\n",
       "    <tr>\n",
       "      <th>bill_amt_5</th>\n",
       "      <td>2965.0</td>\n",
       "      <td>40956.080607</td>\n",
       "      <td>58271.904751</td>\n",
       "      <td>-46627.0</td>\n",
       "      <td>1958.0</td>\n",
       "      <td>18814.0</td>\n",
       "      <td>53373.0</td>\n",
       "      <td>441981.0</td>\n",
       "    </tr>\n",
       "    <tr>\n",
       "      <th>bill_amt_6</th>\n",
       "      <td>2965.0</td>\n",
       "      <td>39773.072513</td>\n",
       "      <td>57303.488981</td>\n",
       "      <td>-73895.0</td>\n",
       "      <td>1430.0</td>\n",
       "      <td>18508.0</td>\n",
       "      <td>52287.0</td>\n",
       "      <td>436172.0</td>\n",
       "    </tr>\n",
       "    <tr>\n",
       "      <th>pay_amt_1</th>\n",
       "      <td>2965.0</td>\n",
       "      <td>6348.902867</td>\n",
       "      <td>20885.735336</td>\n",
       "      <td>0.0</td>\n",
       "      <td>1013.0</td>\n",
       "      <td>2234.0</td>\n",
       "      <td>5087.0</td>\n",
       "      <td>493358.0</td>\n",
       "    </tr>\n",
       "    <tr>\n",
       "      <th>pay_amt_2</th>\n",
       "      <td>2965.0</td>\n",
       "      <td>6272.494435</td>\n",
       "      <td>28879.674534</td>\n",
       "      <td>0.0</td>\n",
       "      <td>990.0</td>\n",
       "      <td>2175.0</td>\n",
       "      <td>5000.0</td>\n",
       "      <td>1227082.0</td>\n",
       "    </tr>\n",
       "    <tr>\n",
       "      <th>pay_amt_3</th>\n",
       "      <td>2965.0</td>\n",
       "      <td>5150.497133</td>\n",
       "      <td>14287.079982</td>\n",
       "      <td>0.0</td>\n",
       "      <td>477.0</td>\n",
       "      <td>1994.0</td>\n",
       "      <td>4500.0</td>\n",
       "      <td>199209.0</td>\n",
       "    </tr>\n",
       "    <tr>\n",
       "      <th>pay_amt_4</th>\n",
       "      <td>2965.0</td>\n",
       "      <td>4561.376054</td>\n",
       "      <td>13281.499599</td>\n",
       "      <td>0.0</td>\n",
       "      <td>313.0</td>\n",
       "      <td>1600.0</td>\n",
       "      <td>4000.0</td>\n",
       "      <td>202076.0</td>\n",
       "    </tr>\n",
       "    <tr>\n",
       "      <th>pay_amt_5</th>\n",
       "      <td>2965.0</td>\n",
       "      <td>4913.286678</td>\n",
       "      <td>16734.340778</td>\n",
       "      <td>0.0</td>\n",
       "      <td>323.0</td>\n",
       "      <td>1646.0</td>\n",
       "      <td>4021.0</td>\n",
       "      <td>388071.0</td>\n",
       "    </tr>\n",
       "    <tr>\n",
       "      <th>pay_amt_6</th>\n",
       "      <td>2965.0</td>\n",
       "      <td>5382.701518</td>\n",
       "      <td>17275.953029</td>\n",
       "      <td>0.0</td>\n",
       "      <td>173.0</td>\n",
       "      <td>1615.0</td>\n",
       "      <td>4081.0</td>\n",
       "      <td>403500.0</td>\n",
       "    </tr>\n",
       "  </tbody>\n",
       "</table>\n",
       "</div>"
      ],
      "text/plain": [
       "                count           mean            std      min      25%  \\\n",
       "limit_balance  2965.0  163369.308600  125030.415472  10000.0  50000.0   \n",
       "age            2965.0      35.193255       9.109439     21.0     28.0   \n",
       "bill_amt_1     2965.0   52118.305228   72328.670541 -11545.0   3958.0   \n",
       "bill_amt_2     2965.0   50649.153120   70785.001588 -67526.0   3390.0   \n",
       "bill_amt_3     2965.0   48239.757504   68145.710745 -25443.0   3302.0   \n",
       "bill_amt_4     2965.0   44089.683305   61907.454056 -46627.0   2582.0   \n",
       "bill_amt_5     2965.0   40956.080607   58271.904751 -46627.0   1958.0   \n",
       "bill_amt_6     2965.0   39773.072513   57303.488981 -73895.0   1430.0   \n",
       "pay_amt_1      2965.0    6348.902867   20885.735336      0.0   1013.0   \n",
       "pay_amt_2      2965.0    6272.494435   28879.674534      0.0    990.0   \n",
       "pay_amt_3      2965.0    5150.497133   14287.079982      0.0    477.0   \n",
       "pay_amt_4      2965.0    4561.376054   13281.499599      0.0    313.0   \n",
       "pay_amt_5      2965.0    4913.286678   16734.340778      0.0    323.0   \n",
       "pay_amt_6      2965.0    5382.701518   17275.953029      0.0    173.0   \n",
       "\n",
       "                    50%       75%        max  \n",
       "limit_balance  140000.0  230000.0   800000.0  \n",
       "age                34.0      41.0       69.0  \n",
       "bill_amt_1      24257.0   69852.0   613860.0  \n",
       "bill_amt_2      23111.0   67827.0   512650.0  \n",
       "bill_amt_3      21520.0   63023.0   578971.0  \n",
       "bill_amt_4      19894.0   58622.0   488808.0  \n",
       "bill_amt_5      18814.0   53373.0   441981.0  \n",
       "bill_amt_6      18508.0   52287.0   436172.0  \n",
       "pay_amt_1        2234.0    5087.0   493358.0  \n",
       "pay_amt_2        2175.0    5000.0  1227082.0  \n",
       "pay_amt_3        1994.0    4500.0   199209.0  \n",
       "pay_amt_4        1600.0    4000.0   202076.0  \n",
       "pay_amt_5        1646.0    4021.0   388071.0  \n",
       "pay_amt_6        1615.0    4081.0   403500.0  "
      ]
     },
     "execution_count": 11,
     "metadata": {},
     "output_type": "execute_result"
    }
   ],
   "source": [
    "df[numerical].describe().T"
   ]
  },
  {
   "cell_type": "markdown",
   "metadata": {},
   "source": [
    "Displays the display of the describe function in transpose form to see simple statistical data processing. Based on the results described above, it is known that there are no oddities in the numeric data, such as missing data values 99999 etc., so that they can be processed to the next stage"
   ]
  },
  {
   "cell_type": "code",
   "execution_count": 12,
   "metadata": {},
   "outputs": [
    {
     "name": "stdout",
     "output_type": "stream",
     "text": [
      "sex\n",
      "\n",
      "2    1802\n",
      "1    1163\n",
      "Name: sex, dtype: int64\n",
      "----------\n",
      "education_level\n",
      "\n",
      "2    1400\n",
      "1    1039\n",
      "3     483\n",
      "5      24\n",
      "4      13\n",
      "6       4\n",
      "0       2\n",
      "Name: education_level, dtype: int64\n",
      "----------\n",
      "marital_status\n",
      "\n",
      "2    1594\n",
      "1    1332\n",
      "3      35\n",
      "0       4\n",
      "Name: marital_status, dtype: int64\n",
      "----------\n",
      "pay_0\n",
      "\n",
      " 0    1516\n",
      "-1     540\n",
      " 1     356\n",
      " 2     262\n",
      "-2     247\n",
      " 3      29\n",
      " 4       7\n",
      " 8       3\n",
      " 5       2\n",
      " 7       2\n",
      " 6       1\n",
      "Name: pay_0, dtype: int64\n",
      "----------\n",
      "pay_2\n",
      "\n",
      " 0    1607\n",
      "-1     580\n",
      " 2     374\n",
      "-2     353\n",
      " 3      32\n",
      " 4       8\n",
      " 1       4\n",
      " 7       3\n",
      " 5       2\n",
      " 6       2\n",
      "Name: pay_2, dtype: int64\n",
      "----------\n",
      "pay_3\n",
      "\n",
      " 0    1610\n",
      "-1     580\n",
      " 2     368\n",
      "-2     367\n",
      " 3      22\n",
      " 4       8\n",
      " 6       4\n",
      " 5       3\n",
      " 7       3\n",
      "Name: pay_3, dtype: int64\n",
      "----------\n",
      "pay_4\n",
      "\n",
      " 0    1667\n",
      "-1     532\n",
      "-2     408\n",
      " 2     324\n",
      " 3      14\n",
      " 4       7\n",
      " 7       6\n",
      " 5       5\n",
      " 6       1\n",
      " 8       1\n",
      "Name: pay_4, dtype: int64\n",
      "----------\n",
      "pay_5\n",
      "\n",
      " 0    1702\n",
      "-1     504\n",
      "-2     441\n",
      " 2     280\n",
      " 3      19\n",
      " 4       9\n",
      " 7       7\n",
      " 5       2\n",
      " 6       1\n",
      "Name: pay_5, dtype: int64\n",
      "----------\n",
      "pay_6\n",
      "\n",
      " 0    1626\n",
      "-1     540\n",
      "-2     470\n",
      " 2     297\n",
      " 3      21\n",
      " 7       6\n",
      " 6       3\n",
      " 4       2\n",
      "Name: pay_6, dtype: int64\n",
      "----------\n",
      "default_payment_next_month\n",
      "\n",
      "0    2330\n",
      "1     635\n",
      "Name: default_payment_next_month, dtype: int64\n",
      "----------\n"
     ]
    }
   ],
   "source": [
    "for i in categorical:\n",
    "    print(i)\n",
    "    print()\n",
    "    print(df[i].value_counts())\n",
    "    print('-' * 10)"
   ]
  },
  {
   "cell_type": "markdown",
   "metadata": {},
   "source": [
    "View the results of the function to see the number of unique data contained in each categorical column."
   ]
  },
  {
   "cell_type": "markdown",
   "metadata": {},
   "source": [
    "Based on the initial review, the following information was obtained:\n",
    "- there are duplicated data\n",
    "- there are no missing values\n",
    "- there are columns in the form of numerical and categorical data even though they are in the form of numbers"
   ]
  },
  {
   "cell_type": "markdown",
   "metadata": {},
   "source": [
    "### Data Cleaning"
   ]
  },
  {
   "cell_type": "code",
   "execution_count": 13,
   "metadata": {},
   "outputs": [
    {
     "data": {
      "text/html": [
       "<div>\n",
       "<style scoped>\n",
       "    .dataframe tbody tr th:only-of-type {\n",
       "        vertical-align: middle;\n",
       "    }\n",
       "\n",
       "    .dataframe tbody tr th {\n",
       "        vertical-align: top;\n",
       "    }\n",
       "\n",
       "    .dataframe thead th {\n",
       "        text-align: right;\n",
       "    }\n",
       "</style>\n",
       "<table border=\"1\" class=\"dataframe\">\n",
       "  <thead>\n",
       "    <tr style=\"text-align: right;\">\n",
       "      <th></th>\n",
       "      <th>limit_balance</th>\n",
       "      <th>sex</th>\n",
       "      <th>education_level</th>\n",
       "      <th>marital_status</th>\n",
       "      <th>age</th>\n",
       "      <th>pay_0</th>\n",
       "      <th>pay_2</th>\n",
       "      <th>pay_3</th>\n",
       "      <th>pay_4</th>\n",
       "      <th>pay_5</th>\n",
       "      <th>pay_6</th>\n",
       "      <th>bill_amt_1</th>\n",
       "      <th>bill_amt_2</th>\n",
       "      <th>bill_amt_3</th>\n",
       "      <th>bill_amt_4</th>\n",
       "      <th>bill_amt_5</th>\n",
       "      <th>bill_amt_6</th>\n",
       "      <th>pay_amt_1</th>\n",
       "      <th>pay_amt_2</th>\n",
       "      <th>pay_amt_3</th>\n",
       "      <th>pay_amt_4</th>\n",
       "      <th>pay_amt_5</th>\n",
       "      <th>pay_amt_6</th>\n",
       "      <th>default_payment_next_month</th>\n",
       "    </tr>\n",
       "  </thead>\n",
       "  <tbody>\n",
       "    <tr>\n",
       "      <th>0</th>\n",
       "      <td>130000</td>\n",
       "      <td>1</td>\n",
       "      <td>1</td>\n",
       "      <td>1</td>\n",
       "      <td>45</td>\n",
       "      <td>0</td>\n",
       "      <td>0</td>\n",
       "      <td>0</td>\n",
       "      <td>0</td>\n",
       "      <td>0</td>\n",
       "      <td>0</td>\n",
       "      <td>58180</td>\n",
       "      <td>59134</td>\n",
       "      <td>61156</td>\n",
       "      <td>62377</td>\n",
       "      <td>63832</td>\n",
       "      <td>65099</td>\n",
       "      <td>2886</td>\n",
       "      <td>2908</td>\n",
       "      <td>2129</td>\n",
       "      <td>2354</td>\n",
       "      <td>2366</td>\n",
       "      <td>2291</td>\n",
       "      <td>0</td>\n",
       "    </tr>\n",
       "    <tr>\n",
       "      <th>1</th>\n",
       "      <td>230000</td>\n",
       "      <td>1</td>\n",
       "      <td>2</td>\n",
       "      <td>1</td>\n",
       "      <td>41</td>\n",
       "      <td>0</td>\n",
       "      <td>0</td>\n",
       "      <td>0</td>\n",
       "      <td>0</td>\n",
       "      <td>0</td>\n",
       "      <td>0</td>\n",
       "      <td>301038</td>\n",
       "      <td>305327</td>\n",
       "      <td>213058</td>\n",
       "      <td>216260</td>\n",
       "      <td>215968</td>\n",
       "      <td>174195</td>\n",
       "      <td>9405</td>\n",
       "      <td>7769</td>\n",
       "      <td>7757</td>\n",
       "      <td>8030</td>\n",
       "      <td>6549</td>\n",
       "      <td>5226</td>\n",
       "      <td>1</td>\n",
       "    </tr>\n",
       "  </tbody>\n",
       "</table>\n",
       "</div>"
      ],
      "text/plain": [
       "   limit_balance  sex  education_level  marital_status  age  pay_0  pay_2  \\\n",
       "0         130000    1                1               1   45      0      0   \n",
       "1         230000    1                2               1   41      0      0   \n",
       "\n",
       "   pay_3  pay_4  pay_5  pay_6  bill_amt_1  bill_amt_2  bill_amt_3  bill_amt_4  \\\n",
       "0      0      0      0      0       58180       59134       61156       62377   \n",
       "1      0      0      0      0      301038      305327      213058      216260   \n",
       "\n",
       "   bill_amt_5  bill_amt_6  pay_amt_1  pay_amt_2  pay_amt_3  pay_amt_4  \\\n",
       "0       63832       65099       2886       2908       2129       2354   \n",
       "1      215968      174195       9405       7769       7757       8030   \n",
       "\n",
       "   pay_amt_5  pay_amt_6  default_payment_next_month  \n",
       "0       2366       2291                           0  \n",
       "1       6549       5226                           1  "
      ]
     },
     "execution_count": 13,
     "metadata": {},
     "output_type": "execute_result"
    }
   ],
   "source": [
    "#duplicated data\n",
    "df_clean = df.copy()\n",
    "df_clean.head(2)"
   ]
  },
  {
   "cell_type": "markdown",
   "metadata": {},
   "source": [
    "Duplicate df to df_clean so as not to change the dataset at the start"
   ]
  },
  {
   "cell_type": "code",
   "execution_count": 14,
   "metadata": {},
   "outputs": [
    {
     "data": {
      "text/plain": [
       "(1, 24)"
      ]
     },
     "execution_count": 14,
     "metadata": {},
     "output_type": "execute_result"
    }
   ],
   "source": [
    "df_clean[df_clean.duplicated()].shape"
   ]
  },
  {
   "cell_type": "markdown",
   "metadata": {},
   "source": [
    "Removing duplicate data because it is considered to provide excess information."
   ]
  },
  {
   "cell_type": "code",
   "execution_count": 15,
   "metadata": {},
   "outputs": [
    {
     "data": {
      "text/plain": [
       "(0, 24)"
      ]
     },
     "execution_count": 15,
     "metadata": {},
     "output_type": "execute_result"
    }
   ],
   "source": [
    "df_clean.drop_duplicates(inplace=True)\n",
    "\n",
    "df_clean[df_clean.duplicated()].shape"
   ]
  },
  {
   "cell_type": "markdown",
   "metadata": {},
   "source": [
    "### Rename column pay_0 to pay_1"
   ]
  },
  {
   "cell_type": "code",
   "execution_count": 16,
   "metadata": {},
   "outputs": [],
   "source": [
    "df_clean.rename(columns={'pay_0' : 'pay_1'},inplace=True)"
   ]
  },
  {
   "cell_type": "markdown",
   "metadata": {},
   "source": [
    "### Doing a replace for the data in the education_level and marital status columns"
   ]
  },
  {
   "cell_type": "markdown",
   "metadata": {},
   "source": [
    "### FE education_level"
   ]
  },
  {
   "cell_type": "code",
   "execution_count": 17,
   "metadata": {},
   "outputs": [
    {
     "data": {
      "text/plain": [
       "2    1400\n",
       "1    1038\n",
       "3     483\n",
       "4      43\n",
       "Name: education_level, dtype: int64"
      ]
     },
     "execution_count": 17,
     "metadata": {},
     "output_type": "execute_result"
    }
   ],
   "source": [
    "df_clean['education_level']=df_clean['education_level'].replace({ 5 : 4 , 6 : 4 ,0: 4})\n",
    "df_clean['education_level'].value_counts()"
   ]
  },
  {
   "cell_type": "markdown",
   "metadata": {},
   "source": [
    "### FE marital_status"
   ]
  },
  {
   "cell_type": "code",
   "execution_count": 18,
   "metadata": {},
   "outputs": [
    {
     "data": {
      "text/plain": [
       "array([1, 2, 3, 0], dtype=int64)"
      ]
     },
     "execution_count": 18,
     "metadata": {},
     "output_type": "execute_result"
    }
   ],
   "source": [
    "df_clean['marital_status'].unique()"
   ]
  },
  {
   "cell_type": "code",
   "execution_count": 19,
   "metadata": {},
   "outputs": [
    {
     "data": {
      "text/plain": [
       "2    1594\n",
       "1    1331\n",
       "3      39\n",
       "Name: marital_status, dtype: int64"
      ]
     },
     "execution_count": 19,
     "metadata": {},
     "output_type": "execute_result"
    }
   ],
   "source": [
    "df_clean['marital_status']=df_clean['marital_status'].replace({ 0: 3})\n",
    "df_clean['marital_status'].value_counts()"
   ]
  },
  {
   "cell_type": "markdown",
   "metadata": {},
   "source": [
    "### FE pay_1, - pay_6"
   ]
  },
  {
   "cell_type": "code",
   "execution_count": 20,
   "metadata": {},
   "outputs": [
    {
     "data": {
      "text/plain": [
       "pay_1  pay_2  pay_3  pay_4  pay_5  pay_6\n",
       " 0      0      0      0      0      0       992\n",
       "-1     -1     -1     -1     -1     -1       467\n",
       " 1     -1     -1     -1     -1     -1       125\n",
       " 0      0      0      0      0     -1        64\n",
       " 2      2      2      2      2      2        53\n",
       "                                           ... \n",
       " 1      2     -1     -1     -1      0         1\n",
       "                             0      0         1\n",
       "                      0      0      0         1\n",
       "                      2      0      0         1\n",
       "       -1     -1     -1      2     -1         1\n",
       "Length: 286, dtype: int64"
      ]
     },
     "execution_count": 20,
     "metadata": {},
     "output_type": "execute_result"
    }
   ],
   "source": [
    "df_clean[['pay_1', 'pay_2', 'pay_3', 'pay_4', 'pay_5', 'pay_6']]=df_clean[['pay_1', 'pay_2', 'pay_3', 'pay_4', 'pay_5', 'pay_6']].replace({ -2: -1})\n",
    "df_clean[['pay_1', 'pay_2', 'pay_3', 'pay_4', 'pay_5', 'pay_6']].value_counts()"
   ]
  },
  {
   "cell_type": "markdown",
   "metadata": {},
   "source": [
    "The process carried out in the several stages above is as follows:\n",
    "- make a copy of the data so that the initial data does not change\n",
    "- drop duplicated data\n",
    "- Changed column name pay_0 to pay_1\n",
    "- In the education_level column, the unique values 0, 5, and 6 are changed to the value 4\n",
    "- In the marital_status column, the unique value 0 is changed to 3\n",
    "- In the pay_1 to pay_6 columns, combine the values -2 into -1. Replace the data in the education_level and marital status columns"
   ]
  },
  {
   "cell_type": "markdown",
   "metadata": {},
   "source": [
    "## 4.Exploratory Data Analysis (EDA)\n"
   ]
  },
  {
   "cell_type": "code",
   "execution_count": 21,
   "metadata": {},
   "outputs": [
    {
     "data": {
      "text/html": [
       "<div>\n",
       "<style scoped>\n",
       "    .dataframe tbody tr th:only-of-type {\n",
       "        vertical-align: middle;\n",
       "    }\n",
       "\n",
       "    .dataframe tbody tr th {\n",
       "        vertical-align: top;\n",
       "    }\n",
       "\n",
       "    .dataframe thead th {\n",
       "        text-align: right;\n",
       "    }\n",
       "</style>\n",
       "<table border=\"1\" class=\"dataframe\">\n",
       "  <thead>\n",
       "    <tr style=\"text-align: right;\">\n",
       "      <th></th>\n",
       "      <th>limit_balance</th>\n",
       "      <th>sex</th>\n",
       "      <th>education_level</th>\n",
       "      <th>marital_status</th>\n",
       "      <th>age</th>\n",
       "      <th>pay_1</th>\n",
       "      <th>pay_2</th>\n",
       "      <th>pay_3</th>\n",
       "      <th>pay_4</th>\n",
       "      <th>pay_5</th>\n",
       "      <th>pay_6</th>\n",
       "      <th>bill_amt_1</th>\n",
       "      <th>bill_amt_2</th>\n",
       "      <th>bill_amt_3</th>\n",
       "      <th>bill_amt_4</th>\n",
       "      <th>bill_amt_5</th>\n",
       "      <th>bill_amt_6</th>\n",
       "      <th>pay_amt_1</th>\n",
       "      <th>pay_amt_2</th>\n",
       "      <th>pay_amt_3</th>\n",
       "      <th>pay_amt_4</th>\n",
       "      <th>pay_amt_5</th>\n",
       "      <th>pay_amt_6</th>\n",
       "      <th>default_payment_next_month</th>\n",
       "    </tr>\n",
       "  </thead>\n",
       "  <tbody>\n",
       "    <tr>\n",
       "      <th>0</th>\n",
       "      <td>130000</td>\n",
       "      <td>1</td>\n",
       "      <td>1</td>\n",
       "      <td>1</td>\n",
       "      <td>45</td>\n",
       "      <td>0</td>\n",
       "      <td>0</td>\n",
       "      <td>0</td>\n",
       "      <td>0</td>\n",
       "      <td>0</td>\n",
       "      <td>0</td>\n",
       "      <td>58180</td>\n",
       "      <td>59134</td>\n",
       "      <td>61156</td>\n",
       "      <td>62377</td>\n",
       "      <td>63832</td>\n",
       "      <td>65099</td>\n",
       "      <td>2886</td>\n",
       "      <td>2908</td>\n",
       "      <td>2129</td>\n",
       "      <td>2354</td>\n",
       "      <td>2366</td>\n",
       "      <td>2291</td>\n",
       "      <td>0</td>\n",
       "    </tr>\n",
       "    <tr>\n",
       "      <th>1</th>\n",
       "      <td>230000</td>\n",
       "      <td>1</td>\n",
       "      <td>2</td>\n",
       "      <td>1</td>\n",
       "      <td>41</td>\n",
       "      <td>0</td>\n",
       "      <td>0</td>\n",
       "      <td>0</td>\n",
       "      <td>0</td>\n",
       "      <td>0</td>\n",
       "      <td>0</td>\n",
       "      <td>301038</td>\n",
       "      <td>305327</td>\n",
       "      <td>213058</td>\n",
       "      <td>216260</td>\n",
       "      <td>215968</td>\n",
       "      <td>174195</td>\n",
       "      <td>9405</td>\n",
       "      <td>7769</td>\n",
       "      <td>7757</td>\n",
       "      <td>8030</td>\n",
       "      <td>6549</td>\n",
       "      <td>5226</td>\n",
       "      <td>1</td>\n",
       "    </tr>\n",
       "  </tbody>\n",
       "</table>\n",
       "</div>"
      ],
      "text/plain": [
       "   limit_balance  sex  education_level  marital_status  age  pay_1  pay_2  \\\n",
       "0         130000    1                1               1   45      0      0   \n",
       "1         230000    1                2               1   41      0      0   \n",
       "\n",
       "   pay_3  pay_4  pay_5  pay_6  bill_amt_1  bill_amt_2  bill_amt_3  bill_amt_4  \\\n",
       "0      0      0      0      0       58180       59134       61156       62377   \n",
       "1      0      0      0      0      301038      305327      213058      216260   \n",
       "\n",
       "   bill_amt_5  bill_amt_6  pay_amt_1  pay_amt_2  pay_amt_3  pay_amt_4  \\\n",
       "0       63832       65099       2886       2908       2129       2354   \n",
       "1      215968      174195       9405       7769       7757       8030   \n",
       "\n",
       "   pay_amt_5  pay_amt_6  default_payment_next_month  \n",
       "0       2366       2291                           0  \n",
       "1       6549       5226                           1  "
      ]
     },
     "execution_count": 21,
     "metadata": {},
     "output_type": "execute_result"
    }
   ],
   "source": [
    "df_clean.head(2)"
   ]
  },
  {
   "cell_type": "code",
   "execution_count": 22,
   "metadata": {},
   "outputs": [
    {
     "data": {
      "text/html": [
       "<div>\n",
       "<style scoped>\n",
       "    .dataframe tbody tr th:only-of-type {\n",
       "        vertical-align: middle;\n",
       "    }\n",
       "\n",
       "    .dataframe tbody tr th {\n",
       "        vertical-align: top;\n",
       "    }\n",
       "\n",
       "    .dataframe thead th {\n",
       "        text-align: right;\n",
       "    }\n",
       "</style>\n",
       "<table border=\"1\" class=\"dataframe\">\n",
       "  <thead>\n",
       "    <tr style=\"text-align: right;\">\n",
       "      <th></th>\n",
       "      <th>index</th>\n",
       "      <th>default_payment_next_month</th>\n",
       "    </tr>\n",
       "  </thead>\n",
       "  <tbody>\n",
       "    <tr>\n",
       "      <th>0</th>\n",
       "      <td>0</td>\n",
       "      <td>2329</td>\n",
       "    </tr>\n",
       "    <tr>\n",
       "      <th>1</th>\n",
       "      <td>1</td>\n",
       "      <td>635</td>\n",
       "    </tr>\n",
       "  </tbody>\n",
       "</table>\n",
       "</div>"
      ],
      "text/plain": [
       "   index  default_payment_next_month\n",
       "0      0                        2329\n",
       "1      1                         635"
      ]
     },
     "execution_count": 22,
     "metadata": {},
     "output_type": "execute_result"
    }
   ],
   "source": [
    "df_clean['default_payment_next_month'].value_counts().reset_index()"
   ]
  },
  {
   "cell_type": "code",
   "execution_count": 23,
   "metadata": {},
   "outputs": [
    {
     "data": {
      "text/plain": [
       "<AxesSubplot:>"
      ]
     },
     "execution_count": 23,
     "metadata": {},
     "output_type": "execute_result"
    },
    {
     "data": {
      "image/png": "[encoded data removed]",
      "text/plain": [
       "<Figure size 432x288 with 1 Axes>"
      ]
     },
     "metadata": {
      "needs_background": "light"
     },
     "output_type": "display_data"
    }
   ],
   "source": [
    "df_clean['default_payment_next_month'].value_counts().plot(kind = 'bar')"
   ]
  },
  {
   "cell_type": "markdown",
   "metadata": {},
   "source": [
    "Displays a barplot visualization of the number of current paying clients which means clients are still able to fulfill their debt payment obligations (class 0) and the number of delinquent payment clients which means clients are unable to fulfill their debt payment obligations (class 1). The number of clients in class 0 is 2329 people and the number of clients in class 1 is 635. Because the comparison of the numbers is too far apart, this dataset can be expressed as imbalance data."
   ]
  },
  {
   "cell_type": "code",
   "execution_count": 24,
   "metadata": {},
   "outputs": [
    {
     "data": {
      "image/png": "[encoded data removed]",
      "text/plain": [
       "<Figure size 2160x720 with 1 Axes>"
      ]
     },
     "metadata": {
      "needs_background": "light"
     },
     "output_type": "display_data"
    }
   ],
   "source": [
    "plt.figure(figsize = (30,10))\n",
    "plt.title('education_level by default_payment_next_month', fontsize=24)\n",
    "sns.countplot(data=df_clean.sort_values(by='education_level'), x='education_level', hue='default_payment_next_month', palette=\"Set2\")\n",
    "plt.xticks( fontsize=14)\n",
    "plt.yticks(fontsize=14)\n",
    "plt.legend(loc=2, fontsize=14)\n",
    "plt.show()"
   ]
  },
  {
   "cell_type": "markdown",
   "metadata": {},
   "source": [
    "Displays a visualization based on the number of clients who are in class 0 or class 1 with the client's education level."
   ]
  },
  {
   "cell_type": "code",
   "execution_count": 25,
   "metadata": {},
   "outputs": [
    {
     "data": {
      "text/plain": [
       "<AxesSubplot:xlabel='default_payment_next_month', ylabel='age'>"
      ]
     },
     "execution_count": 25,
     "metadata": {},
     "output_type": "execute_result"
    },
    {
     "data": {
      "image/png": "[encoded data removed]",
      "text/plain": [
       "<Figure size 432x288 with 1 Axes>"
      ]
     },
     "metadata": {
      "needs_background": "light"
     },
     "output_type": "display_data"
    }
   ],
   "source": [
    "sns.boxplot(data=df_clean, x='default_payment_next_month', y='age')"
   ]
  },
  {
   "cell_type": "markdown",
   "metadata": {},
   "source": [
    "Displays a boxplot visualization of the client's age range based on class 0 or class 1 targets. From the boxplot results above between age and default_payment_next_month, information is obtained that visually there are outliers, but it needs to be tested whether they are true outliers or not at a later stage"
   ]
  },
  {
   "cell_type": "code",
   "execution_count": 26,
   "metadata": {},
   "outputs": [
    {
     "data": {
      "text/html": [
       "<div>\n",
       "<style scoped>\n",
       "    .dataframe tbody tr th:only-of-type {\n",
       "        vertical-align: middle;\n",
       "    }\n",
       "\n",
       "    .dataframe tbody tr th {\n",
       "        vertical-align: top;\n",
       "    }\n",
       "\n",
       "    .dataframe thead th {\n",
       "        text-align: right;\n",
       "    }\n",
       "</style>\n",
       "<table border=\"1\" class=\"dataframe\">\n",
       "  <thead>\n",
       "    <tr style=\"text-align: right;\">\n",
       "      <th></th>\n",
       "      <th>index</th>\n",
       "      <th>sex</th>\n",
       "    </tr>\n",
       "  </thead>\n",
       "  <tbody>\n",
       "    <tr>\n",
       "      <th>0</th>\n",
       "      <td>2</td>\n",
       "      <td>1801</td>\n",
       "    </tr>\n",
       "    <tr>\n",
       "      <th>1</th>\n",
       "      <td>1</td>\n",
       "      <td>1163</td>\n",
       "    </tr>\n",
       "  </tbody>\n",
       "</table>\n",
       "</div>"
      ],
      "text/plain": [
       "   index   sex\n",
       "0      2  1801\n",
       "1      1  1163"
      ]
     },
     "execution_count": 26,
     "metadata": {},
     "output_type": "execute_result"
    }
   ],
   "source": [
    "df_clean['sex'].value_counts().reset_index()"
   ]
  },
  {
   "cell_type": "code",
   "execution_count": 27,
   "metadata": {},
   "outputs": [
    {
     "data": {
      "text/plain": [
       "<AxesSubplot:ylabel='sex'>"
      ]
     },
     "execution_count": 27,
     "metadata": {},
     "output_type": "execute_result"
    },
    {
     "data": {
      "image/png": "[encoded data removed]",
      "text/plain": [
       "<Figure size 432x288 with 1 Axes>"
      ]
     },
     "metadata": {
      "needs_background": "light"
     },
     "output_type": "display_data"
    }
   ],
   "source": [
    "df_clean.groupby('sex')[['default_payment_next_month']].count().sort_values('default_payment_next_month').plot(kind='barh')"
   ]
  },
  {
   "cell_type": "markdown",
   "metadata": {},
   "source": [
    "Displays a visualization of clients entering class 0 or class 1 based on gender."
   ]
  },
  {
   "cell_type": "markdown",
   "metadata": {},
   "source": [
    "EDA for analysis is carried out for simple data analysis with the aim of seeing the relationship between several columns. The following are the results of the EDA for analysis:\n",
    "1. Find out the comparison between class 0 and class 1 (1=yes, 0=no) in the column `default_payment_next_month`. The result is:\n",
    "- class 0 is a client with smooth payments, which means that the client is still able to fulfill their debt payment obligations\n",
    "- class 1 is a client with bad payments which means the client is unable to fulfill their debt payment obligations.\n",
    "- The number of clients in class 0 is 2325 people and the number of clients in class 1 is 634 people. Because the comparison of the numbers is too far apart, this dataset can be declared as an imbalance.\n",
    "\n",
    "2. `education_level` to `default_payment_next_month`: clients with grade 2 or university education levels have the highest number compared to other education levels.\n",
    "\n",
    "3. `age` to `default_payment_next_month` : the boxplot shown shows the age range of clients using credit cards. Generally credit card users in Taiwan are around the age of 30 to around 40 years old.\n",
    "\n",
    "4. `sex` against `default_payment_next_month` : displays comparison of credit card users based on gender. The number of female clients is 1800 people and the number of male clients is 1159 people. The number of female clients is more than the number of male clients."
   ]
  },
  {
   "cell_type": "markdown",
   "metadata": {},
   "source": [
    "#### Split data into Train, Test and Inference"
   ]
  },
  {
   "cell_type": "code",
   "execution_count": 28,
   "metadata": {},
   "outputs": [
    {
     "data": {
      "text/html": [
       "<div>\n",
       "<style scoped>\n",
       "    .dataframe tbody tr th:only-of-type {\n",
       "        vertical-align: middle;\n",
       "    }\n",
       "\n",
       "    .dataframe tbody tr th {\n",
       "        vertical-align: top;\n",
       "    }\n",
       "\n",
       "    .dataframe thead th {\n",
       "        text-align: right;\n",
       "    }\n",
       "</style>\n",
       "<table border=\"1\" class=\"dataframe\">\n",
       "  <thead>\n",
       "    <tr style=\"text-align: right;\">\n",
       "      <th></th>\n",
       "      <th>limit_balance</th>\n",
       "      <th>sex</th>\n",
       "      <th>education_level</th>\n",
       "      <th>marital_status</th>\n",
       "      <th>age</th>\n",
       "      <th>pay_1</th>\n",
       "      <th>pay_2</th>\n",
       "      <th>pay_3</th>\n",
       "      <th>pay_4</th>\n",
       "      <th>pay_5</th>\n",
       "      <th>pay_6</th>\n",
       "      <th>bill_amt_1</th>\n",
       "      <th>bill_amt_2</th>\n",
       "      <th>bill_amt_3</th>\n",
       "      <th>bill_amt_4</th>\n",
       "      <th>bill_amt_5</th>\n",
       "      <th>bill_amt_6</th>\n",
       "      <th>pay_amt_1</th>\n",
       "      <th>pay_amt_2</th>\n",
       "      <th>pay_amt_3</th>\n",
       "      <th>pay_amt_4</th>\n",
       "      <th>pay_amt_5</th>\n",
       "      <th>pay_amt_6</th>\n",
       "      <th>default_payment_next_month</th>\n",
       "    </tr>\n",
       "  </thead>\n",
       "  <tbody>\n",
       "    <tr>\n",
       "      <th>91</th>\n",
       "      <td>180000</td>\n",
       "      <td>1</td>\n",
       "      <td>1</td>\n",
       "      <td>1</td>\n",
       "      <td>35</td>\n",
       "      <td>0</td>\n",
       "      <td>0</td>\n",
       "      <td>0</td>\n",
       "      <td>0</td>\n",
       "      <td>0</td>\n",
       "      <td>0</td>\n",
       "      <td>170128</td>\n",
       "      <td>172258</td>\n",
       "      <td>138807</td>\n",
       "      <td>132806</td>\n",
       "      <td>135603</td>\n",
       "      <td>137803</td>\n",
       "      <td>7187</td>\n",
       "      <td>5000</td>\n",
       "      <td>4749</td>\n",
       "      <td>5141</td>\n",
       "      <td>4916</td>\n",
       "      <td>4000</td>\n",
       "      <td>0</td>\n",
       "    </tr>\n",
       "    <tr>\n",
       "      <th>325</th>\n",
       "      <td>20000</td>\n",
       "      <td>1</td>\n",
       "      <td>3</td>\n",
       "      <td>2</td>\n",
       "      <td>38</td>\n",
       "      <td>0</td>\n",
       "      <td>0</td>\n",
       "      <td>0</td>\n",
       "      <td>0</td>\n",
       "      <td>0</td>\n",
       "      <td>0</td>\n",
       "      <td>18878</td>\n",
       "      <td>19286</td>\n",
       "      <td>18977</td>\n",
       "      <td>18335</td>\n",
       "      <td>18718</td>\n",
       "      <td>18475</td>\n",
       "      <td>1318</td>\n",
       "      <td>1289</td>\n",
       "      <td>647</td>\n",
       "      <td>669</td>\n",
       "      <td>664</td>\n",
       "      <td>682</td>\n",
       "      <td>0</td>\n",
       "    </tr>\n",
       "    <tr>\n",
       "      <th>47</th>\n",
       "      <td>240000</td>\n",
       "      <td>1</td>\n",
       "      <td>1</td>\n",
       "      <td>1</td>\n",
       "      <td>35</td>\n",
       "      <td>0</td>\n",
       "      <td>0</td>\n",
       "      <td>0</td>\n",
       "      <td>0</td>\n",
       "      <td>0</td>\n",
       "      <td>0</td>\n",
       "      <td>188964</td>\n",
       "      <td>183744</td>\n",
       "      <td>168683</td>\n",
       "      <td>155064</td>\n",
       "      <td>148969</td>\n",
       "      <td>148619</td>\n",
       "      <td>8000</td>\n",
       "      <td>6017</td>\n",
       "      <td>6900</td>\n",
       "      <td>5250</td>\n",
       "      <td>5400</td>\n",
       "      <td>6200</td>\n",
       "      <td>0</td>\n",
       "    </tr>\n",
       "    <tr>\n",
       "      <th>2848</th>\n",
       "      <td>240000</td>\n",
       "      <td>2</td>\n",
       "      <td>2</td>\n",
       "      <td>2</td>\n",
       "      <td>30</td>\n",
       "      <td>-1</td>\n",
       "      <td>-1</td>\n",
       "      <td>0</td>\n",
       "      <td>-1</td>\n",
       "      <td>-1</td>\n",
       "      <td>-1</td>\n",
       "      <td>4684</td>\n",
       "      <td>18412</td>\n",
       "      <td>16580</td>\n",
       "      <td>416</td>\n",
       "      <td>416</td>\n",
       "      <td>416</td>\n",
       "      <td>18432</td>\n",
       "      <td>1416</td>\n",
       "      <td>16580</td>\n",
       "      <td>416</td>\n",
       "      <td>416</td>\n",
       "      <td>416</td>\n",
       "      <td>1</td>\n",
       "    </tr>\n",
       "    <tr>\n",
       "      <th>446</th>\n",
       "      <td>150000</td>\n",
       "      <td>1</td>\n",
       "      <td>2</td>\n",
       "      <td>1</td>\n",
       "      <td>41</td>\n",
       "      <td>0</td>\n",
       "      <td>0</td>\n",
       "      <td>0</td>\n",
       "      <td>0</td>\n",
       "      <td>0</td>\n",
       "      <td>0</td>\n",
       "      <td>19350</td>\n",
       "      <td>20703</td>\n",
       "      <td>10403</td>\n",
       "      <td>10927</td>\n",
       "      <td>11598</td>\n",
       "      <td>13235</td>\n",
       "      <td>2000</td>\n",
       "      <td>3000</td>\n",
       "      <td>1000</td>\n",
       "      <td>1000</td>\n",
       "      <td>2000</td>\n",
       "      <td>2000</td>\n",
       "      <td>0</td>\n",
       "    </tr>\n",
       "  </tbody>\n",
       "</table>\n",
       "</div>"
      ],
      "text/plain": [
       "      limit_balance  sex  education_level  marital_status  age  pay_1  pay_2  \\\n",
       "91           180000    1                1               1   35      0      0   \n",
       "325           20000    1                3               2   38      0      0   \n",
       "47           240000    1                1               1   35      0      0   \n",
       "2848         240000    2                2               2   30     -1     -1   \n",
       "446          150000    1                2               1   41      0      0   \n",
       "\n",
       "      pay_3  pay_4  pay_5  pay_6  bill_amt_1  bill_amt_2  bill_amt_3  \\\n",
       "91        0      0      0      0      170128      172258      138807   \n",
       "325       0      0      0      0       18878       19286       18977   \n",
       "47        0      0      0      0      188964      183744      168683   \n",
       "2848      0     -1     -1     -1        4684       18412       16580   \n",
       "446       0      0      0      0       19350       20703       10403   \n",
       "\n",
       "      bill_amt_4  bill_amt_5  bill_amt_6  pay_amt_1  pay_amt_2  pay_amt_3  \\\n",
       "91        132806      135603      137803       7187       5000       4749   \n",
       "325        18335       18718       18475       1318       1289        647   \n",
       "47        155064      148969      148619       8000       6017       6900   \n",
       "2848         416         416         416      18432       1416      16580   \n",
       "446        10927       11598       13235       2000       3000       1000   \n",
       "\n",
       "      pay_amt_4  pay_amt_5  pay_amt_6  default_payment_next_month  \n",
       "91         5141       4916       4000                           0  \n",
       "325         669        664        682                           0  \n",
       "47         5250       5400       6200                           0  \n",
       "2848        416        416        416                           1  \n",
       "446        1000       2000       2000                           0  "
      ]
     },
     "execution_count": 28,
     "metadata": {},
     "output_type": "execute_result"
    }
   ],
   "source": [
    "inference = df_clean.sample(5, random_state=17)\n",
    "inference"
   ]
  },
  {
   "cell_type": "markdown",
   "metadata": {},
   "source": [
    "Setting up data inference from df_clean. data inference is data that represents data from the real world. This data inference will be used in model inference which aims to test the model that has been made to work or not when new data is entered besides train data and test data"
   ]
  },
  {
   "cell_type": "code",
   "execution_count": 29,
   "metadata": {},
   "outputs": [],
   "source": [
    "df_clean = df_clean.drop(inference.index)"
   ]
  },
  {
   "cell_type": "markdown",
   "metadata": {},
   "source": [
    "Separate data inference from variable data df_clean."
   ]
  },
  {
   "cell_type": "code",
   "execution_count": 30,
   "metadata": {},
   "outputs": [
    {
     "data": {
      "text/plain": [
       "(2959, 24)"
      ]
     },
     "execution_count": 30,
     "metadata": {},
     "output_type": "execute_result"
    }
   ],
   "source": [
    "df_clean.shape"
   ]
  },
  {
   "cell_type": "markdown",
   "metadata": {},
   "source": [
    "After the data inference is separated, df_clean is reduced to 2959 rows and 24 columns."
   ]
  },
  {
   "cell_type": "code",
   "execution_count": 31,
   "metadata": {},
   "outputs": [
    {
     "data": {
      "text/html": [
       "<div>\n",
       "<style scoped>\n",
       "    .dataframe tbody tr th:only-of-type {\n",
       "        vertical-align: middle;\n",
       "    }\n",
       "\n",
       "    .dataframe tbody tr th {\n",
       "        vertical-align: top;\n",
       "    }\n",
       "\n",
       "    .dataframe thead th {\n",
       "        text-align: right;\n",
       "    }\n",
       "</style>\n",
       "<table border=\"1\" class=\"dataframe\">\n",
       "  <thead>\n",
       "    <tr style=\"text-align: right;\">\n",
       "      <th></th>\n",
       "      <th>limit_balance</th>\n",
       "      <th>sex</th>\n",
       "      <th>education_level</th>\n",
       "      <th>marital_status</th>\n",
       "      <th>age</th>\n",
       "      <th>pay_1</th>\n",
       "      <th>pay_2</th>\n",
       "      <th>pay_3</th>\n",
       "      <th>pay_4</th>\n",
       "      <th>pay_5</th>\n",
       "      <th>pay_6</th>\n",
       "      <th>bill_amt_1</th>\n",
       "      <th>bill_amt_2</th>\n",
       "      <th>bill_amt_3</th>\n",
       "      <th>bill_amt_4</th>\n",
       "      <th>bill_amt_5</th>\n",
       "      <th>bill_amt_6</th>\n",
       "      <th>pay_amt_1</th>\n",
       "      <th>pay_amt_2</th>\n",
       "      <th>pay_amt_3</th>\n",
       "      <th>pay_amt_4</th>\n",
       "      <th>pay_amt_5</th>\n",
       "      <th>pay_amt_6</th>\n",
       "      <th>default_payment_next_month</th>\n",
       "    </tr>\n",
       "  </thead>\n",
       "  <tbody>\n",
       "    <tr>\n",
       "      <th>0</th>\n",
       "      <td>130000</td>\n",
       "      <td>1</td>\n",
       "      <td>1</td>\n",
       "      <td>1</td>\n",
       "      <td>45</td>\n",
       "      <td>0</td>\n",
       "      <td>0</td>\n",
       "      <td>0</td>\n",
       "      <td>0</td>\n",
       "      <td>0</td>\n",
       "      <td>0</td>\n",
       "      <td>58180</td>\n",
       "      <td>59134</td>\n",
       "      <td>61156</td>\n",
       "      <td>62377</td>\n",
       "      <td>63832</td>\n",
       "      <td>65099</td>\n",
       "      <td>2886</td>\n",
       "      <td>2908</td>\n",
       "      <td>2129</td>\n",
       "      <td>2354</td>\n",
       "      <td>2366</td>\n",
       "      <td>2291</td>\n",
       "      <td>0</td>\n",
       "    </tr>\n",
       "    <tr>\n",
       "      <th>1</th>\n",
       "      <td>230000</td>\n",
       "      <td>1</td>\n",
       "      <td>2</td>\n",
       "      <td>1</td>\n",
       "      <td>41</td>\n",
       "      <td>0</td>\n",
       "      <td>0</td>\n",
       "      <td>0</td>\n",
       "      <td>0</td>\n",
       "      <td>0</td>\n",
       "      <td>0</td>\n",
       "      <td>301038</td>\n",
       "      <td>305327</td>\n",
       "      <td>213058</td>\n",
       "      <td>216260</td>\n",
       "      <td>215968</td>\n",
       "      <td>174195</td>\n",
       "      <td>9405</td>\n",
       "      <td>7769</td>\n",
       "      <td>7757</td>\n",
       "      <td>8030</td>\n",
       "      <td>6549</td>\n",
       "      <td>5226</td>\n",
       "      <td>1</td>\n",
       "    </tr>\n",
       "  </tbody>\n",
       "</table>\n",
       "</div>"
      ],
      "text/plain": [
       "   limit_balance  sex  education_level  marital_status  age  pay_1  pay_2  \\\n",
       "0         130000    1                1               1   45      0      0   \n",
       "1         230000    1                2               1   41      0      0   \n",
       "\n",
       "   pay_3  pay_4  pay_5  pay_6  bill_amt_1  bill_amt_2  bill_amt_3  bill_amt_4  \\\n",
       "0      0      0      0      0       58180       59134       61156       62377   \n",
       "1      0      0      0      0      301038      305327      213058      216260   \n",
       "\n",
       "   bill_amt_5  bill_amt_6  pay_amt_1  pay_amt_2  pay_amt_3  pay_amt_4  \\\n",
       "0       63832       65099       2886       2908       2129       2354   \n",
       "1      215968      174195       9405       7769       7757       8030   \n",
       "\n",
       "   pay_amt_5  pay_amt_6  default_payment_next_month  \n",
       "0       2366       2291                           0  \n",
       "1       6549       5226                           1  "
      ]
     },
     "execution_count": 31,
     "metadata": {},
     "output_type": "execute_result"
    }
   ],
   "source": [
    "df_clean.head(2)"
   ]
  },
  {
   "cell_type": "markdown",
   "metadata": {},
   "source": [
    "Displays the top 2 rows from df_clean."
   ]
  },
  {
   "cell_type": "code",
   "execution_count": 32,
   "metadata": {},
   "outputs": [
    {
     "name": "stdout",
     "output_type": "stream",
     "text": [
      "(2219, 23)\n",
      "(740, 23)\n",
      "(2219,)\n",
      "(740,)\n"
     ]
    }
   ],
   "source": [
    "X = df_clean.drop('default_payment_next_month', axis=1)\n",
    "y = df_clean['default_payment_next_month']\n",
    "\n",
    "X_train, X_test, y_train, y_test = train_test_split(X, y, test_size=0.25, stratify=y, random_state=0)\n",
    "\n",
    "for i in [X_train, X_test, y_train, y_test]:\n",
    "    print(i.shape)"
   ]
  },
  {
   "cell_type": "markdown",
   "metadata": {},
   "source": [
    "Dividing the data from the df_clean variable into 4 parts, namely X_train, X_test, y_train, and y_test."
   ]
  },
  {
   "cell_type": "code",
   "execution_count": 33,
   "metadata": {},
   "outputs": [
    {
     "data": {
      "text/plain": [
       "(2219, 24)"
      ]
     },
     "execution_count": 33,
     "metadata": {},
     "output_type": "execute_result"
    }
   ],
   "source": [
    "df_eda = pd.concat([X_train, y_train], axis=1)\n",
    "testing = pd.concat([X_test, y_test], axis=1)\n",
    "\n",
    "df_eda.shape"
   ]
  },
  {
   "cell_type": "markdown",
   "metadata": {},
   "source": [
    ">Combine X_train and y_train into data train with df_eda variable.\n",
    "\n",
    ">Combine X_test and y_test into test data with variable testing."
   ]
  },
  {
   "cell_type": "markdown",
   "metadata": {},
   "source": [
    "The process of dividing data into 3 dataframes, namely:\n",
    "- Inference data that will be used for model testing after the model evaluation is 5 sample data\n",
    "- data train with a magnitude of 75% of the data\n",
    "- test data with a magnitude of 25% of the data\n",
    "\n",
    "The determination of the target column and feature column is written with y for the target and x for the feature"
   ]
  },
  {
   "cell_type": "markdown",
   "metadata": {},
   "source": [
    "### EDA FOR MODELING"
   ]
  },
  {
   "cell_type": "code",
   "execution_count": 34,
   "metadata": {},
   "outputs": [
    {
     "data": {
      "text/html": [
       "<div>\n",
       "<style scoped>\n",
       "    .dataframe tbody tr th:only-of-type {\n",
       "        vertical-align: middle;\n",
       "    }\n",
       "\n",
       "    .dataframe tbody tr th {\n",
       "        vertical-align: top;\n",
       "    }\n",
       "\n",
       "    .dataframe thead th {\n",
       "        text-align: right;\n",
       "    }\n",
       "</style>\n",
       "<table border=\"1\" class=\"dataframe\">\n",
       "  <thead>\n",
       "    <tr style=\"text-align: right;\">\n",
       "      <th></th>\n",
       "      <th>limit_balance</th>\n",
       "      <th>sex</th>\n",
       "      <th>education_level</th>\n",
       "      <th>marital_status</th>\n",
       "      <th>age</th>\n",
       "      <th>pay_1</th>\n",
       "      <th>pay_2</th>\n",
       "      <th>pay_3</th>\n",
       "      <th>pay_4</th>\n",
       "      <th>pay_5</th>\n",
       "      <th>pay_6</th>\n",
       "      <th>bill_amt_1</th>\n",
       "      <th>bill_amt_2</th>\n",
       "      <th>bill_amt_3</th>\n",
       "      <th>bill_amt_4</th>\n",
       "      <th>bill_amt_5</th>\n",
       "      <th>bill_amt_6</th>\n",
       "      <th>pay_amt_1</th>\n",
       "      <th>pay_amt_2</th>\n",
       "      <th>pay_amt_3</th>\n",
       "      <th>pay_amt_4</th>\n",
       "      <th>pay_amt_5</th>\n",
       "      <th>pay_amt_6</th>\n",
       "      <th>default_payment_next_month</th>\n",
       "    </tr>\n",
       "  </thead>\n",
       "  <tbody>\n",
       "    <tr>\n",
       "      <th>291</th>\n",
       "      <td>280000</td>\n",
       "      <td>1</td>\n",
       "      <td>1</td>\n",
       "      <td>2</td>\n",
       "      <td>33</td>\n",
       "      <td>0</td>\n",
       "      <td>0</td>\n",
       "      <td>0</td>\n",
       "      <td>0</td>\n",
       "      <td>0</td>\n",
       "      <td>0</td>\n",
       "      <td>281604</td>\n",
       "      <td>283292</td>\n",
       "      <td>281327</td>\n",
       "      <td>189287</td>\n",
       "      <td>185398</td>\n",
       "      <td>184414</td>\n",
       "      <td>10000</td>\n",
       "      <td>10059</td>\n",
       "      <td>5201</td>\n",
       "      <td>5211</td>\n",
       "      <td>5500</td>\n",
       "      <td>5500</td>\n",
       "      <td>0</td>\n",
       "    </tr>\n",
       "    <tr>\n",
       "      <th>1948</th>\n",
       "      <td>20000</td>\n",
       "      <td>2</td>\n",
       "      <td>2</td>\n",
       "      <td>2</td>\n",
       "      <td>21</td>\n",
       "      <td>-1</td>\n",
       "      <td>-1</td>\n",
       "      <td>2</td>\n",
       "      <td>2</td>\n",
       "      <td>-1</td>\n",
       "      <td>-1</td>\n",
       "      <td>390</td>\n",
       "      <td>780</td>\n",
       "      <td>780</td>\n",
       "      <td>0</td>\n",
       "      <td>0</td>\n",
       "      <td>0</td>\n",
       "      <td>780</td>\n",
       "      <td>0</td>\n",
       "      <td>0</td>\n",
       "      <td>0</td>\n",
       "      <td>0</td>\n",
       "      <td>0</td>\n",
       "      <td>0</td>\n",
       "    </tr>\n",
       "  </tbody>\n",
       "</table>\n",
       "</div>"
      ],
      "text/plain": [
       "      limit_balance  sex  education_level  marital_status  age  pay_1  pay_2  \\\n",
       "291          280000    1                1               2   33      0      0   \n",
       "1948          20000    2                2               2   21     -1     -1   \n",
       "\n",
       "      pay_3  pay_4  pay_5  pay_6  bill_amt_1  bill_amt_2  bill_amt_3  \\\n",
       "291       0      0      0      0      281604      283292      281327   \n",
       "1948      2      2     -1     -1         390         780         780   \n",
       "\n",
       "      bill_amt_4  bill_amt_5  bill_amt_6  pay_amt_1  pay_amt_2  pay_amt_3  \\\n",
       "291       189287      185398      184414      10000      10059       5201   \n",
       "1948           0           0           0        780          0          0   \n",
       "\n",
       "      pay_amt_4  pay_amt_5  pay_amt_6  default_payment_next_month  \n",
       "291        5211       5500       5500                           0  \n",
       "1948          0          0          0                           0  "
      ]
     },
     "execution_count": 34,
     "metadata": {},
     "output_type": "execute_result"
    }
   ],
   "source": [
    "df_eda.head(2)"
   ]
  },
  {
   "cell_type": "code",
   "execution_count": 35,
   "metadata": {},
   "outputs": [],
   "source": [
    "num = ['limit_balance','age','bill_amt_1','bill_amt_2','bill_amt_3','bill_amt_4','bill_amt_5','bill_amt_6','pay_amt_1', 'pay_amt_2', 'pay_amt_3', 'pay_amt_4', 'pay_amt_5',\n",
    "       'pay_amt_6']\n",
    "cat = ['sex','education_level', 'marital_status','pay_1','pay_2','pay_3','pay_4', 'pay_5', 'pay_6', 'default_payment_next_month']"
   ]
  },
  {
   "cell_type": "markdown",
   "metadata": {},
   "source": [
    "Inserts numeric columns into the `num` variable and categorical columns into the `cat` variable. The goal is to simplify the next process."
   ]
  },
  {
   "cell_type": "markdown",
   "metadata": {},
   "source": [
    "#### Numerical feature"
   ]
  },
  {
   "cell_type": "code",
   "execution_count": 36,
   "metadata": {},
   "outputs": [
    {
     "data": {
      "text/html": [
       "<div>\n",
       "<style scoped>\n",
       "    .dataframe tbody tr th:only-of-type {\n",
       "        vertical-align: middle;\n",
       "    }\n",
       "\n",
       "    .dataframe tbody tr th {\n",
       "        vertical-align: top;\n",
       "    }\n",
       "\n",
       "    .dataframe thead th {\n",
       "        text-align: right;\n",
       "    }\n",
       "</style>\n",
       "<table border=\"1\" class=\"dataframe\">\n",
       "  <thead>\n",
       "    <tr style=\"text-align: right;\">\n",
       "      <th></th>\n",
       "      <th>limit_balance</th>\n",
       "      <th>age</th>\n",
       "      <th>bill_amt_1</th>\n",
       "      <th>bill_amt_2</th>\n",
       "      <th>bill_amt_3</th>\n",
       "      <th>bill_amt_4</th>\n",
       "      <th>bill_amt_5</th>\n",
       "      <th>bill_amt_6</th>\n",
       "      <th>pay_amt_1</th>\n",
       "      <th>pay_amt_2</th>\n",
       "      <th>pay_amt_3</th>\n",
       "      <th>pay_amt_4</th>\n",
       "      <th>pay_amt_5</th>\n",
       "      <th>pay_amt_6</th>\n",
       "    </tr>\n",
       "  </thead>\n",
       "  <tbody>\n",
       "    <tr>\n",
       "      <th>291</th>\n",
       "      <td>280000</td>\n",
       "      <td>33</td>\n",
       "      <td>281604</td>\n",
       "      <td>283292</td>\n",
       "      <td>281327</td>\n",
       "      <td>189287</td>\n",
       "      <td>185398</td>\n",
       "      <td>184414</td>\n",
       "      <td>10000</td>\n",
       "      <td>10059</td>\n",
       "      <td>5201</td>\n",
       "      <td>5211</td>\n",
       "      <td>5500</td>\n",
       "      <td>5500</td>\n",
       "    </tr>\n",
       "    <tr>\n",
       "      <th>1948</th>\n",
       "      <td>20000</td>\n",
       "      <td>21</td>\n",
       "      <td>390</td>\n",
       "      <td>780</td>\n",
       "      <td>780</td>\n",
       "      <td>0</td>\n",
       "      <td>0</td>\n",
       "      <td>0</td>\n",
       "      <td>780</td>\n",
       "      <td>0</td>\n",
       "      <td>0</td>\n",
       "      <td>0</td>\n",
       "      <td>0</td>\n",
       "      <td>0</td>\n",
       "    </tr>\n",
       "  </tbody>\n",
       "</table>\n",
       "</div>"
      ],
      "text/plain": [
       "      limit_balance  age  bill_amt_1  bill_amt_2  bill_amt_3  bill_amt_4  \\\n",
       "291          280000   33      281604      283292      281327      189287   \n",
       "1948          20000   21         390         780         780           0   \n",
       "\n",
       "      bill_amt_5  bill_amt_6  pay_amt_1  pay_amt_2  pay_amt_3  pay_amt_4  \\\n",
       "291       185398      184414      10000      10059       5201       5211   \n",
       "1948           0           0        780          0          0          0   \n",
       "\n",
       "      pay_amt_5  pay_amt_6  \n",
       "291        5500       5500  \n",
       "1948          0          0  "
      ]
     },
     "execution_count": 36,
     "metadata": {},
     "output_type": "execute_result"
    }
   ],
   "source": [
    "df_eda[num].head(2)"
   ]
  },
  {
   "cell_type": "markdown",
   "metadata": {},
   "source": [
    "### View data distribution based on Skewness"
   ]
  },
  {
   "cell_type": "code",
   "execution_count": 37,
   "metadata": {},
   "outputs": [
    {
     "data": {
      "text/html": [
       "<div>\n",
       "<style scoped>\n",
       "    .dataframe tbody tr th:only-of-type {\n",
       "        vertical-align: middle;\n",
       "    }\n",
       "\n",
       "    .dataframe tbody tr th {\n",
       "        vertical-align: top;\n",
       "    }\n",
       "\n",
       "    .dataframe thead th {\n",
       "        text-align: right;\n",
       "    }\n",
       "</style>\n",
       "<table border=\"1\" class=\"dataframe\">\n",
       "  <thead>\n",
       "    <tr style=\"text-align: right;\">\n",
       "      <th></th>\n",
       "      <th>0</th>\n",
       "    </tr>\n",
       "  </thead>\n",
       "  <tbody>\n",
       "    <tr>\n",
       "      <th>limit_balance</th>\n",
       "      <td>1.008381</td>\n",
       "    </tr>\n",
       "    <tr>\n",
       "      <th>age</th>\n",
       "      <td>0.767315</td>\n",
       "    </tr>\n",
       "    <tr>\n",
       "      <th>bill_amt_1</th>\n",
       "      <td>2.463961</td>\n",
       "    </tr>\n",
       "    <tr>\n",
       "      <th>bill_amt_2</th>\n",
       "      <td>2.449454</td>\n",
       "    </tr>\n",
       "    <tr>\n",
       "      <th>bill_amt_3</th>\n",
       "      <td>2.484027</td>\n",
       "    </tr>\n",
       "    <tr>\n",
       "      <th>bill_amt_4</th>\n",
       "      <td>2.419083</td>\n",
       "    </tr>\n",
       "    <tr>\n",
       "      <th>bill_amt_5</th>\n",
       "      <td>2.343106</td>\n",
       "    </tr>\n",
       "    <tr>\n",
       "      <th>bill_amt_6</th>\n",
       "      <td>2.414749</td>\n",
       "    </tr>\n",
       "    <tr>\n",
       "      <th>pay_amt_1</th>\n",
       "      <td>12.436595</td>\n",
       "    </tr>\n",
       "    <tr>\n",
       "      <th>pay_amt_2</th>\n",
       "      <td>27.789428</td>\n",
       "    </tr>\n",
       "    <tr>\n",
       "      <th>pay_amt_3</th>\n",
       "      <td>8.381181</td>\n",
       "    </tr>\n",
       "    <tr>\n",
       "      <th>pay_amt_4</th>\n",
       "      <td>8.429165</td>\n",
       "    </tr>\n",
       "    <tr>\n",
       "      <th>pay_amt_5</th>\n",
       "      <td>12.495481</td>\n",
       "    </tr>\n",
       "    <tr>\n",
       "      <th>pay_amt_6</th>\n",
       "      <td>10.179610</td>\n",
       "    </tr>\n",
       "  </tbody>\n",
       "</table>\n",
       "</div>"
      ],
      "text/plain": [
       "                       0\n",
       "limit_balance   1.008381\n",
       "age             0.767315\n",
       "bill_amt_1      2.463961\n",
       "bill_amt_2      2.449454\n",
       "bill_amt_3      2.484027\n",
       "bill_amt_4      2.419083\n",
       "bill_amt_5      2.343106\n",
       "bill_amt_6      2.414749\n",
       "pay_amt_1      12.436595\n",
       "pay_amt_2      27.789428\n",
       "pay_amt_3       8.381181\n",
       "pay_amt_4       8.429165\n",
       "pay_amt_5      12.495481\n",
       "pay_amt_6      10.179610"
      ]
     },
     "execution_count": 37,
     "metadata": {},
     "output_type": "execute_result"
    }
   ],
   "source": [
    "skew = df_eda[num].skew()\n",
    "skewness = pd.DataFrame(skew)\n",
    "skewness"
   ]
  },
  {
   "cell_type": "markdown",
   "metadata": {},
   "source": [
    "Calculates the skewness value based on the numeric columns to review whether the distribution of the data is normal distribution or abnormal distribution."
   ]
  },
  {
   "cell_type": "code",
   "execution_count": 38,
   "metadata": {},
   "outputs": [],
   "source": [
    "skewness.columns =['value']"
   ]
  },
  {
   "cell_type": "code",
   "execution_count": 39,
   "metadata": {},
   "outputs": [
    {
     "data": {
      "text/html": [
       "<div>\n",
       "<style scoped>\n",
       "    .dataframe tbody tr th:only-of-type {\n",
       "        vertical-align: middle;\n",
       "    }\n",
       "\n",
       "    .dataframe tbody tr th {\n",
       "        vertical-align: top;\n",
       "    }\n",
       "\n",
       "    .dataframe thead th {\n",
       "        text-align: right;\n",
       "    }\n",
       "</style>\n",
       "<table border=\"1\" class=\"dataframe\">\n",
       "  <thead>\n",
       "    <tr style=\"text-align: right;\">\n",
       "      <th></th>\n",
       "      <th>value</th>\n",
       "      <th>distribusi</th>\n",
       "    </tr>\n",
       "  </thead>\n",
       "  <tbody>\n",
       "    <tr>\n",
       "      <th>limit_balance</th>\n",
       "      <td>1.008381</td>\n",
       "      <td>distribusi tidak normal</td>\n",
       "    </tr>\n",
       "    <tr>\n",
       "      <th>age</th>\n",
       "      <td>0.767315</td>\n",
       "      <td>distribusi tidak normal</td>\n",
       "    </tr>\n",
       "    <tr>\n",
       "      <th>bill_amt_1</th>\n",
       "      <td>2.463961</td>\n",
       "      <td>distribusi tidak normal</td>\n",
       "    </tr>\n",
       "    <tr>\n",
       "      <th>bill_amt_2</th>\n",
       "      <td>2.449454</td>\n",
       "      <td>distribusi tidak normal</td>\n",
       "    </tr>\n",
       "    <tr>\n",
       "      <th>bill_amt_3</th>\n",
       "      <td>2.484027</td>\n",
       "      <td>distribusi tidak normal</td>\n",
       "    </tr>\n",
       "    <tr>\n",
       "      <th>bill_amt_4</th>\n",
       "      <td>2.419083</td>\n",
       "      <td>distribusi tidak normal</td>\n",
       "    </tr>\n",
       "    <tr>\n",
       "      <th>bill_amt_5</th>\n",
       "      <td>2.343106</td>\n",
       "      <td>distribusi tidak normal</td>\n",
       "    </tr>\n",
       "    <tr>\n",
       "      <th>bill_amt_6</th>\n",
       "      <td>2.414749</td>\n",
       "      <td>distribusi tidak normal</td>\n",
       "    </tr>\n",
       "    <tr>\n",
       "      <th>pay_amt_1</th>\n",
       "      <td>12.436595</td>\n",
       "      <td>distribusi tidak normal</td>\n",
       "    </tr>\n",
       "    <tr>\n",
       "      <th>pay_amt_2</th>\n",
       "      <td>27.789428</td>\n",
       "      <td>distribusi tidak normal</td>\n",
       "    </tr>\n",
       "    <tr>\n",
       "      <th>pay_amt_3</th>\n",
       "      <td>8.381181</td>\n",
       "      <td>distribusi tidak normal</td>\n",
       "    </tr>\n",
       "    <tr>\n",
       "      <th>pay_amt_4</th>\n",
       "      <td>8.429165</td>\n",
       "      <td>distribusi tidak normal</td>\n",
       "    </tr>\n",
       "    <tr>\n",
       "      <th>pay_amt_5</th>\n",
       "      <td>12.495481</td>\n",
       "      <td>distribusi tidak normal</td>\n",
       "    </tr>\n",
       "    <tr>\n",
       "      <th>pay_amt_6</th>\n",
       "      <td>10.179610</td>\n",
       "      <td>distribusi tidak normal</td>\n",
       "    </tr>\n",
       "  </tbody>\n",
       "</table>\n",
       "</div>"
      ],
      "text/plain": [
       "                   value               distribusi\n",
       "limit_balance   1.008381  distribusi tidak normal\n",
       "age             0.767315  distribusi tidak normal\n",
       "bill_amt_1      2.463961  distribusi tidak normal\n",
       "bill_amt_2      2.449454  distribusi tidak normal\n",
       "bill_amt_3      2.484027  distribusi tidak normal\n",
       "bill_amt_4      2.419083  distribusi tidak normal\n",
       "bill_amt_5      2.343106  distribusi tidak normal\n",
       "bill_amt_6      2.414749  distribusi tidak normal\n",
       "pay_amt_1      12.436595  distribusi tidak normal\n",
       "pay_amt_2      27.789428  distribusi tidak normal\n",
       "pay_amt_3       8.381181  distribusi tidak normal\n",
       "pay_amt_4       8.429165  distribusi tidak normal\n",
       "pay_amt_5      12.495481  distribusi tidak normal\n",
       "pay_amt_6      10.179610  distribusi tidak normal"
      ]
     },
     "execution_count": 39,
     "metadata": {},
     "output_type": "execute_result"
    }
   ],
   "source": [
    "skewness['distribusi']=0\n",
    "for i in skewness.index:\n",
    "  if (skewness[\"value\"][i]>= -0.5) & (skewness[\"value\"][i] <= 0.5):\n",
    "    skewness[\"distribusi\"][i]='distribusi normal'\n",
    "  else:\n",
    "    skewness[\"distribusi\"][i]='distribusi tidak normal'\n",
    "skewness"
   ]
  },
  {
   "cell_type": "markdown",
   "metadata": {},
   "source": [
    "Based on the calculation of the skewness value, it can be seen that all numerical columns have an abnormal distribution because the skewness value is above 0.5."
   ]
  },
  {
   "cell_type": "code",
   "execution_count": 40,
   "metadata": {},
   "outputs": [
    {
     "data": {
      "image/png": "[encoded data removed]",
      "text/plain": [
       "<Figure size 1728x1296 with 15 Axes>"
      ]
     },
     "metadata": {
      "needs_background": "light"
     },
     "output_type": "display_data"
    }
   ],
   "source": [
    "fig, ax = plt.subplots(ncols=3,nrows=5,figsize=(24,18))\n",
    "x=0\n",
    "for i in range(5):\n",
    "  for j in range(3):\n",
    "    try:\n",
    "      sns.distplot(df_eda[num[x]],ax=ax[i][j])\n",
    "      x+=1\n",
    "    except:\n",
    "      pass\n",
    "plt.show()"
   ]
  },
  {
   "cell_type": "markdown",
   "metadata": {},
   "source": [
    "Visualization display of numerical distribution of data"
   ]
  },
  {
   "cell_type": "code",
   "execution_count": 109,
   "metadata": {},
   "outputs": [
    {
     "data": {
      "image/png": "[encoded data removed]",
      "text/plain": [
       "<Figure size 720x2520 with 14 Axes>"
      ]
     },
     "metadata": {
      "needs_background": "light"
     },
     "output_type": "display_data"
    }
   ],
   "source": [
    "def outlier_analysis(df_eda,col):\n",
    "  skewness = df_eda[col].skew()\n",
    "  if skewness>=-0.5 and skewness<=0.5:\n",
    "    upper = df_eda[col].mean() + 3*df_eda[col].std()\n",
    "    lower = df_eda[col].mean() - 3*df_eda[col].std()\n",
    "  else:\n",
    "    Q1 = df_eda[col].quantile(0.25)\n",
    "    Q3 = df_eda[col].quantile(0.75)\n",
    "    IQR = Q3 - Q1\n",
    "    upper = Q3 + 1.5*IQR\n",
    "    lower = Q1 - 1.5*IQR\n",
    "  \n",
    "  no_outliers = df_eda[(df_eda[col]>=lower) & (df_eda[col]<=upper)]\n",
    "  outliers = df_eda[(df_eda[col]<lower) | (df_eda[col]>upper)]\n",
    "\n",
    "  return outliers,no_outliers, upper, lower\n",
    "\n",
    "fig, ax = plt.subplots(ncols=2,nrows=7,figsize=(10,35))\n",
    "x=0\n",
    "for i in range(7):\n",
    "  for j in range(2):\n",
    "    try:\n",
    "      out,no_out, up, low = outlier_analysis(df_eda,num[x])\n",
    "      sns.boxplot(df_eda[num[x]],ax=ax[i][j])\n",
    "      ax[i][j].set_title('Persentase Outlier: {:.2f}%'.format(len(out)*100/len(df_eda)))\n",
    "      x+=1\n",
    "    except:\n",
    "      pass\n",
    "plt.show()"
   ]
  },
  {
   "cell_type": "markdown",
   "metadata": {},
   "source": [
    "Displays outlier visualization in each numeric column. The boxplot graph above is a graph on the numeric data column, from the boxplot results there are many outliers in each numeric column and you can see the number of outliers with a percentage.\n",
    "\n",
    "The average percentage of outliers is above 7% in every numerical column except the `limit_balance` and `age` columns. Outlier handling is done by capping method using winsorizer. The capping winsorizer functions to cap the testing and inference data at the modeling stage.\n",
    "\n",
    "The `age` column is not appropriate for outlier handling because capping it will destroy the original age range. for example the highest age in this dataset is 69 years old, if capping is done it will be 65 years old. This is considered to be unreasonable."
   ]
  },
  {
   "cell_type": "markdown",
   "metadata": {},
   "source": [
    "### Handling Outlier"
   ]
  },
  {
   "cell_type": "code",
   "execution_count": 42,
   "metadata": {},
   "outputs": [],
   "source": [
    "wins = Winsorizer(capping_method='iqr', tail='both', fold=1.5, variables=['limit_balance'])\n",
    "\n",
    "df_eda_cleaned = wins.fit_transform(df_eda)"
   ]
  },
  {
   "cell_type": "markdown",
   "metadata": {},
   "source": [
    "The code above is a way to cap outliers using the `iqr` capping method. Column `limit_balance` data is not normally distributed based on its skewness value so it is feasible to handle outliers."
   ]
  },
  {
   "cell_type": "code",
   "execution_count": 43,
   "metadata": {},
   "outputs": [
    {
     "data": {
      "text/html": [
       "<div>\n",
       "<style scoped>\n",
       "    .dataframe tbody tr th:only-of-type {\n",
       "        vertical-align: middle;\n",
       "    }\n",
       "\n",
       "    .dataframe tbody tr th {\n",
       "        vertical-align: top;\n",
       "    }\n",
       "\n",
       "    .dataframe thead th {\n",
       "        text-align: right;\n",
       "    }\n",
       "</style>\n",
       "<table border=\"1\" class=\"dataframe\">\n",
       "  <thead>\n",
       "    <tr style=\"text-align: right;\">\n",
       "      <th></th>\n",
       "      <th>limit_balance</th>\n",
       "      <th>sex</th>\n",
       "      <th>education_level</th>\n",
       "      <th>marital_status</th>\n",
       "      <th>age</th>\n",
       "      <th>pay_1</th>\n",
       "      <th>pay_2</th>\n",
       "      <th>pay_3</th>\n",
       "      <th>pay_4</th>\n",
       "      <th>pay_5</th>\n",
       "      <th>pay_6</th>\n",
       "      <th>bill_amt_1</th>\n",
       "      <th>bill_amt_2</th>\n",
       "      <th>bill_amt_3</th>\n",
       "      <th>bill_amt_4</th>\n",
       "      <th>bill_amt_5</th>\n",
       "      <th>bill_amt_6</th>\n",
       "      <th>pay_amt_1</th>\n",
       "      <th>pay_amt_2</th>\n",
       "      <th>pay_amt_3</th>\n",
       "      <th>pay_amt_4</th>\n",
       "      <th>pay_amt_5</th>\n",
       "      <th>pay_amt_6</th>\n",
       "      <th>default_payment_next_month</th>\n",
       "    </tr>\n",
       "  </thead>\n",
       "  <tbody>\n",
       "    <tr>\n",
       "      <th>291</th>\n",
       "      <td>280000.0</td>\n",
       "      <td>1</td>\n",
       "      <td>1</td>\n",
       "      <td>2</td>\n",
       "      <td>33</td>\n",
       "      <td>0</td>\n",
       "      <td>0</td>\n",
       "      <td>0</td>\n",
       "      <td>0</td>\n",
       "      <td>0</td>\n",
       "      <td>0</td>\n",
       "      <td>281604</td>\n",
       "      <td>283292</td>\n",
       "      <td>281327</td>\n",
       "      <td>189287</td>\n",
       "      <td>185398</td>\n",
       "      <td>184414</td>\n",
       "      <td>10000</td>\n",
       "      <td>10059</td>\n",
       "      <td>5201</td>\n",
       "      <td>5211</td>\n",
       "      <td>5500</td>\n",
       "      <td>5500</td>\n",
       "      <td>0</td>\n",
       "    </tr>\n",
       "    <tr>\n",
       "      <th>1948</th>\n",
       "      <td>20000.0</td>\n",
       "      <td>2</td>\n",
       "      <td>2</td>\n",
       "      <td>2</td>\n",
       "      <td>21</td>\n",
       "      <td>-1</td>\n",
       "      <td>-1</td>\n",
       "      <td>2</td>\n",
       "      <td>2</td>\n",
       "      <td>-1</td>\n",
       "      <td>-1</td>\n",
       "      <td>390</td>\n",
       "      <td>780</td>\n",
       "      <td>780</td>\n",
       "      <td>0</td>\n",
       "      <td>0</td>\n",
       "      <td>0</td>\n",
       "      <td>780</td>\n",
       "      <td>0</td>\n",
       "      <td>0</td>\n",
       "      <td>0</td>\n",
       "      <td>0</td>\n",
       "      <td>0</td>\n",
       "      <td>0</td>\n",
       "    </tr>\n",
       "  </tbody>\n",
       "</table>\n",
       "</div>"
      ],
      "text/plain": [
       "      limit_balance  sex  education_level  marital_status  age  pay_1  pay_2  \\\n",
       "291        280000.0    1                1               2   33      0      0   \n",
       "1948        20000.0    2                2               2   21     -1     -1   \n",
       "\n",
       "      pay_3  pay_4  pay_5  pay_6  bill_amt_1  bill_amt_2  bill_amt_3  \\\n",
       "291       0      0      0      0      281604      283292      281327   \n",
       "1948      2      2     -1     -1         390         780         780   \n",
       "\n",
       "      bill_amt_4  bill_amt_5  bill_amt_6  pay_amt_1  pay_amt_2  pay_amt_3  \\\n",
       "291       189287      185398      184414      10000      10059       5201   \n",
       "1948           0           0           0        780          0          0   \n",
       "\n",
       "      pay_amt_4  pay_amt_5  pay_amt_6  default_payment_next_month  \n",
       "291        5211       5500       5500                           0  \n",
       "1948          0          0          0                           0  "
      ]
     },
     "execution_count": 43,
     "metadata": {},
     "output_type": "execute_result"
    }
   ],
   "source": [
    "df_eda_cleaned.head(2)"
   ]
  },
  {
   "cell_type": "code",
   "execution_count": 44,
   "metadata": {},
   "outputs": [
    {
     "name": "stdout",
     "output_type": "stream",
     "text": [
      "before handling: \n",
      "        limit_balance          age     bill_amt_1     bill_amt_2  \\\n",
      "count    2219.000000  2219.000000    2219.000000    2219.000000   \n",
      "mean   163132.041460    35.269941   53503.124831   51813.631816   \n",
      "std    126038.217385     9.194406   74376.813993   72540.902331   \n",
      "min     10000.000000    21.000000  -11545.000000   -9850.000000   \n",
      "25%     50000.000000    28.000000    4213.500000    3495.500000   \n",
      "50%    140000.000000    34.000000   24685.000000   23227.000000   \n",
      "75%    240000.000000    41.000000   70971.500000   68659.500000   \n",
      "max    800000.000000    69.000000  613860.000000  512650.000000   \n",
      "\n",
      "          bill_amt_3     bill_amt_4     bill_amt_5     bill_amt_6  \\\n",
      "count    2219.000000    2219.000000    2219.000000    2219.000000   \n",
      "mean    49395.924290   44740.687247   41597.407841   40269.188824   \n",
      "std     69458.227958   63103.820099   59138.951234   58036.743006   \n",
      "min     -9850.000000  -27490.000000   -7220.000000  -73895.000000   \n",
      "25%      3551.000000    2712.000000    1951.000000    1471.000000   \n",
      "50%     21816.000000   19888.000000   18955.000000   18642.000000   \n",
      "75%     64694.000000   58708.500000   54063.000000   52307.000000   \n",
      "max    559712.000000  488808.000000  441981.000000  436172.000000   \n",
      "\n",
      "           pay_amt_1     pay_amt_2      pay_amt_3      pay_amt_4  \\\n",
      "count    2219.000000  2.219000e+03    2219.000000    2219.000000   \n",
      "mean     6366.151870  6.474201e+03    4878.216314    4694.792699   \n",
      "std     21970.121549  3.232489e+04   13459.886215   14242.115066   \n",
      "min         0.000000  0.000000e+00       0.000000       0.000000   \n",
      "25%      1070.000000  1.000000e+03     450.500000     314.500000   \n",
      "50%      2200.000000  2.164000e+03    1950.000000    1600.000000   \n",
      "75%      5038.000000  5.013000e+03    4446.000000    4004.500000   \n",
      "max    493358.000000  1.227082e+06  198748.000000  202076.000000   \n",
      "\n",
      "           pay_amt_5      pay_amt_6  \n",
      "count    2219.000000    2219.000000  \n",
      "mean     4837.068049    5428.741325  \n",
      "std     16942.039506   17879.771074  \n",
      "min         0.000000       0.000000  \n",
      "25%       302.000000     158.000000  \n",
      "50%      1619.000000    1600.000000  \n",
      "75%      4011.000000    4100.000000  \n",
      "max    388071.000000  403500.000000  \n"
     ]
    }
   ],
   "source": [
    "print('before handling: \\n', df_eda[num].describe())"
   ]
  },
  {
   "cell_type": "code",
   "execution_count": 45,
   "metadata": {},
   "outputs": [
    {
     "name": "stdout",
     "output_type": "stream",
     "text": [
      "after handling: \n",
      "        limit_balance          age     bill_amt_1     bill_amt_2  \\\n",
      "count    2219.000000  2219.000000    2219.000000    2219.000000   \n",
      "mean   162622.803064    35.269941   53503.124831   51813.631816   \n",
      "std    124117.689151     9.194406   74376.813993   72540.902331   \n",
      "min     10000.000000    21.000000  -11545.000000   -9850.000000   \n",
      "25%     50000.000000    28.000000    4213.500000    3495.500000   \n",
      "50%    140000.000000    34.000000   24685.000000   23227.000000   \n",
      "75%    240000.000000    41.000000   70971.500000   68659.500000   \n",
      "max    525000.000000    69.000000  613860.000000  512650.000000   \n",
      "\n",
      "          bill_amt_3     bill_amt_4     bill_amt_5     bill_amt_6  \\\n",
      "count    2219.000000    2219.000000    2219.000000    2219.000000   \n",
      "mean    49395.924290   44740.687247   41597.407841   40269.188824   \n",
      "std     69458.227958   63103.820099   59138.951234   58036.743006   \n",
      "min     -9850.000000  -27490.000000   -7220.000000  -73895.000000   \n",
      "25%      3551.000000    2712.000000    1951.000000    1471.000000   \n",
      "50%     21816.000000   19888.000000   18955.000000   18642.000000   \n",
      "75%     64694.000000   58708.500000   54063.000000   52307.000000   \n",
      "max    559712.000000  488808.000000  441981.000000  436172.000000   \n",
      "\n",
      "           pay_amt_1     pay_amt_2      pay_amt_3      pay_amt_4  \\\n",
      "count    2219.000000  2.219000e+03    2219.000000    2219.000000   \n",
      "mean     6366.151870  6.474201e+03    4878.216314    4694.792699   \n",
      "std     21970.121549  3.232489e+04   13459.886215   14242.115066   \n",
      "min         0.000000  0.000000e+00       0.000000       0.000000   \n",
      "25%      1070.000000  1.000000e+03     450.500000     314.500000   \n",
      "50%      2200.000000  2.164000e+03    1950.000000    1600.000000   \n",
      "75%      5038.000000  5.013000e+03    4446.000000    4004.500000   \n",
      "max    493358.000000  1.227082e+06  198748.000000  202076.000000   \n",
      "\n",
      "           pay_amt_5      pay_amt_6  \n",
      "count    2219.000000    2219.000000  \n",
      "mean     4837.068049    5428.741325  \n",
      "std     16942.039506   17879.771074  \n",
      "min         0.000000       0.000000  \n",
      "25%       302.000000     158.000000  \n",
      "50%      1619.000000    1600.000000  \n",
      "75%      4011.000000    4100.000000  \n",
      "max    388071.000000  403500.000000  \n"
     ]
    }
   ],
   "source": [
    "print('after handling: \\n', df_eda_cleaned[num].describe())"
   ]
  },
  {
   "cell_type": "markdown",
   "metadata": {},
   "source": [
    "> After capping, we can see the difference between before and after capping. From the results above, you can see the difference in the `limit_balance` column after and before capping, this means that the capping in the `limit_balance` column was successfully carried out."
   ]
  },
  {
   "cell_type": "markdown",
   "metadata": {},
   "source": [
    "#### Categorical Feature"
   ]
  },
  {
   "cell_type": "code",
   "execution_count": 46,
   "metadata": {},
   "outputs": [
    {
     "data": {
      "text/html": [
       "<div>\n",
       "<style scoped>\n",
       "    .dataframe tbody tr th:only-of-type {\n",
       "        vertical-align: middle;\n",
       "    }\n",
       "\n",
       "    .dataframe tbody tr th {\n",
       "        vertical-align: top;\n",
       "    }\n",
       "\n",
       "    .dataframe thead th {\n",
       "        text-align: right;\n",
       "    }\n",
       "</style>\n",
       "<table border=\"1\" class=\"dataframe\">\n",
       "  <thead>\n",
       "    <tr style=\"text-align: right;\">\n",
       "      <th></th>\n",
       "      <th>sex</th>\n",
       "      <th>education_level</th>\n",
       "      <th>marital_status</th>\n",
       "      <th>pay_1</th>\n",
       "      <th>pay_2</th>\n",
       "      <th>pay_3</th>\n",
       "      <th>pay_4</th>\n",
       "      <th>pay_5</th>\n",
       "      <th>pay_6</th>\n",
       "      <th>default_payment_next_month</th>\n",
       "    </tr>\n",
       "  </thead>\n",
       "  <tbody>\n",
       "    <tr>\n",
       "      <th>291</th>\n",
       "      <td>1</td>\n",
       "      <td>1</td>\n",
       "      <td>2</td>\n",
       "      <td>0</td>\n",
       "      <td>0</td>\n",
       "      <td>0</td>\n",
       "      <td>0</td>\n",
       "      <td>0</td>\n",
       "      <td>0</td>\n",
       "      <td>0</td>\n",
       "    </tr>\n",
       "    <tr>\n",
       "      <th>1948</th>\n",
       "      <td>2</td>\n",
       "      <td>2</td>\n",
       "      <td>2</td>\n",
       "      <td>-1</td>\n",
       "      <td>-1</td>\n",
       "      <td>2</td>\n",
       "      <td>2</td>\n",
       "      <td>-1</td>\n",
       "      <td>-1</td>\n",
       "      <td>0</td>\n",
       "    </tr>\n",
       "    <tr>\n",
       "      <th>2482</th>\n",
       "      <td>1</td>\n",
       "      <td>1</td>\n",
       "      <td>1</td>\n",
       "      <td>-1</td>\n",
       "      <td>-1</td>\n",
       "      <td>-1</td>\n",
       "      <td>-1</td>\n",
       "      <td>-1</td>\n",
       "      <td>-1</td>\n",
       "      <td>0</td>\n",
       "    </tr>\n",
       "    <tr>\n",
       "      <th>1269</th>\n",
       "      <td>2</td>\n",
       "      <td>2</td>\n",
       "      <td>3</td>\n",
       "      <td>1</td>\n",
       "      <td>-1</td>\n",
       "      <td>-1</td>\n",
       "      <td>0</td>\n",
       "      <td>0</td>\n",
       "      <td>0</td>\n",
       "      <td>0</td>\n",
       "    </tr>\n",
       "    <tr>\n",
       "      <th>2918</th>\n",
       "      <td>2</td>\n",
       "      <td>1</td>\n",
       "      <td>2</td>\n",
       "      <td>-1</td>\n",
       "      <td>-1</td>\n",
       "      <td>-1</td>\n",
       "      <td>-1</td>\n",
       "      <td>0</td>\n",
       "      <td>0</td>\n",
       "      <td>0</td>\n",
       "    </tr>\n",
       "  </tbody>\n",
       "</table>\n",
       "</div>"
      ],
      "text/plain": [
       "      sex  education_level  marital_status  pay_1  pay_2  pay_3  pay_4  pay_5  \\\n",
       "291     1                1               2      0      0      0      0      0   \n",
       "1948    2                2               2     -1     -1      2      2     -1   \n",
       "2482    1                1               1     -1     -1     -1     -1     -1   \n",
       "1269    2                2               3      1     -1     -1      0      0   \n",
       "2918    2                1               2     -1     -1     -1     -1      0   \n",
       "\n",
       "      pay_6  default_payment_next_month  \n",
       "291       0                           0  \n",
       "1948     -1                           0  \n",
       "2482     -1                           0  \n",
       "1269      0                           0  \n",
       "2918      0                           0  "
      ]
     },
     "execution_count": 46,
     "metadata": {},
     "output_type": "execute_result"
    }
   ],
   "source": [
    "df_cat = df_eda[cat]\n",
    "\n",
    "df_cat.head()"
   ]
  },
  {
   "cell_type": "markdown",
   "metadata": {},
   "source": [
    "The process carried out in EDA for Modeling:\n",
    "Dividing data into two dataframes, because the treatment to be applied will differ according to the data type\n",
    "1. Numerical Features\n",
    "- calculate the skewness value which will then be used to detect and handle outliers\n",
    "- calculating distribution comparisons and abnormal distributions to determine handling outliers\n",
    "- display plot distribution to see distribution. From the comparison of skewness in each column, the data results will be handled using iqr (not normal distribution)\n",
    "- Handling outliers in the `limit_balance` column\n",
    "\n",
    "2. Categorical Features\n",
    "- There is no treatment whatsoever for categorical features because the data is already in the form of numbers which represent meaning"
   ]
  },
  {
   "cell_type": "markdown",
   "metadata": {},
   "source": [
    "#### Feature Selection"
   ]
  },
  {
   "cell_type": "markdown",
   "metadata": {},
   "source": [
    "#### Feature Selection For Numerical"
   ]
  },
  {
   "cell_type": "code",
   "execution_count": 47,
   "metadata": {},
   "outputs": [
    {
     "data": {
      "image/png": "[encoded data removed]",
      "text/plain": [
       "<Figure size 2160x1800 with 2 Axes>"
      ]
     },
     "metadata": {
      "needs_background": "light"
     },
     "output_type": "display_data"
    }
   ],
   "source": [
    "plt.figure(figsize=(30,25))\n",
    "sns.heatmap(df_eda[num+[\"default_payment_next_month\"]].corr(), annot=True, fmt='.2f')\n",
    "plt.show()"
   ]
  },
  {
   "cell_type": "markdown",
   "metadata": {},
   "source": [
    "Based on the heatmap visualization results above, it can be concluded that only the `limit_balance` column has the highest correlation compared to the other numerical columns and has a correlation value above 0.1. Researchers only take features that have a correlation value above 0.1 to be used as a feature."
   ]
  },
  {
   "cell_type": "markdown",
   "metadata": {},
   "source": [
    "#### Feature Selection For Categorycal"
   ]
  },
  {
   "cell_type": "code",
   "execution_count": 48,
   "metadata": {},
   "outputs": [
    {
     "data": {
      "image/png": "[encoded data removed]",
      "text/plain": [
       "<Figure size 2160x1800 with 2 Axes>"
      ]
     },
     "metadata": {
      "needs_background": "light"
     },
     "output_type": "display_data"
    }
   ],
   "source": [
    "plt.figure(figsize=(30,25))\n",
    "sns.heatmap(df_eda[cat].corr(), annot=True, fmt='.2f')\n",
    "plt.show()"
   ]
  },
  {
   "cell_type": "markdown",
   "metadata": {},
   "source": [
    "Based on the heatmap above for the categorical column then:\n",
    "1. sex\n",
    "2. education_level\n",
    "3. marital_status\n",
    "otherwise the correlation value with the target is very low because the displayed value is close to 0\n",
    "\n",
    "For pay_1 to pay_6 a multicorrelation test will be carried out to check whether each column is related to each other based on the VIF value"
   ]
  },
  {
   "cell_type": "markdown",
   "metadata": {},
   "source": [
    "#### Cek Multicollinearity"
   ]
  },
  {
   "cell_type": "code",
   "execution_count": 49,
   "metadata": {},
   "outputs": [
    {
     "data": {
      "text/html": [
       "<div>\n",
       "<style scoped>\n",
       "    .dataframe tbody tr th:only-of-type {\n",
       "        vertical-align: middle;\n",
       "    }\n",
       "\n",
       "    .dataframe tbody tr th {\n",
       "        vertical-align: top;\n",
       "    }\n",
       "\n",
       "    .dataframe thead th {\n",
       "        text-align: right;\n",
       "    }\n",
       "</style>\n",
       "<table border=\"1\" class=\"dataframe\">\n",
       "  <thead>\n",
       "    <tr style=\"text-align: right;\">\n",
       "      <th></th>\n",
       "      <th>feature</th>\n",
       "      <th>VIF</th>\n",
       "    </tr>\n",
       "  </thead>\n",
       "  <tbody>\n",
       "    <tr>\n",
       "      <th>0</th>\n",
       "      <td>pay_1</td>\n",
       "      <td>1.888218</td>\n",
       "    </tr>\n",
       "    <tr>\n",
       "      <th>1</th>\n",
       "      <td>pay_2</td>\n",
       "      <td>2.733688</td>\n",
       "    </tr>\n",
       "    <tr>\n",
       "      <th>2</th>\n",
       "      <td>pay_3</td>\n",
       "      <td>2.695252</td>\n",
       "    </tr>\n",
       "    <tr>\n",
       "      <th>3</th>\n",
       "      <td>pay_4</td>\n",
       "      <td>3.223316</td>\n",
       "    </tr>\n",
       "    <tr>\n",
       "      <th>4</th>\n",
       "      <td>pay_5</td>\n",
       "      <td>3.901078</td>\n",
       "    </tr>\n",
       "    <tr>\n",
       "      <th>5</th>\n",
       "      <td>pay_6</td>\n",
       "      <td>2.772768</td>\n",
       "    </tr>\n",
       "  </tbody>\n",
       "</table>\n",
       "</div>"
      ],
      "text/plain": [
       "  feature       VIF\n",
       "0   pay_1  1.888218\n",
       "1   pay_2  2.733688\n",
       "2   pay_3  2.695252\n",
       "3   pay_4  3.223316\n",
       "4   pay_5  3.901078\n",
       "5   pay_6  2.772768"
      ]
     },
     "execution_count": 49,
     "metadata": {},
     "output_type": "execute_result"
    }
   ],
   "source": [
    "#Cek Multicollinearity\n",
    "df_pay=df_eda[['pay_1',\n",
    " 'pay_2',\n",
    " 'pay_3',\n",
    " 'pay_4',\n",
    " 'pay_5',\n",
    " 'pay_6']]\n",
    "\n",
    "vif_data = pd.DataFrame()\n",
    "vif_data[\"feature\"] = df_pay.columns\n",
    "\n",
    "# calculating VIF for each feature\n",
    "vif_data[\"VIF\"] = [variance_inflation_factor(df_pay.values, i) for i in range(len(df_pay.columns))]\n",
    "\n",
    "vif_data"
   ]
  },
  {
   "cell_type": "markdown",
   "metadata": {},
   "source": [
    "Based on the VIF values obtained, it can be concluded that the columns `pay_1`,`pay_2`,`pay_3`,`pay_4`,`pay_5` and `pay_6` are not related to each other because the VIF value is below 5."
   ]
  },
  {
   "cell_type": "code",
   "execution_count": 50,
   "metadata": {},
   "outputs": [
    {
     "data": {
      "text/html": [
       "<div>\n",
       "<style scoped>\n",
       "    .dataframe tbody tr th:only-of-type {\n",
       "        vertical-align: middle;\n",
       "    }\n",
       "\n",
       "    .dataframe tbody tr th {\n",
       "        vertical-align: top;\n",
       "    }\n",
       "\n",
       "    .dataframe thead th {\n",
       "        text-align: right;\n",
       "    }\n",
       "</style>\n",
       "<table border=\"1\" class=\"dataframe\">\n",
       "  <thead>\n",
       "    <tr style=\"text-align: right;\">\n",
       "      <th></th>\n",
       "      <th>limit_balance</th>\n",
       "      <th>pay_1</th>\n",
       "      <th>pay_2</th>\n",
       "      <th>pay_3</th>\n",
       "      <th>pay_4</th>\n",
       "      <th>pay_5</th>\n",
       "      <th>pay_6</th>\n",
       "      <th>default_payment_next_month</th>\n",
       "    </tr>\n",
       "  </thead>\n",
       "  <tbody>\n",
       "    <tr>\n",
       "      <th>0</th>\n",
       "      <td>130000</td>\n",
       "      <td>0</td>\n",
       "      <td>0</td>\n",
       "      <td>0</td>\n",
       "      <td>0</td>\n",
       "      <td>0</td>\n",
       "      <td>0</td>\n",
       "      <td>0</td>\n",
       "    </tr>\n",
       "    <tr>\n",
       "      <th>1</th>\n",
       "      <td>230000</td>\n",
       "      <td>0</td>\n",
       "      <td>0</td>\n",
       "      <td>0</td>\n",
       "      <td>0</td>\n",
       "      <td>0</td>\n",
       "      <td>0</td>\n",
       "      <td>1</td>\n",
       "    </tr>\n",
       "    <tr>\n",
       "      <th>2</th>\n",
       "      <td>50000</td>\n",
       "      <td>0</td>\n",
       "      <td>0</td>\n",
       "      <td>0</td>\n",
       "      <td>0</td>\n",
       "      <td>0</td>\n",
       "      <td>2</td>\n",
       "      <td>0</td>\n",
       "    </tr>\n",
       "  </tbody>\n",
       "</table>\n",
       "</div>"
      ],
      "text/plain": [
       "   limit_balance  pay_1  pay_2  pay_3  pay_4  pay_5  pay_6  \\\n",
       "0         130000      0      0      0      0      0      0   \n",
       "1         230000      0      0      0      0      0      0   \n",
       "2          50000      0      0      0      0      0      2   \n",
       "\n",
       "   default_payment_next_month  \n",
       "0                           0  \n",
       "1                           1  \n",
       "2                           0  "
      ]
     },
     "execution_count": 50,
     "metadata": {},
     "output_type": "execute_result"
    }
   ],
   "source": [
    "df_model = df_clean[['limit_balance', 'pay_1', 'pay_2', 'pay_3', 'pay_4', 'pay_5', 'pay_6', 'default_payment_next_month']]\n",
    "df_model.head(3)"
   ]
  },
  {
   "cell_type": "markdown",
   "metadata": {},
   "source": [
    "df_model adalah variabel yang berisi kolom-kolom yang df_model is a variable that contains the selected columns based on the selection from the feature selection results using a heatmap. All selected columns have a correlation value that is far enough from 0 so that the selected columns are declared to have a significant relationship with the target.\n",
    "\n",
    "- The selected numeric column feature is `limit_balance`\n",
    "\n",
    "- The selected category feature column is `pay_1`, `pay_2`, `pay_3`, `pay_4`, `pay_5`, `pay_6`,`default_payment_next_month`"
   ]
  },
  {
   "cell_type": "markdown",
   "metadata": {},
   "source": [
    "### Scaling Data Numerical"
   ]
  },
  {
   "cell_type": "code",
   "execution_count": 51,
   "metadata": {},
   "outputs": [],
   "source": [
    "num_column = ['limit_balance']\n",
    "scaler = MinMaxScaler()\n",
    "\n",
    "df_model[num_column]= scaler.fit_transform(df_model[num_column])\n"
   ]
  },
  {
   "cell_type": "code",
   "execution_count": 52,
   "metadata": {},
   "outputs": [
    {
     "data": {
      "text/html": [
       "<div>\n",
       "<style scoped>\n",
       "    .dataframe tbody tr th:only-of-type {\n",
       "        vertical-align: middle;\n",
       "    }\n",
       "\n",
       "    .dataframe tbody tr th {\n",
       "        vertical-align: top;\n",
       "    }\n",
       "\n",
       "    .dataframe thead th {\n",
       "        text-align: right;\n",
       "    }\n",
       "</style>\n",
       "<table border=\"1\" class=\"dataframe\">\n",
       "  <thead>\n",
       "    <tr style=\"text-align: right;\">\n",
       "      <th></th>\n",
       "      <th>limit_balance</th>\n",
       "      <th>pay_1</th>\n",
       "      <th>pay_2</th>\n",
       "      <th>pay_3</th>\n",
       "      <th>pay_4</th>\n",
       "      <th>pay_5</th>\n",
       "      <th>pay_6</th>\n",
       "      <th>default_payment_next_month</th>\n",
       "    </tr>\n",
       "  </thead>\n",
       "  <tbody>\n",
       "    <tr>\n",
       "      <th>0</th>\n",
       "      <td>0.151899</td>\n",
       "      <td>0</td>\n",
       "      <td>0</td>\n",
       "      <td>0</td>\n",
       "      <td>0</td>\n",
       "      <td>0</td>\n",
       "      <td>0</td>\n",
       "      <td>0</td>\n",
       "    </tr>\n",
       "    <tr>\n",
       "      <th>1</th>\n",
       "      <td>0.278481</td>\n",
       "      <td>0</td>\n",
       "      <td>0</td>\n",
       "      <td>0</td>\n",
       "      <td>0</td>\n",
       "      <td>0</td>\n",
       "      <td>0</td>\n",
       "      <td>1</td>\n",
       "    </tr>\n",
       "    <tr>\n",
       "      <th>2</th>\n",
       "      <td>0.050633</td>\n",
       "      <td>0</td>\n",
       "      <td>0</td>\n",
       "      <td>0</td>\n",
       "      <td>0</td>\n",
       "      <td>0</td>\n",
       "      <td>2</td>\n",
       "      <td>0</td>\n",
       "    </tr>\n",
       "    <tr>\n",
       "      <th>3</th>\n",
       "      <td>0.240506</td>\n",
       "      <td>0</td>\n",
       "      <td>0</td>\n",
       "      <td>0</td>\n",
       "      <td>0</td>\n",
       "      <td>0</td>\n",
       "      <td>0</td>\n",
       "      <td>0</td>\n",
       "    </tr>\n",
       "    <tr>\n",
       "      <th>4</th>\n",
       "      <td>0.620253</td>\n",
       "      <td>0</td>\n",
       "      <td>0</td>\n",
       "      <td>0</td>\n",
       "      <td>0</td>\n",
       "      <td>0</td>\n",
       "      <td>0</td>\n",
       "      <td>0</td>\n",
       "    </tr>\n",
       "    <tr>\n",
       "      <th>...</th>\n",
       "      <td>...</td>\n",
       "      <td>...</td>\n",
       "      <td>...</td>\n",
       "      <td>...</td>\n",
       "      <td>...</td>\n",
       "      <td>...</td>\n",
       "      <td>...</td>\n",
       "      <td>...</td>\n",
       "    </tr>\n",
       "    <tr>\n",
       "      <th>2960</th>\n",
       "      <td>0.088608</td>\n",
       "      <td>-1</td>\n",
       "      <td>-1</td>\n",
       "      <td>-1</td>\n",
       "      <td>-1</td>\n",
       "      <td>-1</td>\n",
       "      <td>-1</td>\n",
       "      <td>0</td>\n",
       "    </tr>\n",
       "    <tr>\n",
       "      <th>2961</th>\n",
       "      <td>0.126582</td>\n",
       "      <td>-1</td>\n",
       "      <td>-1</td>\n",
       "      <td>-1</td>\n",
       "      <td>-1</td>\n",
       "      <td>0</td>\n",
       "      <td>0</td>\n",
       "      <td>0</td>\n",
       "    </tr>\n",
       "    <tr>\n",
       "      <th>2962</th>\n",
       "      <td>0.189873</td>\n",
       "      <td>-1</td>\n",
       "      <td>-1</td>\n",
       "      <td>-1</td>\n",
       "      <td>-1</td>\n",
       "      <td>-1</td>\n",
       "      <td>-1</td>\n",
       "      <td>0</td>\n",
       "    </tr>\n",
       "    <tr>\n",
       "      <th>2963</th>\n",
       "      <td>0.253165</td>\n",
       "      <td>0</td>\n",
       "      <td>0</td>\n",
       "      <td>-1</td>\n",
       "      <td>-1</td>\n",
       "      <td>0</td>\n",
       "      <td>0</td>\n",
       "      <td>0</td>\n",
       "    </tr>\n",
       "    <tr>\n",
       "      <th>2964</th>\n",
       "      <td>0.443038</td>\n",
       "      <td>-1</td>\n",
       "      <td>-1</td>\n",
       "      <td>0</td>\n",
       "      <td>-1</td>\n",
       "      <td>-1</td>\n",
       "      <td>-1</td>\n",
       "      <td>0</td>\n",
       "    </tr>\n",
       "  </tbody>\n",
       "</table>\n",
       "<p>2959 rows × 8 columns</p>\n",
       "</div>"
      ],
      "text/plain": [
       "      limit_balance  pay_1  pay_2  pay_3  pay_4  pay_5  pay_6  \\\n",
       "0          0.151899      0      0      0      0      0      0   \n",
       "1          0.278481      0      0      0      0      0      0   \n",
       "2          0.050633      0      0      0      0      0      2   \n",
       "3          0.240506      0      0      0      0      0      0   \n",
       "4          0.620253      0      0      0      0      0      0   \n",
       "...             ...    ...    ...    ...    ...    ...    ...   \n",
       "2960       0.088608     -1     -1     -1     -1     -1     -1   \n",
       "2961       0.126582     -1     -1     -1     -1      0      0   \n",
       "2962       0.189873     -1     -1     -1     -1     -1     -1   \n",
       "2963       0.253165      0      0     -1     -1      0      0   \n",
       "2964       0.443038     -1     -1      0     -1     -1     -1   \n",
       "\n",
       "      default_payment_next_month  \n",
       "0                              0  \n",
       "1                              1  \n",
       "2                              0  \n",
       "3                              0  \n",
       "4                              0  \n",
       "...                          ...  \n",
       "2960                           0  \n",
       "2961                           0  \n",
       "2962                           0  \n",
       "2963                           0  \n",
       "2964                           0  \n",
       "\n",
       "[2959 rows x 8 columns]"
      ]
     },
     "execution_count": 52,
     "metadata": {},
     "output_type": "execute_result"
    }
   ],
   "source": [
    "df_model"
   ]
  },
  {
   "cell_type": "markdown",
   "metadata": {},
   "source": [
    "At the Numerical Data Scaling stage is Scaling the numerical training data before the data enters the model. Scaling is doing with `MinMaxScaler()` because the `Limit_balance` column is abnormally distributed data based on skewness values. This scaling feature aims to normalize numerical data."
   ]
  },
  {
   "cell_type": "markdown",
   "metadata": {},
   "source": [
    "Based on the process at the Exploratory Data Analysis (EDA) stage - Modeling on data training can be recapitulated as follows:\n",
    "1. Handling outliers in the `limit_balance` column\n",
    "2. The Feature Selection obtained is `limit_balance`, `pay_1`,`pay_2`,`pay_3`,`pay_4`,`pay_5`,`pay_6` and `default_payment_next_month`\n",
    "3. Feature Scaling on numeric data column"
   ]
  },
  {
   "cell_type": "markdown",
   "metadata": {},
   "source": [
    "## 5.Data Preprocessing : Data Test"
   ]
  },
  {
   "cell_type": "markdown",
   "metadata": {},
   "source": [
    "In the data preprocessing, the stages carried out are the same as Exploratory Data Analysis (EDA) - Modeling in data training, it's just that the data used is data testing, so the data preprocessing stages are as follows:\n",
    "1. Handling outliers in the `limit_balance` column\n",
    "2. The Feature Selection obtained is `limit_balance`, `pay_1`,`pay_2`,`pay_3`,`pay_4`,`pay_5`,`pay_6` and `default_payment_next_month`\n",
    "3. Feature Scaling on numeric data column"
   ]
  },
  {
   "cell_type": "code",
   "execution_count": 53,
   "metadata": {},
   "outputs": [
    {
     "data": {
      "text/html": [
       "<div>\n",
       "<style scoped>\n",
       "    .dataframe tbody tr th:only-of-type {\n",
       "        vertical-align: middle;\n",
       "    }\n",
       "\n",
       "    .dataframe tbody tr th {\n",
       "        vertical-align: top;\n",
       "    }\n",
       "\n",
       "    .dataframe thead th {\n",
       "        text-align: right;\n",
       "    }\n",
       "</style>\n",
       "<table border=\"1\" class=\"dataframe\">\n",
       "  <thead>\n",
       "    <tr style=\"text-align: right;\">\n",
       "      <th></th>\n",
       "      <th>limit_balance</th>\n",
       "      <th>sex</th>\n",
       "      <th>education_level</th>\n",
       "      <th>marital_status</th>\n",
       "      <th>age</th>\n",
       "      <th>pay_1</th>\n",
       "      <th>pay_2</th>\n",
       "      <th>pay_3</th>\n",
       "      <th>pay_4</th>\n",
       "      <th>pay_5</th>\n",
       "      <th>pay_6</th>\n",
       "      <th>bill_amt_1</th>\n",
       "      <th>bill_amt_2</th>\n",
       "      <th>bill_amt_3</th>\n",
       "      <th>bill_amt_4</th>\n",
       "      <th>bill_amt_5</th>\n",
       "      <th>bill_amt_6</th>\n",
       "      <th>pay_amt_1</th>\n",
       "      <th>pay_amt_2</th>\n",
       "      <th>pay_amt_3</th>\n",
       "      <th>pay_amt_4</th>\n",
       "      <th>pay_amt_5</th>\n",
       "      <th>pay_amt_6</th>\n",
       "      <th>default_payment_next_month</th>\n",
       "    </tr>\n",
       "  </thead>\n",
       "  <tbody>\n",
       "    <tr>\n",
       "      <th>2316</th>\n",
       "      <td>330000</td>\n",
       "      <td>2</td>\n",
       "      <td>2</td>\n",
       "      <td>1</td>\n",
       "      <td>43</td>\n",
       "      <td>1</td>\n",
       "      <td>-1</td>\n",
       "      <td>-1</td>\n",
       "      <td>-1</td>\n",
       "      <td>-1</td>\n",
       "      <td>-1</td>\n",
       "      <td>-58</td>\n",
       "      <td>22301</td>\n",
       "      <td>0</td>\n",
       "      <td>0</td>\n",
       "      <td>0</td>\n",
       "      <td>0</td>\n",
       "      <td>22359</td>\n",
       "      <td>5895</td>\n",
       "      <td>0</td>\n",
       "      <td>0</td>\n",
       "      <td>0</td>\n",
       "      <td>0</td>\n",
       "      <td>0</td>\n",
       "    </tr>\n",
       "    <tr>\n",
       "      <th>673</th>\n",
       "      <td>400000</td>\n",
       "      <td>2</td>\n",
       "      <td>2</td>\n",
       "      <td>1</td>\n",
       "      <td>24</td>\n",
       "      <td>0</td>\n",
       "      <td>0</td>\n",
       "      <td>0</td>\n",
       "      <td>0</td>\n",
       "      <td>0</td>\n",
       "      <td>0</td>\n",
       "      <td>187790</td>\n",
       "      <td>176294</td>\n",
       "      <td>190256</td>\n",
       "      <td>89128</td>\n",
       "      <td>39276</td>\n",
       "      <td>23440</td>\n",
       "      <td>5519</td>\n",
       "      <td>44776</td>\n",
       "      <td>1502</td>\n",
       "      <td>2026</td>\n",
       "      <td>1015</td>\n",
       "      <td>52100</td>\n",
       "      <td>0</td>\n",
       "    </tr>\n",
       "  </tbody>\n",
       "</table>\n",
       "</div>"
      ],
      "text/plain": [
       "      limit_balance  sex  education_level  marital_status  age  pay_1  pay_2  \\\n",
       "2316         330000    2                2               1   43      1     -1   \n",
       "673          400000    2                2               1   24      0      0   \n",
       "\n",
       "      pay_3  pay_4  pay_5  pay_6  bill_amt_1  bill_amt_2  bill_amt_3  \\\n",
       "2316     -1     -1     -1     -1         -58       22301           0   \n",
       "673       0      0      0      0      187790      176294      190256   \n",
       "\n",
       "      bill_amt_4  bill_amt_5  bill_amt_6  pay_amt_1  pay_amt_2  pay_amt_3  \\\n",
       "2316           0           0           0      22359       5895          0   \n",
       "673        89128       39276       23440       5519      44776       1502   \n",
       "\n",
       "      pay_amt_4  pay_amt_5  pay_amt_6  default_payment_next_month  \n",
       "2316          0          0          0                           0  \n",
       "673        2026       1015      52100                           0  "
      ]
     },
     "execution_count": 53,
     "metadata": {},
     "output_type": "execute_result"
    }
   ],
   "source": [
    "testing = pd.concat([X_test, y_test], axis=1)\n",
    "testing.head(2)"
   ]
  },
  {
   "cell_type": "markdown",
   "metadata": {},
   "source": [
    "### Handling Outlier for Testing"
   ]
  },
  {
   "cell_type": "code",
   "execution_count": 54,
   "metadata": {},
   "outputs": [
    {
     "data": {
      "text/html": [
       "<div>\n",
       "<style scoped>\n",
       "    .dataframe tbody tr th:only-of-type {\n",
       "        vertical-align: middle;\n",
       "    }\n",
       "\n",
       "    .dataframe tbody tr th {\n",
       "        vertical-align: top;\n",
       "    }\n",
       "\n",
       "    .dataframe thead th {\n",
       "        text-align: right;\n",
       "    }\n",
       "</style>\n",
       "<table border=\"1\" class=\"dataframe\">\n",
       "  <thead>\n",
       "    <tr style=\"text-align: right;\">\n",
       "      <th></th>\n",
       "      <th>limit_balance</th>\n",
       "      <th>sex</th>\n",
       "      <th>education_level</th>\n",
       "      <th>marital_status</th>\n",
       "      <th>age</th>\n",
       "      <th>pay_1</th>\n",
       "      <th>pay_2</th>\n",
       "      <th>pay_3</th>\n",
       "      <th>pay_4</th>\n",
       "      <th>pay_5</th>\n",
       "      <th>pay_6</th>\n",
       "      <th>bill_amt_1</th>\n",
       "      <th>bill_amt_2</th>\n",
       "      <th>bill_amt_3</th>\n",
       "      <th>bill_amt_4</th>\n",
       "      <th>bill_amt_5</th>\n",
       "      <th>bill_amt_6</th>\n",
       "      <th>pay_amt_1</th>\n",
       "      <th>pay_amt_2</th>\n",
       "      <th>pay_amt_3</th>\n",
       "      <th>pay_amt_4</th>\n",
       "      <th>pay_amt_5</th>\n",
       "      <th>pay_amt_6</th>\n",
       "      <th>default_payment_next_month</th>\n",
       "    </tr>\n",
       "  </thead>\n",
       "  <tbody>\n",
       "    <tr>\n",
       "      <th>2316</th>\n",
       "      <td>330000.0</td>\n",
       "      <td>2</td>\n",
       "      <td>2</td>\n",
       "      <td>1</td>\n",
       "      <td>43</td>\n",
       "      <td>1</td>\n",
       "      <td>-1</td>\n",
       "      <td>-1</td>\n",
       "      <td>-1</td>\n",
       "      <td>-1</td>\n",
       "      <td>-1</td>\n",
       "      <td>-58</td>\n",
       "      <td>22301</td>\n",
       "      <td>0</td>\n",
       "      <td>0</td>\n",
       "      <td>0</td>\n",
       "      <td>0</td>\n",
       "      <td>22359</td>\n",
       "      <td>5895</td>\n",
       "      <td>0</td>\n",
       "      <td>0</td>\n",
       "      <td>0</td>\n",
       "      <td>0</td>\n",
       "      <td>0</td>\n",
       "    </tr>\n",
       "    <tr>\n",
       "      <th>673</th>\n",
       "      <td>400000.0</td>\n",
       "      <td>2</td>\n",
       "      <td>2</td>\n",
       "      <td>1</td>\n",
       "      <td>24</td>\n",
       "      <td>0</td>\n",
       "      <td>0</td>\n",
       "      <td>0</td>\n",
       "      <td>0</td>\n",
       "      <td>0</td>\n",
       "      <td>0</td>\n",
       "      <td>187790</td>\n",
       "      <td>176294</td>\n",
       "      <td>190256</td>\n",
       "      <td>89128</td>\n",
       "      <td>39276</td>\n",
       "      <td>23440</td>\n",
       "      <td>5519</td>\n",
       "      <td>44776</td>\n",
       "      <td>1502</td>\n",
       "      <td>2026</td>\n",
       "      <td>1015</td>\n",
       "      <td>52100</td>\n",
       "      <td>0</td>\n",
       "    </tr>\n",
       "  </tbody>\n",
       "</table>\n",
       "</div>"
      ],
      "text/plain": [
       "      limit_balance  sex  education_level  marital_status  age  pay_1  pay_2  \\\n",
       "2316       330000.0    2                2               1   43      1     -1   \n",
       "673        400000.0    2                2               1   24      0      0   \n",
       "\n",
       "      pay_3  pay_4  pay_5  pay_6  bill_amt_1  bill_amt_2  bill_amt_3  \\\n",
       "2316     -1     -1     -1     -1         -58       22301           0   \n",
       "673       0      0      0      0      187790      176294      190256   \n",
       "\n",
       "      bill_amt_4  bill_amt_5  bill_amt_6  pay_amt_1  pay_amt_2  pay_amt_3  \\\n",
       "2316           0           0           0      22359       5895          0   \n",
       "673        89128       39276       23440       5519      44776       1502   \n",
       "\n",
       "      pay_amt_4  pay_amt_5  pay_amt_6  default_payment_next_month  \n",
       "2316          0          0          0                           0  \n",
       "673        2026       1015      52100                           0  "
      ]
     },
     "execution_count": 54,
     "metadata": {},
     "output_type": "execute_result"
    }
   ],
   "source": [
    "testing = wins.transform(testing)\n",
    "testing.head(2)"
   ]
  },
  {
   "cell_type": "code",
   "execution_count": 55,
   "metadata": {},
   "outputs": [
    {
     "data": {
      "text/html": [
       "<div>\n",
       "<style scoped>\n",
       "    .dataframe tbody tr th:only-of-type {\n",
       "        vertical-align: middle;\n",
       "    }\n",
       "\n",
       "    .dataframe tbody tr th {\n",
       "        vertical-align: top;\n",
       "    }\n",
       "\n",
       "    .dataframe thead th {\n",
       "        text-align: right;\n",
       "    }\n",
       "</style>\n",
       "<table border=\"1\" class=\"dataframe\">\n",
       "  <thead>\n",
       "    <tr style=\"text-align: right;\">\n",
       "      <th></th>\n",
       "      <th>limit_balance</th>\n",
       "      <th>pay_1</th>\n",
       "      <th>pay_2</th>\n",
       "      <th>pay_3</th>\n",
       "      <th>pay_4</th>\n",
       "      <th>pay_5</th>\n",
       "      <th>pay_6</th>\n",
       "      <th>default_payment_next_month</th>\n",
       "    </tr>\n",
       "  </thead>\n",
       "  <tbody>\n",
       "    <tr>\n",
       "      <th>2316</th>\n",
       "      <td>330000.0</td>\n",
       "      <td>1</td>\n",
       "      <td>-1</td>\n",
       "      <td>-1</td>\n",
       "      <td>-1</td>\n",
       "      <td>-1</td>\n",
       "      <td>-1</td>\n",
       "      <td>0</td>\n",
       "    </tr>\n",
       "    <tr>\n",
       "      <th>673</th>\n",
       "      <td>400000.0</td>\n",
       "      <td>0</td>\n",
       "      <td>0</td>\n",
       "      <td>0</td>\n",
       "      <td>0</td>\n",
       "      <td>0</td>\n",
       "      <td>0</td>\n",
       "      <td>0</td>\n",
       "    </tr>\n",
       "    <tr>\n",
       "      <th>193</th>\n",
       "      <td>30000.0</td>\n",
       "      <td>0</td>\n",
       "      <td>0</td>\n",
       "      <td>0</td>\n",
       "      <td>0</td>\n",
       "      <td>0</td>\n",
       "      <td>0</td>\n",
       "      <td>0</td>\n",
       "    </tr>\n",
       "  </tbody>\n",
       "</table>\n",
       "</div>"
      ],
      "text/plain": [
       "      limit_balance  pay_1  pay_2  pay_3  pay_4  pay_5  pay_6  \\\n",
       "2316       330000.0      1     -1     -1     -1     -1     -1   \n",
       "673        400000.0      0      0      0      0      0      0   \n",
       "193         30000.0      0      0      0      0      0      0   \n",
       "\n",
       "      default_payment_next_month  \n",
       "2316                           0  \n",
       "673                            0  \n",
       "193                            0  "
      ]
     },
     "execution_count": 55,
     "metadata": {},
     "output_type": "execute_result"
    }
   ],
   "source": [
    "testing_model = testing[['limit_balance', 'pay_1', 'pay_2', 'pay_3', 'pay_4', 'pay_5', 'pay_6', 'default_payment_next_month']]\n",
    "testing_model.head(3)"
   ]
  },
  {
   "cell_type": "code",
   "execution_count": 56,
   "metadata": {},
   "outputs": [],
   "source": [
    "num1 = ['limit_balance','age','bill_amt_1','bill_amt_2','bill_amt_3','bill_amt_4','bill_amt_5','bill_amt_6','pay_amt_1', 'pay_amt_2', 'pay_amt_3', 'pay_amt_4', 'pay_amt_5',\n",
    "       'pay_amt_6']\n",
    "cat1 = ['sex','education_level', 'marital_status','pay_1','pay_2','pay_3','pay_4', 'pay_5', 'pay_6', 'default_payment_next_month']"
   ]
  },
  {
   "cell_type": "markdown",
   "metadata": {},
   "source": [
    "### Scaling for Numerical Data at Test Data"
   ]
  },
  {
   "cell_type": "code",
   "execution_count": 57,
   "metadata": {},
   "outputs": [
    {
     "data": {
      "text/html": [
       "<div>\n",
       "<style scoped>\n",
       "    .dataframe tbody tr th:only-of-type {\n",
       "        vertical-align: middle;\n",
       "    }\n",
       "\n",
       "    .dataframe tbody tr th {\n",
       "        vertical-align: top;\n",
       "    }\n",
       "\n",
       "    .dataframe thead th {\n",
       "        text-align: right;\n",
       "    }\n",
       "</style>\n",
       "<table border=\"1\" class=\"dataframe\">\n",
       "  <thead>\n",
       "    <tr style=\"text-align: right;\">\n",
       "      <th></th>\n",
       "      <th>limit_balance</th>\n",
       "      <th>pay_1</th>\n",
       "      <th>pay_2</th>\n",
       "      <th>pay_3</th>\n",
       "      <th>pay_4</th>\n",
       "      <th>pay_5</th>\n",
       "      <th>pay_6</th>\n",
       "      <th>default_payment_next_month</th>\n",
       "    </tr>\n",
       "  </thead>\n",
       "  <tbody>\n",
       "    <tr>\n",
       "      <th>2316</th>\n",
       "      <td>0.405063</td>\n",
       "      <td>1</td>\n",
       "      <td>-1</td>\n",
       "      <td>-1</td>\n",
       "      <td>-1</td>\n",
       "      <td>-1</td>\n",
       "      <td>-1</td>\n",
       "      <td>0</td>\n",
       "    </tr>\n",
       "    <tr>\n",
       "      <th>673</th>\n",
       "      <td>0.493671</td>\n",
       "      <td>0</td>\n",
       "      <td>0</td>\n",
       "      <td>0</td>\n",
       "      <td>0</td>\n",
       "      <td>0</td>\n",
       "      <td>0</td>\n",
       "      <td>0</td>\n",
       "    </tr>\n",
       "    <tr>\n",
       "      <th>193</th>\n",
       "      <td>0.025316</td>\n",
       "      <td>0</td>\n",
       "      <td>0</td>\n",
       "      <td>0</td>\n",
       "      <td>0</td>\n",
       "      <td>0</td>\n",
       "      <td>0</td>\n",
       "      <td>0</td>\n",
       "    </tr>\n",
       "    <tr>\n",
       "      <th>1400</th>\n",
       "      <td>0.025316</td>\n",
       "      <td>0</td>\n",
       "      <td>0</td>\n",
       "      <td>0</td>\n",
       "      <td>0</td>\n",
       "      <td>0</td>\n",
       "      <td>2</td>\n",
       "      <td>1</td>\n",
       "    </tr>\n",
       "    <tr>\n",
       "      <th>859</th>\n",
       "      <td>0.126582</td>\n",
       "      <td>1</td>\n",
       "      <td>1</td>\n",
       "      <td>-1</td>\n",
       "      <td>0</td>\n",
       "      <td>0</td>\n",
       "      <td>0</td>\n",
       "      <td>0</td>\n",
       "    </tr>\n",
       "    <tr>\n",
       "      <th>...</th>\n",
       "      <td>...</td>\n",
       "      <td>...</td>\n",
       "      <td>...</td>\n",
       "      <td>...</td>\n",
       "      <td>...</td>\n",
       "      <td>...</td>\n",
       "      <td>...</td>\n",
       "      <td>...</td>\n",
       "    </tr>\n",
       "    <tr>\n",
       "      <th>99</th>\n",
       "      <td>0.468354</td>\n",
       "      <td>2</td>\n",
       "      <td>0</td>\n",
       "      <td>0</td>\n",
       "      <td>0</td>\n",
       "      <td>0</td>\n",
       "      <td>2</td>\n",
       "      <td>0</td>\n",
       "    </tr>\n",
       "    <tr>\n",
       "      <th>1709</th>\n",
       "      <td>0.000000</td>\n",
       "      <td>1</td>\n",
       "      <td>2</td>\n",
       "      <td>3</td>\n",
       "      <td>2</td>\n",
       "      <td>0</td>\n",
       "      <td>0</td>\n",
       "      <td>1</td>\n",
       "    </tr>\n",
       "    <tr>\n",
       "      <th>1603</th>\n",
       "      <td>0.265823</td>\n",
       "      <td>0</td>\n",
       "      <td>0</td>\n",
       "      <td>0</td>\n",
       "      <td>0</td>\n",
       "      <td>0</td>\n",
       "      <td>0</td>\n",
       "      <td>1</td>\n",
       "    </tr>\n",
       "    <tr>\n",
       "      <th>2097</th>\n",
       "      <td>0.050633</td>\n",
       "      <td>-1</td>\n",
       "      <td>2</td>\n",
       "      <td>2</td>\n",
       "      <td>-1</td>\n",
       "      <td>-1</td>\n",
       "      <td>-1</td>\n",
       "      <td>0</td>\n",
       "    </tr>\n",
       "    <tr>\n",
       "      <th>889</th>\n",
       "      <td>0.177215</td>\n",
       "      <td>0</td>\n",
       "      <td>0</td>\n",
       "      <td>0</td>\n",
       "      <td>0</td>\n",
       "      <td>0</td>\n",
       "      <td>0</td>\n",
       "      <td>0</td>\n",
       "    </tr>\n",
       "  </tbody>\n",
       "</table>\n",
       "<p>740 rows × 8 columns</p>\n",
       "</div>"
      ],
      "text/plain": [
       "      limit_balance  pay_1  pay_2  pay_3  pay_4  pay_5  pay_6  \\\n",
       "2316       0.405063      1     -1     -1     -1     -1     -1   \n",
       "673        0.493671      0      0      0      0      0      0   \n",
       "193        0.025316      0      0      0      0      0      0   \n",
       "1400       0.025316      0      0      0      0      0      2   \n",
       "859        0.126582      1      1     -1      0      0      0   \n",
       "...             ...    ...    ...    ...    ...    ...    ...   \n",
       "99         0.468354      2      0      0      0      0      2   \n",
       "1709       0.000000      1      2      3      2      0      0   \n",
       "1603       0.265823      0      0      0      0      0      0   \n",
       "2097       0.050633     -1      2      2     -1     -1     -1   \n",
       "889        0.177215      0      0      0      0      0      0   \n",
       "\n",
       "      default_payment_next_month  \n",
       "2316                           0  \n",
       "673                            0  \n",
       "193                            0  \n",
       "1400                           1  \n",
       "859                            0  \n",
       "...                          ...  \n",
       "99                             0  \n",
       "1709                           1  \n",
       "1603                           1  \n",
       "2097                           0  \n",
       "889                            0  \n",
       "\n",
       "[740 rows x 8 columns]"
      ]
     },
     "execution_count": 57,
     "metadata": {},
     "output_type": "execute_result"
    }
   ],
   "source": [
    "testing_model[num_column]= scaler.transform(testing_model[num_column])\n",
    "testing_model"
   ]
  },
  {
   "cell_type": "markdown",
   "metadata": {},
   "source": [
    "1. Numerical Features\n",
    "- apply the same outliers handling as the train data on the test data\n",
    "- select column `Limit_Balance` as feature with numeric data type\n",
    "\n",
    "2. Categorical Features\n",
    "- There is no treatment whatsoever for categorical features because the data is already in the form of numbers which represent meaning\n",
    "- choose column pay_0 to pay_6 as feature with category type\n"
   ]
  },
  {
   "cell_type": "code",
   "execution_count": 58,
   "metadata": {},
   "outputs": [],
   "source": [
    "X_train = df_model.drop('default_payment_next_month',axis=1).copy()\n",
    "y_train = df_model['default_payment_next_month']\n",
    "\n",
    "X_test = testing_model.drop('default_payment_next_month',axis=1).copy()\n",
    "y_test = testing_model['default_payment_next_month']"
   ]
  },
  {
   "cell_type": "markdown",
   "metadata": {},
   "source": [
    "Prepare data for entry into the model."
   ]
  },
  {
   "cell_type": "markdown",
   "metadata": {},
   "source": [
    "## 6.Model Definition"
   ]
  },
  {
   "cell_type": "markdown",
   "metadata": {},
   "source": [
    "### Logistic Regression"
   ]
  },
  {
   "cell_type": "code",
   "execution_count": 59,
   "metadata": {},
   "outputs": [],
   "source": [
    "#Logistic Regression\n",
    "LOGREG = LogisticRegression()"
   ]
  },
  {
   "cell_type": "markdown",
   "metadata": {},
   "source": [
    "### SVM"
   ]
  },
  {
   "cell_type": "code",
   "execution_count": 60,
   "metadata": {},
   "outputs": [],
   "source": [
    "#SVM\n",
    "SVM = SVC(kernel='rbf',C=1)"
   ]
  },
  {
   "cell_type": "markdown",
   "metadata": {},
   "source": [
    "### Decision Tree"
   ]
  },
  {
   "cell_type": "code",
   "execution_count": 61,
   "metadata": {},
   "outputs": [],
   "source": [
    "# Decision Tree\n",
    "\n",
    "DT = DecisionTreeClassifier()"
   ]
  },
  {
   "cell_type": "markdown",
   "metadata": {},
   "source": [
    "### Random Forest"
   ]
  },
  {
   "cell_type": "code",
   "execution_count": 62,
   "metadata": {},
   "outputs": [],
   "source": [
    "RF = RandomForestClassifier()"
   ]
  },
  {
   "cell_type": "markdown",
   "metadata": {},
   "source": [
    "### KNN"
   ]
  },
  {
   "cell_type": "code",
   "execution_count": 63,
   "metadata": {},
   "outputs": [],
   "source": [
    "KNN = KNeighborsClassifier()"
   ]
  },
  {
   "cell_type": "markdown",
   "metadata": {},
   "source": [
    "### Naive Bayes"
   ]
  },
  {
   "cell_type": "code",
   "execution_count": 64,
   "metadata": {},
   "outputs": [],
   "source": [
    "NB = GaussianNB()"
   ]
  },
  {
   "cell_type": "markdown",
   "metadata": {},
   "source": [
    "### AdaBoost"
   ]
  },
  {
   "cell_type": "code",
   "execution_count": 65,
   "metadata": {},
   "outputs": [],
   "source": [
    "ADA = AdaBoostClassifier()"
   ]
  },
  {
   "cell_type": "markdown",
   "metadata": {},
   "source": [
    "> At the model definition stage, the models used are as follows:\n",
    "1. Logistics Regression\n",
    "2. SVM\n",
    "3. Decision Tree Classifier\n",
    "4. RandomForestClassifier\n",
    "5. KNN\n",
    "6.Naive Bayes\n",
    "7. AdaBoost\n",
    "\n",
    "> From these models, cross validation scores will be seen based on the accuracy of the mean and std, so that one model is obtained which will be used in the next stage"
   ]
  },
  {
   "cell_type": "markdown",
   "metadata": {},
   "source": [
    "## 7.Model Training"
   ]
  },
  {
   "cell_type": "code",
   "execution_count": 66,
   "metadata": {},
   "outputs": [
    {
     "data": {
      "text/html": [
       "<style>#sk-container-id-1 {color: black;background-color: white;}#sk-container-id-1 pre{padding: 0;}#sk-container-id-1 div.sk-toggleable {background-color: white;}#sk-container-id-1 label.sk-toggleable__label {cursor: pointer;display: block;width: 100%;margin-bottom: 0;padding: 0.3em;box-sizing: border-box;text-align: center;}#sk-container-id-1 label.sk-toggleable__label-arrow:before {content: \"▸\";float: left;margin-right: 0.25em;color: #696969;}#sk-container-id-1 label.sk-toggleable__label-arrow:hover:before {color: black;}#sk-container-id-1 div.sk-estimator:hover label.sk-toggleable__label-arrow:before {color: black;}#sk-container-id-1 div.sk-toggleable__content {max-height: 0;max-width: 0;overflow: hidden;text-align: left;background-color: #f0f8ff;}#sk-container-id-1 div.sk-toggleable__content pre {margin: 0.2em;color: black;border-radius: 0.25em;background-color: #f0f8ff;}#sk-container-id-1 input.sk-toggleable__control:checked~div.sk-toggleable__content {max-height: 200px;max-width: 100%;overflow: auto;}#sk-container-id-1 input.sk-toggleable__control:checked~label.sk-toggleable__label-arrow:before {content: \"▾\";}#sk-container-id-1 div.sk-estimator input.sk-toggleable__control:checked~label.sk-toggleable__label {background-color: #d4ebff;}#sk-container-id-1 div.sk-label input.sk-toggleable__control:checked~label.sk-toggleable__label {background-color: #d4ebff;}#sk-container-id-1 input.sk-hidden--visually {border: 0;clip: rect(1px 1px 1px 1px);clip: rect(1px, 1px, 1px, 1px);height: 1px;margin: -1px;overflow: hidden;padding: 0;position: absolute;width: 1px;}#sk-container-id-1 div.sk-estimator {font-family: monospace;background-color: #f0f8ff;border: 1px dotted black;border-radius: 0.25em;box-sizing: border-box;margin-bottom: 0.5em;}#sk-container-id-1 div.sk-estimator:hover {background-color: #d4ebff;}#sk-container-id-1 div.sk-parallel-item::after {content: \"\";width: 100%;border-bottom: 1px solid gray;flex-grow: 1;}#sk-container-id-1 div.sk-label:hover label.sk-toggleable__label {background-color: #d4ebff;}#sk-container-id-1 div.sk-serial::before {content: \"\";position: absolute;border-left: 1px solid gray;box-sizing: border-box;top: 0;bottom: 0;left: 50%;z-index: 0;}#sk-container-id-1 div.sk-serial {display: flex;flex-direction: column;align-items: center;background-color: white;padding-right: 0.2em;padding-left: 0.2em;position: relative;}#sk-container-id-1 div.sk-item {position: relative;z-index: 1;}#sk-container-id-1 div.sk-parallel {display: flex;align-items: stretch;justify-content: center;background-color: white;position: relative;}#sk-container-id-1 div.sk-item::before, #sk-container-id-1 div.sk-parallel-item::before {content: \"\";position: absolute;border-left: 1px solid gray;box-sizing: border-box;top: 0;bottom: 0;left: 50%;z-index: -1;}#sk-container-id-1 div.sk-parallel-item {display: flex;flex-direction: column;z-index: 1;position: relative;background-color: white;}#sk-container-id-1 div.sk-parallel-item:first-child::after {align-self: flex-end;width: 50%;}#sk-container-id-1 div.sk-parallel-item:last-child::after {align-self: flex-start;width: 50%;}#sk-container-id-1 div.sk-parallel-item:only-child::after {width: 0;}#sk-container-id-1 div.sk-dashed-wrapped {border: 1px dashed gray;margin: 0 0.4em 0.5em 0.4em;box-sizing: border-box;padding-bottom: 0.4em;background-color: white;}#sk-container-id-1 div.sk-label label {font-family: monospace;font-weight: bold;display: inline-block;line-height: 1.2em;}#sk-container-id-1 div.sk-label-container {text-align: center;}#sk-container-id-1 div.sk-container {/* jupyter's `normalize.less` sets `[hidden] { display: none; }` but bootstrap.min.css set `[hidden] { display: none !important; }` so we also need the `!important` here to be able to override the default hidden behavior on the sphinx rendered scikit-learn.org. See: https://github.com/scikit-learn/scikit-learn/issues/21755 */display: inline-block !important;position: relative;}#sk-container-id-1 div.sk-text-repr-fallback {display: none;}</style><div id=\"sk-container-id-1\" class=\"sk-top-container\"><div class=\"sk-text-repr-fallback\"><pre>LogisticRegression()</pre><b>In a Jupyter environment, please rerun this cell to show the HTML representation or trust the notebook. <br />On GitHub, the HTML representation is unable to render, please try loading this page with nbviewer.org.</b></div><div class=\"sk-container\" hidden><div class=\"sk-item\"><div class=\"sk-estimator sk-toggleable\"><input class=\"sk-toggleable__control sk-hidden--visually\" id=\"sk-estimator-id-1\" type=\"checkbox\" checked><label for=\"sk-estimator-id-1\" class=\"sk-toggleable__label sk-toggleable__label-arrow\">LogisticRegression</label><div class=\"sk-toggleable__content\"><pre>LogisticRegression()</pre></div></div></div></div></div>"
      ],
      "text/plain": [
       "LogisticRegression()"
      ]
     },
     "execution_count": 66,
     "metadata": {},
     "output_type": "execute_result"
    }
   ],
   "source": [
    "#Logistic regression\n",
    "LOGREG.fit(X_train, y_train)"
   ]
  },
  {
   "cell_type": "code",
   "execution_count": 67,
   "metadata": {},
   "outputs": [
    {
     "data": {
      "text/html": [
       "<style>#sk-container-id-2 {color: black;background-color: white;}#sk-container-id-2 pre{padding: 0;}#sk-container-id-2 div.sk-toggleable {background-color: white;}#sk-container-id-2 label.sk-toggleable__label {cursor: pointer;display: block;width: 100%;margin-bottom: 0;padding: 0.3em;box-sizing: border-box;text-align: center;}#sk-container-id-2 label.sk-toggleable__label-arrow:before {content: \"▸\";float: left;margin-right: 0.25em;color: #696969;}#sk-container-id-2 label.sk-toggleable__label-arrow:hover:before {color: black;}#sk-container-id-2 div.sk-estimator:hover label.sk-toggleable__label-arrow:before {color: black;}#sk-container-id-2 div.sk-toggleable__content {max-height: 0;max-width: 0;overflow: hidden;text-align: left;background-color: #f0f8ff;}#sk-container-id-2 div.sk-toggleable__content pre {margin: 0.2em;color: black;border-radius: 0.25em;background-color: #f0f8ff;}#sk-container-id-2 input.sk-toggleable__control:checked~div.sk-toggleable__content {max-height: 200px;max-width: 100%;overflow: auto;}#sk-container-id-2 input.sk-toggleable__control:checked~label.sk-toggleable__label-arrow:before {content: \"▾\";}#sk-container-id-2 div.sk-estimator input.sk-toggleable__control:checked~label.sk-toggleable__label {background-color: #d4ebff;}#sk-container-id-2 div.sk-label input.sk-toggleable__control:checked~label.sk-toggleable__label {background-color: #d4ebff;}#sk-container-id-2 input.sk-hidden--visually {border: 0;clip: rect(1px 1px 1px 1px);clip: rect(1px, 1px, 1px, 1px);height: 1px;margin: -1px;overflow: hidden;padding: 0;position: absolute;width: 1px;}#sk-container-id-2 div.sk-estimator {font-family: monospace;background-color: #f0f8ff;border: 1px dotted black;border-radius: 0.25em;box-sizing: border-box;margin-bottom: 0.5em;}#sk-container-id-2 div.sk-estimator:hover {background-color: #d4ebff;}#sk-container-id-2 div.sk-parallel-item::after {content: \"\";width: 100%;border-bottom: 1px solid gray;flex-grow: 1;}#sk-container-id-2 div.sk-label:hover label.sk-toggleable__label {background-color: #d4ebff;}#sk-container-id-2 div.sk-serial::before {content: \"\";position: absolute;border-left: 1px solid gray;box-sizing: border-box;top: 0;bottom: 0;left: 50%;z-index: 0;}#sk-container-id-2 div.sk-serial {display: flex;flex-direction: column;align-items: center;background-color: white;padding-right: 0.2em;padding-left: 0.2em;position: relative;}#sk-container-id-2 div.sk-item {position: relative;z-index: 1;}#sk-container-id-2 div.sk-parallel {display: flex;align-items: stretch;justify-content: center;background-color: white;position: relative;}#sk-container-id-2 div.sk-item::before, #sk-container-id-2 div.sk-parallel-item::before {content: \"\";position: absolute;border-left: 1px solid gray;box-sizing: border-box;top: 0;bottom: 0;left: 50%;z-index: -1;}#sk-container-id-2 div.sk-parallel-item {display: flex;flex-direction: column;z-index: 1;position: relative;background-color: white;}#sk-container-id-2 div.sk-parallel-item:first-child::after {align-self: flex-end;width: 50%;}#sk-container-id-2 div.sk-parallel-item:last-child::after {align-self: flex-start;width: 50%;}#sk-container-id-2 div.sk-parallel-item:only-child::after {width: 0;}#sk-container-id-2 div.sk-dashed-wrapped {border: 1px dashed gray;margin: 0 0.4em 0.5em 0.4em;box-sizing: border-box;padding-bottom: 0.4em;background-color: white;}#sk-container-id-2 div.sk-label label {font-family: monospace;font-weight: bold;display: inline-block;line-height: 1.2em;}#sk-container-id-2 div.sk-label-container {text-align: center;}#sk-container-id-2 div.sk-container {/* jupyter's `normalize.less` sets `[hidden] { display: none; }` but bootstrap.min.css set `[hidden] { display: none !important; }` so we also need the `!important` here to be able to override the default hidden behavior on the sphinx rendered scikit-learn.org. See: https://github.com/scikit-learn/scikit-learn/issues/21755 */display: inline-block !important;position: relative;}#sk-container-id-2 div.sk-text-repr-fallback {display: none;}</style><div id=\"sk-container-id-2\" class=\"sk-top-container\"><div class=\"sk-text-repr-fallback\"><pre>SVC(C=1)</pre><b>In a Jupyter environment, please rerun this cell to show the HTML representation or trust the notebook. <br />On GitHub, the HTML representation is unable to render, please try loading this page with nbviewer.org.</b></div><div class=\"sk-container\" hidden><div class=\"sk-item\"><div class=\"sk-estimator sk-toggleable\"><input class=\"sk-toggleable__control sk-hidden--visually\" id=\"sk-estimator-id-2\" type=\"checkbox\" checked><label for=\"sk-estimator-id-2\" class=\"sk-toggleable__label sk-toggleable__label-arrow\">SVC</label><div class=\"sk-toggleable__content\"><pre>SVC(C=1)</pre></div></div></div></div></div>"
      ],
      "text/plain": [
       "SVC(C=1)"
      ]
     },
     "execution_count": 67,
     "metadata": {},
     "output_type": "execute_result"
    }
   ],
   "source": [
    "#SVM\n",
    "SVM.fit(X_train, y_train)"
   ]
  },
  {
   "cell_type": "code",
   "execution_count": 68,
   "metadata": {},
   "outputs": [
    {
     "data": {
      "text/html": [
       "<style>#sk-container-id-3 {color: black;background-color: white;}#sk-container-id-3 pre{padding: 0;}#sk-container-id-3 div.sk-toggleable {background-color: white;}#sk-container-id-3 label.sk-toggleable__label {cursor: pointer;display: block;width: 100%;margin-bottom: 0;padding: 0.3em;box-sizing: border-box;text-align: center;}#sk-container-id-3 label.sk-toggleable__label-arrow:before {content: \"▸\";float: left;margin-right: 0.25em;color: #696969;}#sk-container-id-3 label.sk-toggleable__label-arrow:hover:before {color: black;}#sk-container-id-3 div.sk-estimator:hover label.sk-toggleable__label-arrow:before {color: black;}#sk-container-id-3 div.sk-toggleable__content {max-height: 0;max-width: 0;overflow: hidden;text-align: left;background-color: #f0f8ff;}#sk-container-id-3 div.sk-toggleable__content pre {margin: 0.2em;color: black;border-radius: 0.25em;background-color: #f0f8ff;}#sk-container-id-3 input.sk-toggleable__control:checked~div.sk-toggleable__content {max-height: 200px;max-width: 100%;overflow: auto;}#sk-container-id-3 input.sk-toggleable__control:checked~label.sk-toggleable__label-arrow:before {content: \"▾\";}#sk-container-id-3 div.sk-estimator input.sk-toggleable__control:checked~label.sk-toggleable__label {background-color: #d4ebff;}#sk-container-id-3 div.sk-label input.sk-toggleable__control:checked~label.sk-toggleable__label {background-color: #d4ebff;}#sk-container-id-3 input.sk-hidden--visually {border: 0;clip: rect(1px 1px 1px 1px);clip: rect(1px, 1px, 1px, 1px);height: 1px;margin: -1px;overflow: hidden;padding: 0;position: absolute;width: 1px;}#sk-container-id-3 div.sk-estimator {font-family: monospace;background-color: #f0f8ff;border: 1px dotted black;border-radius: 0.25em;box-sizing: border-box;margin-bottom: 0.5em;}#sk-container-id-3 div.sk-estimator:hover {background-color: #d4ebff;}#sk-container-id-3 div.sk-parallel-item::after {content: \"\";width: 100%;border-bottom: 1px solid gray;flex-grow: 1;}#sk-container-id-3 div.sk-label:hover label.sk-toggleable__label {background-color: #d4ebff;}#sk-container-id-3 div.sk-serial::before {content: \"\";position: absolute;border-left: 1px solid gray;box-sizing: border-box;top: 0;bottom: 0;left: 50%;z-index: 0;}#sk-container-id-3 div.sk-serial {display: flex;flex-direction: column;align-items: center;background-color: white;padding-right: 0.2em;padding-left: 0.2em;position: relative;}#sk-container-id-3 div.sk-item {position: relative;z-index: 1;}#sk-container-id-3 div.sk-parallel {display: flex;align-items: stretch;justify-content: center;background-color: white;position: relative;}#sk-container-id-3 div.sk-item::before, #sk-container-id-3 div.sk-parallel-item::before {content: \"\";position: absolute;border-left: 1px solid gray;box-sizing: border-box;top: 0;bottom: 0;left: 50%;z-index: -1;}#sk-container-id-3 div.sk-parallel-item {display: flex;flex-direction: column;z-index: 1;position: relative;background-color: white;}#sk-container-id-3 div.sk-parallel-item:first-child::after {align-self: flex-end;width: 50%;}#sk-container-id-3 div.sk-parallel-item:last-child::after {align-self: flex-start;width: 50%;}#sk-container-id-3 div.sk-parallel-item:only-child::after {width: 0;}#sk-container-id-3 div.sk-dashed-wrapped {border: 1px dashed gray;margin: 0 0.4em 0.5em 0.4em;box-sizing: border-box;padding-bottom: 0.4em;background-color: white;}#sk-container-id-3 div.sk-label label {font-family: monospace;font-weight: bold;display: inline-block;line-height: 1.2em;}#sk-container-id-3 div.sk-label-container {text-align: center;}#sk-container-id-3 div.sk-container {/* jupyter's `normalize.less` sets `[hidden] { display: none; }` but bootstrap.min.css set `[hidden] { display: none !important; }` so we also need the `!important` here to be able to override the default hidden behavior on the sphinx rendered scikit-learn.org. See: https://github.com/scikit-learn/scikit-learn/issues/21755 */display: inline-block !important;position: relative;}#sk-container-id-3 div.sk-text-repr-fallback {display: none;}</style><div id=\"sk-container-id-3\" class=\"sk-top-container\"><div class=\"sk-text-repr-fallback\"><pre>DecisionTreeClassifier()</pre><b>In a Jupyter environment, please rerun this cell to show the HTML representation or trust the notebook. <br />On GitHub, the HTML representation is unable to render, please try loading this page with nbviewer.org.</b></div><div class=\"sk-container\" hidden><div class=\"sk-item\"><div class=\"sk-estimator sk-toggleable\"><input class=\"sk-toggleable__control sk-hidden--visually\" id=\"sk-estimator-id-3\" type=\"checkbox\" checked><label for=\"sk-estimator-id-3\" class=\"sk-toggleable__label sk-toggleable__label-arrow\">DecisionTreeClassifier</label><div class=\"sk-toggleable__content\"><pre>DecisionTreeClassifier()</pre></div></div></div></div></div>"
      ],
      "text/plain": [
       "DecisionTreeClassifier()"
      ]
     },
     "execution_count": 68,
     "metadata": {},
     "output_type": "execute_result"
    }
   ],
   "source": [
    "#Decission Tree\n",
    "DT.fit(X_train, y_train)"
   ]
  },
  {
   "cell_type": "code",
   "execution_count": 69,
   "metadata": {},
   "outputs": [
    {
     "data": {
      "text/html": [
       "<style>#sk-container-id-4 {color: black;background-color: white;}#sk-container-id-4 pre{padding: 0;}#sk-container-id-4 div.sk-toggleable {background-color: white;}#sk-container-id-4 label.sk-toggleable__label {cursor: pointer;display: block;width: 100%;margin-bottom: 0;padding: 0.3em;box-sizing: border-box;text-align: center;}#sk-container-id-4 label.sk-toggleable__label-arrow:before {content: \"▸\";float: left;margin-right: 0.25em;color: #696969;}#sk-container-id-4 label.sk-toggleable__label-arrow:hover:before {color: black;}#sk-container-id-4 div.sk-estimator:hover label.sk-toggleable__label-arrow:before {color: black;}#sk-container-id-4 div.sk-toggleable__content {max-height: 0;max-width: 0;overflow: hidden;text-align: left;background-color: #f0f8ff;}#sk-container-id-4 div.sk-toggleable__content pre {margin: 0.2em;color: black;border-radius: 0.25em;background-color: #f0f8ff;}#sk-container-id-4 input.sk-toggleable__control:checked~div.sk-toggleable__content {max-height: 200px;max-width: 100%;overflow: auto;}#sk-container-id-4 input.sk-toggleable__control:checked~label.sk-toggleable__label-arrow:before {content: \"▾\";}#sk-container-id-4 div.sk-estimator input.sk-toggleable__control:checked~label.sk-toggleable__label {background-color: #d4ebff;}#sk-container-id-4 div.sk-label input.sk-toggleable__control:checked~label.sk-toggleable__label {background-color: #d4ebff;}#sk-container-id-4 input.sk-hidden--visually {border: 0;clip: rect(1px 1px 1px 1px);clip: rect(1px, 1px, 1px, 1px);height: 1px;margin: -1px;overflow: hidden;padding: 0;position: absolute;width: 1px;}#sk-container-id-4 div.sk-estimator {font-family: monospace;background-color: #f0f8ff;border: 1px dotted black;border-radius: 0.25em;box-sizing: border-box;margin-bottom: 0.5em;}#sk-container-id-4 div.sk-estimator:hover {background-color: #d4ebff;}#sk-container-id-4 div.sk-parallel-item::after {content: \"\";width: 100%;border-bottom: 1px solid gray;flex-grow: 1;}#sk-container-id-4 div.sk-label:hover label.sk-toggleable__label {background-color: #d4ebff;}#sk-container-id-4 div.sk-serial::before {content: \"\";position: absolute;border-left: 1px solid gray;box-sizing: border-box;top: 0;bottom: 0;left: 50%;z-index: 0;}#sk-container-id-4 div.sk-serial {display: flex;flex-direction: column;align-items: center;background-color: white;padding-right: 0.2em;padding-left: 0.2em;position: relative;}#sk-container-id-4 div.sk-item {position: relative;z-index: 1;}#sk-container-id-4 div.sk-parallel {display: flex;align-items: stretch;justify-content: center;background-color: white;position: relative;}#sk-container-id-4 div.sk-item::before, #sk-container-id-4 div.sk-parallel-item::before {content: \"\";position: absolute;border-left: 1px solid gray;box-sizing: border-box;top: 0;bottom: 0;left: 50%;z-index: -1;}#sk-container-id-4 div.sk-parallel-item {display: flex;flex-direction: column;z-index: 1;position: relative;background-color: white;}#sk-container-id-4 div.sk-parallel-item:first-child::after {align-self: flex-end;width: 50%;}#sk-container-id-4 div.sk-parallel-item:last-child::after {align-self: flex-start;width: 50%;}#sk-container-id-4 div.sk-parallel-item:only-child::after {width: 0;}#sk-container-id-4 div.sk-dashed-wrapped {border: 1px dashed gray;margin: 0 0.4em 0.5em 0.4em;box-sizing: border-box;padding-bottom: 0.4em;background-color: white;}#sk-container-id-4 div.sk-label label {font-family: monospace;font-weight: bold;display: inline-block;line-height: 1.2em;}#sk-container-id-4 div.sk-label-container {text-align: center;}#sk-container-id-4 div.sk-container {/* jupyter's `normalize.less` sets `[hidden] { display: none; }` but bootstrap.min.css set `[hidden] { display: none !important; }` so we also need the `!important` here to be able to override the default hidden behavior on the sphinx rendered scikit-learn.org. See: https://github.com/scikit-learn/scikit-learn/issues/21755 */display: inline-block !important;position: relative;}#sk-container-id-4 div.sk-text-repr-fallback {display: none;}</style><div id=\"sk-container-id-4\" class=\"sk-top-container\"><div class=\"sk-text-repr-fallback\"><pre>RandomForestClassifier()</pre><b>In a Jupyter environment, please rerun this cell to show the HTML representation or trust the notebook. <br />On GitHub, the HTML representation is unable to render, please try loading this page with nbviewer.org.</b></div><div class=\"sk-container\" hidden><div class=\"sk-item\"><div class=\"sk-estimator sk-toggleable\"><input class=\"sk-toggleable__control sk-hidden--visually\" id=\"sk-estimator-id-4\" type=\"checkbox\" checked><label for=\"sk-estimator-id-4\" class=\"sk-toggleable__label sk-toggleable__label-arrow\">RandomForestClassifier</label><div class=\"sk-toggleable__content\"><pre>RandomForestClassifier()</pre></div></div></div></div></div>"
      ],
      "text/plain": [
       "RandomForestClassifier()"
      ]
     },
     "execution_count": 69,
     "metadata": {},
     "output_type": "execute_result"
    }
   ],
   "source": [
    "#Random Forest\n",
    "RF.fit(X_train, y_train)"
   ]
  },
  {
   "cell_type": "code",
   "execution_count": 70,
   "metadata": {},
   "outputs": [
    {
     "data": {
      "text/html": [
       "<style>#sk-container-id-5 {color: black;background-color: white;}#sk-container-id-5 pre{padding: 0;}#sk-container-id-5 div.sk-toggleable {background-color: white;}#sk-container-id-5 label.sk-toggleable__label {cursor: pointer;display: block;width: 100%;margin-bottom: 0;padding: 0.3em;box-sizing: border-box;text-align: center;}#sk-container-id-5 label.sk-toggleable__label-arrow:before {content: \"▸\";float: left;margin-right: 0.25em;color: #696969;}#sk-container-id-5 label.sk-toggleable__label-arrow:hover:before {color: black;}#sk-container-id-5 div.sk-estimator:hover label.sk-toggleable__label-arrow:before {color: black;}#sk-container-id-5 div.sk-toggleable__content {max-height: 0;max-width: 0;overflow: hidden;text-align: left;background-color: #f0f8ff;}#sk-container-id-5 div.sk-toggleable__content pre {margin: 0.2em;color: black;border-radius: 0.25em;background-color: #f0f8ff;}#sk-container-id-5 input.sk-toggleable__control:checked~div.sk-toggleable__content {max-height: 200px;max-width: 100%;overflow: auto;}#sk-container-id-5 input.sk-toggleable__control:checked~label.sk-toggleable__label-arrow:before {content: \"▾\";}#sk-container-id-5 div.sk-estimator input.sk-toggleable__control:checked~label.sk-toggleable__label {background-color: #d4ebff;}#sk-container-id-5 div.sk-label input.sk-toggleable__control:checked~label.sk-toggleable__label {background-color: #d4ebff;}#sk-container-id-5 input.sk-hidden--visually {border: 0;clip: rect(1px 1px 1px 1px);clip: rect(1px, 1px, 1px, 1px);height: 1px;margin: -1px;overflow: hidden;padding: 0;position: absolute;width: 1px;}#sk-container-id-5 div.sk-estimator {font-family: monospace;background-color: #f0f8ff;border: 1px dotted black;border-radius: 0.25em;box-sizing: border-box;margin-bottom: 0.5em;}#sk-container-id-5 div.sk-estimator:hover {background-color: #d4ebff;}#sk-container-id-5 div.sk-parallel-item::after {content: \"\";width: 100%;border-bottom: 1px solid gray;flex-grow: 1;}#sk-container-id-5 div.sk-label:hover label.sk-toggleable__label {background-color: #d4ebff;}#sk-container-id-5 div.sk-serial::before {content: \"\";position: absolute;border-left: 1px solid gray;box-sizing: border-box;top: 0;bottom: 0;left: 50%;z-index: 0;}#sk-container-id-5 div.sk-serial {display: flex;flex-direction: column;align-items: center;background-color: white;padding-right: 0.2em;padding-left: 0.2em;position: relative;}#sk-container-id-5 div.sk-item {position: relative;z-index: 1;}#sk-container-id-5 div.sk-parallel {display: flex;align-items: stretch;justify-content: center;background-color: white;position: relative;}#sk-container-id-5 div.sk-item::before, #sk-container-id-5 div.sk-parallel-item::before {content: \"\";position: absolute;border-left: 1px solid gray;box-sizing: border-box;top: 0;bottom: 0;left: 50%;z-index: -1;}#sk-container-id-5 div.sk-parallel-item {display: flex;flex-direction: column;z-index: 1;position: relative;background-color: white;}#sk-container-id-5 div.sk-parallel-item:first-child::after {align-self: flex-end;width: 50%;}#sk-container-id-5 div.sk-parallel-item:last-child::after {align-self: flex-start;width: 50%;}#sk-container-id-5 div.sk-parallel-item:only-child::after {width: 0;}#sk-container-id-5 div.sk-dashed-wrapped {border: 1px dashed gray;margin: 0 0.4em 0.5em 0.4em;box-sizing: border-box;padding-bottom: 0.4em;background-color: white;}#sk-container-id-5 div.sk-label label {font-family: monospace;font-weight: bold;display: inline-block;line-height: 1.2em;}#sk-container-id-5 div.sk-label-container {text-align: center;}#sk-container-id-5 div.sk-container {/* jupyter's `normalize.less` sets `[hidden] { display: none; }` but bootstrap.min.css set `[hidden] { display: none !important; }` so we also need the `!important` here to be able to override the default hidden behavior on the sphinx rendered scikit-learn.org. See: https://github.com/scikit-learn/scikit-learn/issues/21755 */display: inline-block !important;position: relative;}#sk-container-id-5 div.sk-text-repr-fallback {display: none;}</style><div id=\"sk-container-id-5\" class=\"sk-top-container\"><div class=\"sk-text-repr-fallback\"><pre>KNeighborsClassifier()</pre><b>In a Jupyter environment, please rerun this cell to show the HTML representation or trust the notebook. <br />On GitHub, the HTML representation is unable to render, please try loading this page with nbviewer.org.</b></div><div class=\"sk-container\" hidden><div class=\"sk-item\"><div class=\"sk-estimator sk-toggleable\"><input class=\"sk-toggleable__control sk-hidden--visually\" id=\"sk-estimator-id-5\" type=\"checkbox\" checked><label for=\"sk-estimator-id-5\" class=\"sk-toggleable__label sk-toggleable__label-arrow\">KNeighborsClassifier</label><div class=\"sk-toggleable__content\"><pre>KNeighborsClassifier()</pre></div></div></div></div></div>"
      ],
      "text/plain": [
       "KNeighborsClassifier()"
      ]
     },
     "execution_count": 70,
     "metadata": {},
     "output_type": "execute_result"
    }
   ],
   "source": [
    "#KNN\n",
    "KNN.fit(X_train, y_train)"
   ]
  },
  {
   "cell_type": "code",
   "execution_count": 71,
   "metadata": {},
   "outputs": [
    {
     "data": {
      "text/html": [
       "<style>#sk-container-id-6 {color: black;background-color: white;}#sk-container-id-6 pre{padding: 0;}#sk-container-id-6 div.sk-toggleable {background-color: white;}#sk-container-id-6 label.sk-toggleable__label {cursor: pointer;display: block;width: 100%;margin-bottom: 0;padding: 0.3em;box-sizing: border-box;text-align: center;}#sk-container-id-6 label.sk-toggleable__label-arrow:before {content: \"▸\";float: left;margin-right: 0.25em;color: #696969;}#sk-container-id-6 label.sk-toggleable__label-arrow:hover:before {color: black;}#sk-container-id-6 div.sk-estimator:hover label.sk-toggleable__label-arrow:before {color: black;}#sk-container-id-6 div.sk-toggleable__content {max-height: 0;max-width: 0;overflow: hidden;text-align: left;background-color: #f0f8ff;}#sk-container-id-6 div.sk-toggleable__content pre {margin: 0.2em;color: black;border-radius: 0.25em;background-color: #f0f8ff;}#sk-container-id-6 input.sk-toggleable__control:checked~div.sk-toggleable__content {max-height: 200px;max-width: 100%;overflow: auto;}#sk-container-id-6 input.sk-toggleable__control:checked~label.sk-toggleable__label-arrow:before {content: \"▾\";}#sk-container-id-6 div.sk-estimator input.sk-toggleable__control:checked~label.sk-toggleable__label {background-color: #d4ebff;}#sk-container-id-6 div.sk-label input.sk-toggleable__control:checked~label.sk-toggleable__label {background-color: #d4ebff;}#sk-container-id-6 input.sk-hidden--visually {border: 0;clip: rect(1px 1px 1px 1px);clip: rect(1px, 1px, 1px, 1px);height: 1px;margin: -1px;overflow: hidden;padding: 0;position: absolute;width: 1px;}#sk-container-id-6 div.sk-estimator {font-family: monospace;background-color: #f0f8ff;border: 1px dotted black;border-radius: 0.25em;box-sizing: border-box;margin-bottom: 0.5em;}#sk-container-id-6 div.sk-estimator:hover {background-color: #d4ebff;}#sk-container-id-6 div.sk-parallel-item::after {content: \"\";width: 100%;border-bottom: 1px solid gray;flex-grow: 1;}#sk-container-id-6 div.sk-label:hover label.sk-toggleable__label {background-color: #d4ebff;}#sk-container-id-6 div.sk-serial::before {content: \"\";position: absolute;border-left: 1px solid gray;box-sizing: border-box;top: 0;bottom: 0;left: 50%;z-index: 0;}#sk-container-id-6 div.sk-serial {display: flex;flex-direction: column;align-items: center;background-color: white;padding-right: 0.2em;padding-left: 0.2em;position: relative;}#sk-container-id-6 div.sk-item {position: relative;z-index: 1;}#sk-container-id-6 div.sk-parallel {display: flex;align-items: stretch;justify-content: center;background-color: white;position: relative;}#sk-container-id-6 div.sk-item::before, #sk-container-id-6 div.sk-parallel-item::before {content: \"\";position: absolute;border-left: 1px solid gray;box-sizing: border-box;top: 0;bottom: 0;left: 50%;z-index: -1;}#sk-container-id-6 div.sk-parallel-item {display: flex;flex-direction: column;z-index: 1;position: relative;background-color: white;}#sk-container-id-6 div.sk-parallel-item:first-child::after {align-self: flex-end;width: 50%;}#sk-container-id-6 div.sk-parallel-item:last-child::after {align-self: flex-start;width: 50%;}#sk-container-id-6 div.sk-parallel-item:only-child::after {width: 0;}#sk-container-id-6 div.sk-dashed-wrapped {border: 1px dashed gray;margin: 0 0.4em 0.5em 0.4em;box-sizing: border-box;padding-bottom: 0.4em;background-color: white;}#sk-container-id-6 div.sk-label label {font-family: monospace;font-weight: bold;display: inline-block;line-height: 1.2em;}#sk-container-id-6 div.sk-label-container {text-align: center;}#sk-container-id-6 div.sk-container {/* jupyter's `normalize.less` sets `[hidden] { display: none; }` but bootstrap.min.css set `[hidden] { display: none !important; }` so we also need the `!important` here to be able to override the default hidden behavior on the sphinx rendered scikit-learn.org. See: https://github.com/scikit-learn/scikit-learn/issues/21755 */display: inline-block !important;position: relative;}#sk-container-id-6 div.sk-text-repr-fallback {display: none;}</style><div id=\"sk-container-id-6\" class=\"sk-top-container\"><div class=\"sk-text-repr-fallback\"><pre>GaussianNB()</pre><b>In a Jupyter environment, please rerun this cell to show the HTML representation or trust the notebook. <br />On GitHub, the HTML representation is unable to render, please try loading this page with nbviewer.org.</b></div><div class=\"sk-container\" hidden><div class=\"sk-item\"><div class=\"sk-estimator sk-toggleable\"><input class=\"sk-toggleable__control sk-hidden--visually\" id=\"sk-estimator-id-6\" type=\"checkbox\" checked><label for=\"sk-estimator-id-6\" class=\"sk-toggleable__label sk-toggleable__label-arrow\">GaussianNB</label><div class=\"sk-toggleable__content\"><pre>GaussianNB()</pre></div></div></div></div></div>"
      ],
      "text/plain": [
       "GaussianNB()"
      ]
     },
     "execution_count": 71,
     "metadata": {},
     "output_type": "execute_result"
    }
   ],
   "source": [
    "#NB\n",
    "NB.fit(X_train, y_train)"
   ]
  },
  {
   "cell_type": "code",
   "execution_count": 72,
   "metadata": {},
   "outputs": [
    {
     "data": {
      "text/html": [
       "<style>#sk-container-id-7 {color: black;background-color: white;}#sk-container-id-7 pre{padding: 0;}#sk-container-id-7 div.sk-toggleable {background-color: white;}#sk-container-id-7 label.sk-toggleable__label {cursor: pointer;display: block;width: 100%;margin-bottom: 0;padding: 0.3em;box-sizing: border-box;text-align: center;}#sk-container-id-7 label.sk-toggleable__label-arrow:before {content: \"▸\";float: left;margin-right: 0.25em;color: #696969;}#sk-container-id-7 label.sk-toggleable__label-arrow:hover:before {color: black;}#sk-container-id-7 div.sk-estimator:hover label.sk-toggleable__label-arrow:before {color: black;}#sk-container-id-7 div.sk-toggleable__content {max-height: 0;max-width: 0;overflow: hidden;text-align: left;background-color: #f0f8ff;}#sk-container-id-7 div.sk-toggleable__content pre {margin: 0.2em;color: black;border-radius: 0.25em;background-color: #f0f8ff;}#sk-container-id-7 input.sk-toggleable__control:checked~div.sk-toggleable__content {max-height: 200px;max-width: 100%;overflow: auto;}#sk-container-id-7 input.sk-toggleable__control:checked~label.sk-toggleable__label-arrow:before {content: \"▾\";}#sk-container-id-7 div.sk-estimator input.sk-toggleable__control:checked~label.sk-toggleable__label {background-color: #d4ebff;}#sk-container-id-7 div.sk-label input.sk-toggleable__control:checked~label.sk-toggleable__label {background-color: #d4ebff;}#sk-container-id-7 input.sk-hidden--visually {border: 0;clip: rect(1px 1px 1px 1px);clip: rect(1px, 1px, 1px, 1px);height: 1px;margin: -1px;overflow: hidden;padding: 0;position: absolute;width: 1px;}#sk-container-id-7 div.sk-estimator {font-family: monospace;background-color: #f0f8ff;border: 1px dotted black;border-radius: 0.25em;box-sizing: border-box;margin-bottom: 0.5em;}#sk-container-id-7 div.sk-estimator:hover {background-color: #d4ebff;}#sk-container-id-7 div.sk-parallel-item::after {content: \"\";width: 100%;border-bottom: 1px solid gray;flex-grow: 1;}#sk-container-id-7 div.sk-label:hover label.sk-toggleable__label {background-color: #d4ebff;}#sk-container-id-7 div.sk-serial::before {content: \"\";position: absolute;border-left: 1px solid gray;box-sizing: border-box;top: 0;bottom: 0;left: 50%;z-index: 0;}#sk-container-id-7 div.sk-serial {display: flex;flex-direction: column;align-items: center;background-color: white;padding-right: 0.2em;padding-left: 0.2em;position: relative;}#sk-container-id-7 div.sk-item {position: relative;z-index: 1;}#sk-container-id-7 div.sk-parallel {display: flex;align-items: stretch;justify-content: center;background-color: white;position: relative;}#sk-container-id-7 div.sk-item::before, #sk-container-id-7 div.sk-parallel-item::before {content: \"\";position: absolute;border-left: 1px solid gray;box-sizing: border-box;top: 0;bottom: 0;left: 50%;z-index: -1;}#sk-container-id-7 div.sk-parallel-item {display: flex;flex-direction: column;z-index: 1;position: relative;background-color: white;}#sk-container-id-7 div.sk-parallel-item:first-child::after {align-self: flex-end;width: 50%;}#sk-container-id-7 div.sk-parallel-item:last-child::after {align-self: flex-start;width: 50%;}#sk-container-id-7 div.sk-parallel-item:only-child::after {width: 0;}#sk-container-id-7 div.sk-dashed-wrapped {border: 1px dashed gray;margin: 0 0.4em 0.5em 0.4em;box-sizing: border-box;padding-bottom: 0.4em;background-color: white;}#sk-container-id-7 div.sk-label label {font-family: monospace;font-weight: bold;display: inline-block;line-height: 1.2em;}#sk-container-id-7 div.sk-label-container {text-align: center;}#sk-container-id-7 div.sk-container {/* jupyter's `normalize.less` sets `[hidden] { display: none; }` but bootstrap.min.css set `[hidden] { display: none !important; }` so we also need the `!important` here to be able to override the default hidden behavior on the sphinx rendered scikit-learn.org. See: https://github.com/scikit-learn/scikit-learn/issues/21755 */display: inline-block !important;position: relative;}#sk-container-id-7 div.sk-text-repr-fallback {display: none;}</style><div id=\"sk-container-id-7\" class=\"sk-top-container\"><div class=\"sk-text-repr-fallback\"><pre>AdaBoostClassifier()</pre><b>In a Jupyter environment, please rerun this cell to show the HTML representation or trust the notebook. <br />On GitHub, the HTML representation is unable to render, please try loading this page with nbviewer.org.</b></div><div class=\"sk-container\" hidden><div class=\"sk-item\"><div class=\"sk-estimator sk-toggleable\"><input class=\"sk-toggleable__control sk-hidden--visually\" id=\"sk-estimator-id-7\" type=\"checkbox\" checked><label for=\"sk-estimator-id-7\" class=\"sk-toggleable__label sk-toggleable__label-arrow\">AdaBoostClassifier</label><div class=\"sk-toggleable__content\"><pre>AdaBoostClassifier()</pre></div></div></div></div></div>"
      ],
      "text/plain": [
       "AdaBoostClassifier()"
      ]
     },
     "execution_count": 72,
     "metadata": {},
     "output_type": "execute_result"
    }
   ],
   "source": [
    "#AdaBoost\n",
    "ADA.fit(X_train, y_train)"
   ]
  },
  {
   "cell_type": "markdown",
   "metadata": {},
   "source": [
    "## 8.Model Evaluation"
   ]
  },
  {
   "cell_type": "markdown",
   "metadata": {},
   "source": [
    "### Cross Validation\n",
    "\n",
    "`Cross Validation` systematically creates and evaluates multiple models on multiple subsets of a data set.\n",
    "- `Mean` : how well the procedure performs on average.\n",
    "- `Standard Deviation(Std)` : standard deviation or standard deviation, which is a measure of the spread of data that shows the average distance from the middle value to a point value. The larger the resulting standard deviation, the larger the spread from the mean, and vice versa. The purpose of the standard deviation is to see the distance between the average accuracy and the accuracy of each trial (iteration)."
   ]
  },
  {
   "cell_type": "code",
   "execution_count": 73,
   "metadata": {},
   "outputs": [
    {
     "name": "stdout",
     "output_type": "stream",
     "text": [
      "accuracy Score - Mean - Cross Validation :  0.8181797914665936\n",
      "accuracy Score - Std - Cross Validation  :  0.019088665636477733\n"
     ]
    }
   ],
   "source": [
    "#Logistic Regression\n",
    "log_model_train_cross_val = cross_val_score(LOGREG, \n",
    "                                           X_train, \n",
    "                                           y_train, \n",
    "                                           cv=5, \n",
    "                                           scoring='accuracy')\n",
    "\n",
    "print('accuracy Score - Mean - Cross Validation : ', log_model_train_cross_val.mean())\n",
    "print('accuracy Score - Std - Cross Validation  : ', log_model_train_cross_val.std())"
   ]
  },
  {
   "cell_type": "code",
   "execution_count": 74,
   "metadata": {},
   "outputs": [
    {
     "name": "stdout",
     "output_type": "stream",
     "text": [
      "accuracy Score - Mean - Cross Validation :  0.8100665386198381\n",
      "accuracy Score - Std - Cross Validation  :  0.03224820349616695\n"
     ]
    }
   ],
   "source": [
    "#SVM\n",
    "svm_model_train_cross_val = cross_val_score(SVM, \n",
    "                                           X_train, \n",
    "                                           y_train, \n",
    "                                           cv=5, \n",
    "                                           scoring='accuracy')\n",
    "\n",
    "print('accuracy Score - Mean - Cross Validation : ', svm_model_train_cross_val.mean())\n",
    "print('accuracy Score - Std - Cross Validation  : ', svm_model_train_cross_val.std())"
   ]
  },
  {
   "cell_type": "code",
   "execution_count": 75,
   "metadata": {},
   "outputs": [
    {
     "name": "stdout",
     "output_type": "stream",
     "text": [
      "accuracy Score - Mean - Cross Validation :  0.7772859788722732\n",
      "accuracy Score - Std - Cross Validation  :  0.02909859731927503\n"
     ]
    }
   ],
   "source": [
    "#Decission Tree\n",
    "\n",
    "dt_modelt_rain_cross_val = cross_val_score(DT, \n",
    "                                           X_train, \n",
    "                                           y_train, \n",
    "                                           cv=5, \n",
    "                                           scoring='accuracy')\n",
    "\n",
    "print('accuracy Score - Mean - Cross Validation : ', dt_modelt_rain_cross_val.mean())\n",
    "print('accuracy Score - Std - Cross Validation  : ', dt_modelt_rain_cross_val.std())"
   ]
  },
  {
   "cell_type": "code",
   "execution_count": 76,
   "metadata": {},
   "outputs": [
    {
     "name": "stdout",
     "output_type": "stream",
     "text": [
      "accuracy Score - Mean - Cross Validation :  0.7857456441212787\n",
      "accuracy Score - Std - Cross Validation  :  0.03805658666801523\n"
     ]
    }
   ],
   "source": [
    "#Random Forest\n",
    "\n",
    "rf_modelt_rain_cross_val = cross_val_score(RF, \n",
    "                                           X_train, \n",
    "                                           y_train, \n",
    "                                           cv=5, \n",
    "                                           scoring='accuracy')\n",
    "\n",
    "print('accuracy Score - Mean - Cross Validation : ', rf_modelt_rain_cross_val.mean())\n",
    "print('accuracy Score - Std - Cross Validation  : ', rf_modelt_rain_cross_val.std())"
   ]
  },
  {
   "cell_type": "code",
   "execution_count": 77,
   "metadata": {},
   "outputs": [
    {
     "name": "stdout",
     "output_type": "stream",
     "text": [
      "accuracy Score - Mean - Cross Validation :  0.7854100928339507\n",
      "accuracy Score - Std - Cross Validation  :  0.04958108071785411\n"
     ]
    }
   ],
   "source": [
    "#KNN\n",
    "\n",
    "knn_modelt_rain_cross_val = cross_val_score(KNN, \n",
    "                                           X_train, \n",
    "                                           y_train, \n",
    "                                           cv=5, \n",
    "                                           scoring='accuracy')\n",
    "\n",
    "print('accuracy Score - Mean - Cross Validation : ', knn_modelt_rain_cross_val.mean())\n",
    "print('accuracy Score - Std - Cross Validation  : ', knn_modelt_rain_cross_val.std())"
   ]
  },
  {
   "cell_type": "code",
   "execution_count": 78,
   "metadata": {},
   "outputs": [
    {
     "name": "stdout",
     "output_type": "stream",
     "text": [
      "accuracy Score - Mean - Cross Validation :  0.8012844697489367\n",
      "accuracy Score - Std - Cross Validation  :  0.05512553837065316\n"
     ]
    }
   ],
   "source": [
    "#NB\n",
    "nb_modelt_rain_cross_val = cross_val_score(NB, \n",
    "                                           X_train, \n",
    "                                           y_train, \n",
    "                                           cv=5, \n",
    "                                           scoring='accuracy')\n",
    "\n",
    "print('accuracy Score - Mean - Cross Validation : ', nb_modelt_rain_cross_val.mean())\n",
    "print('accuracy Score - Std - Cross Validation  : ', nb_modelt_rain_cross_val.std())\n"
   ]
  },
  {
   "cell_type": "code",
   "execution_count": 79,
   "metadata": {},
   "outputs": [
    {
     "name": "stdout",
     "output_type": "stream",
     "text": [
      "accuracy Score - Mean - Cross Validation :  0.8202073901312481\n",
      "accuracy Score - Std - Cross Validation  :  0.03631220745798882\n"
     ]
    }
   ],
   "source": [
    "#AdaBoost\n",
    "ada_modelt_rain_cross_val = cross_val_score(ADA, \n",
    "                                           X_train, \n",
    "                                           y_train, \n",
    "                                           cv=5, \n",
    "                                           scoring='accuracy')\n",
    "\n",
    "print('accuracy Score - Mean - Cross Validation : ', ada_modelt_rain_cross_val.mean())\n",
    "print('accuracy Score - Std - Cross Validation  : ', ada_modelt_rain_cross_val.std())\n"
   ]
  },
  {
   "cell_type": "code",
   "execution_count": 80,
   "metadata": {},
   "outputs": [],
   "source": [
    "rata = []\n",
    "dev = []\n",
    "for i in [log_model_train_cross_val,svm_model_train_cross_val,dt_modelt_rain_cross_val,rf_modelt_rain_cross_val,knn_modelt_rain_cross_val,nb_modelt_rain_cross_val,ada_modelt_rain_cross_val]:\n",
    "    rata.append(i.mean())\n",
    "    dev.append(i.std())"
   ]
  },
  {
   "cell_type": "code",
   "execution_count": 81,
   "metadata": {},
   "outputs": [],
   "source": [
    "model = ['Logistic Regression', 'SVM', 'Decision Tree', 'Random Forest','KNN', 'Naive Bayes' ,'AdaBoost']\n",
    "hasil_cros_validation = pd.DataFrame(model)\n",
    "hasil_cros_validation['mean']=rata\n",
    "hasil_cros_validation['std']=dev"
   ]
  },
  {
   "cell_type": "code",
   "execution_count": 82,
   "metadata": {},
   "outputs": [
    {
     "data": {
      "text/html": [
       "<div>\n",
       "<style scoped>\n",
       "    .dataframe tbody tr th:only-of-type {\n",
       "        vertical-align: middle;\n",
       "    }\n",
       "\n",
       "    .dataframe tbody tr th {\n",
       "        vertical-align: top;\n",
       "    }\n",
       "\n",
       "    .dataframe thead th {\n",
       "        text-align: right;\n",
       "    }\n",
       "</style>\n",
       "<table border=\"1\" class=\"dataframe\">\n",
       "  <thead>\n",
       "    <tr style=\"text-align: right;\">\n",
       "      <th></th>\n",
       "      <th>0</th>\n",
       "      <th>mean</th>\n",
       "      <th>std</th>\n",
       "    </tr>\n",
       "  </thead>\n",
       "  <tbody>\n",
       "    <tr>\n",
       "      <th>6</th>\n",
       "      <td>AdaBoost</td>\n",
       "      <td>0.820207</td>\n",
       "      <td>0.036312</td>\n",
       "    </tr>\n",
       "    <tr>\n",
       "      <th>0</th>\n",
       "      <td>Logistic Regression</td>\n",
       "      <td>0.818180</td>\n",
       "      <td>0.019089</td>\n",
       "    </tr>\n",
       "    <tr>\n",
       "      <th>1</th>\n",
       "      <td>SVM</td>\n",
       "      <td>0.810067</td>\n",
       "      <td>0.032248</td>\n",
       "    </tr>\n",
       "    <tr>\n",
       "      <th>5</th>\n",
       "      <td>Naive Bayes</td>\n",
       "      <td>0.801284</td>\n",
       "      <td>0.055126</td>\n",
       "    </tr>\n",
       "    <tr>\n",
       "      <th>3</th>\n",
       "      <td>Random Forest</td>\n",
       "      <td>0.785746</td>\n",
       "      <td>0.038057</td>\n",
       "    </tr>\n",
       "    <tr>\n",
       "      <th>4</th>\n",
       "      <td>KNN</td>\n",
       "      <td>0.785410</td>\n",
       "      <td>0.049581</td>\n",
       "    </tr>\n",
       "    <tr>\n",
       "      <th>2</th>\n",
       "      <td>Decision Tree</td>\n",
       "      <td>0.777286</td>\n",
       "      <td>0.029099</td>\n",
       "    </tr>\n",
       "  </tbody>\n",
       "</table>\n",
       "</div>"
      ],
      "text/plain": [
       "                     0      mean       std\n",
       "6             AdaBoost  0.820207  0.036312\n",
       "0  Logistic Regression  0.818180  0.019089\n",
       "1                  SVM  0.810067  0.032248\n",
       "5          Naive Bayes  0.801284  0.055126\n",
       "3        Random Forest  0.785746  0.038057\n",
       "4                  KNN  0.785410  0.049581\n",
       "2        Decision Tree  0.777286  0.029099"
      ]
     },
     "execution_count": 82,
     "metadata": {},
     "output_type": "execute_result"
    }
   ],
   "source": [
    "hasil_cros_validation.sort_values(by= 'mean' , ascending = False) "
   ]
  },
  {
   "cell_type": "markdown",
   "metadata": {},
   "source": [
    "> At the Cross Validation stage in each predetermined model. A model is declared good based on a high mean accuracy value but a low standard deviation.\n",
    "\n",
    "> The cross validation results stated that the AdaBoost model had the highest mean accuracy of 0.820207 and had a std accuracy of 0.036312 which was considered low because the std value was still close to 0."
   ]
  },
  {
   "cell_type": "markdown",
   "metadata": {},
   "source": [
    "### Model Improvement (Hyperparameter Tuning)\n",
    "\n",
    "Hyperparameter tuning is the value for the parameters used to influence the learning process\n",
    "\n",
    "The following are the steps for determining the best parameters using the AdaBoost model."
   ]
  },
  {
   "cell_type": "code",
   "execution_count": 83,
   "metadata": {},
   "outputs": [
    {
     "data": {
      "text/html": [
       "<style>#sk-container-id-8 {color: black;background-color: white;}#sk-container-id-8 pre{padding: 0;}#sk-container-id-8 div.sk-toggleable {background-color: white;}#sk-container-id-8 label.sk-toggleable__label {cursor: pointer;display: block;width: 100%;margin-bottom: 0;padding: 0.3em;box-sizing: border-box;text-align: center;}#sk-container-id-8 label.sk-toggleable__label-arrow:before {content: \"▸\";float: left;margin-right: 0.25em;color: #696969;}#sk-container-id-8 label.sk-toggleable__label-arrow:hover:before {color: black;}#sk-container-id-8 div.sk-estimator:hover label.sk-toggleable__label-arrow:before {color: black;}#sk-container-id-8 div.sk-toggleable__content {max-height: 0;max-width: 0;overflow: hidden;text-align: left;background-color: #f0f8ff;}#sk-container-id-8 div.sk-toggleable__content pre {margin: 0.2em;color: black;border-radius: 0.25em;background-color: #f0f8ff;}#sk-container-id-8 input.sk-toggleable__control:checked~div.sk-toggleable__content {max-height: 200px;max-width: 100%;overflow: auto;}#sk-container-id-8 input.sk-toggleable__control:checked~label.sk-toggleable__label-arrow:before {content: \"▾\";}#sk-container-id-8 div.sk-estimator input.sk-toggleable__control:checked~label.sk-toggleable__label {background-color: #d4ebff;}#sk-container-id-8 div.sk-label input.sk-toggleable__control:checked~label.sk-toggleable__label {background-color: #d4ebff;}#sk-container-id-8 input.sk-hidden--visually {border: 0;clip: rect(1px 1px 1px 1px);clip: rect(1px, 1px, 1px, 1px);height: 1px;margin: -1px;overflow: hidden;padding: 0;position: absolute;width: 1px;}#sk-container-id-8 div.sk-estimator {font-family: monospace;background-color: #f0f8ff;border: 1px dotted black;border-radius: 0.25em;box-sizing: border-box;margin-bottom: 0.5em;}#sk-container-id-8 div.sk-estimator:hover {background-color: #d4ebff;}#sk-container-id-8 div.sk-parallel-item::after {content: \"\";width: 100%;border-bottom: 1px solid gray;flex-grow: 1;}#sk-container-id-8 div.sk-label:hover label.sk-toggleable__label {background-color: #d4ebff;}#sk-container-id-8 div.sk-serial::before {content: \"\";position: absolute;border-left: 1px solid gray;box-sizing: border-box;top: 0;bottom: 0;left: 50%;z-index: 0;}#sk-container-id-8 div.sk-serial {display: flex;flex-direction: column;align-items: center;background-color: white;padding-right: 0.2em;padding-left: 0.2em;position: relative;}#sk-container-id-8 div.sk-item {position: relative;z-index: 1;}#sk-container-id-8 div.sk-parallel {display: flex;align-items: stretch;justify-content: center;background-color: white;position: relative;}#sk-container-id-8 div.sk-item::before, #sk-container-id-8 div.sk-parallel-item::before {content: \"\";position: absolute;border-left: 1px solid gray;box-sizing: border-box;top: 0;bottom: 0;left: 50%;z-index: -1;}#sk-container-id-8 div.sk-parallel-item {display: flex;flex-direction: column;z-index: 1;position: relative;background-color: white;}#sk-container-id-8 div.sk-parallel-item:first-child::after {align-self: flex-end;width: 50%;}#sk-container-id-8 div.sk-parallel-item:last-child::after {align-self: flex-start;width: 50%;}#sk-container-id-8 div.sk-parallel-item:only-child::after {width: 0;}#sk-container-id-8 div.sk-dashed-wrapped {border: 1px dashed gray;margin: 0 0.4em 0.5em 0.4em;box-sizing: border-box;padding-bottom: 0.4em;background-color: white;}#sk-container-id-8 div.sk-label label {font-family: monospace;font-weight: bold;display: inline-block;line-height: 1.2em;}#sk-container-id-8 div.sk-label-container {text-align: center;}#sk-container-id-8 div.sk-container {/* jupyter's `normalize.less` sets `[hidden] { display: none; }` but bootstrap.min.css set `[hidden] { display: none !important; }` so we also need the `!important` here to be able to override the default hidden behavior on the sphinx rendered scikit-learn.org. See: https://github.com/scikit-learn/scikit-learn/issues/21755 */display: inline-block !important;position: relative;}#sk-container-id-8 div.sk-text-repr-fallback {display: none;}</style><div id=\"sk-container-id-8\" class=\"sk-top-container\"><div class=\"sk-text-repr-fallback\"><pre>GridSearchCV(cv=5, estimator=AdaBoostClassifier(),\n",
       "             param_grid=[{&#x27;algorithm&#x27;: [&#x27;SAMME&#x27;, &#x27;SAMME.R&#x27;],\n",
       "                          &#x27;base_estimator&#x27;: [DecisionTreeClassifier(max_depth=5),\n",
       "                                             DecisionTreeClassifier(max_depth=10),\n",
       "                                             DecisionTreeClassifier(max_depth=20)],\n",
       "                          &#x27;learning_rate&#x27;: [0.01, 0.1, 0.5, 1],\n",
       "                          &#x27;n_estimators&#x27;: [100, 150, 200, 350]}],\n",
       "             return_train_score=True, scoring=&#x27;recall&#x27;)</pre><b>In a Jupyter environment, please rerun this cell to show the HTML representation or trust the notebook. <br />On GitHub, the HTML representation is unable to render, please try loading this page with nbviewer.org.</b></div><div class=\"sk-container\" hidden><div class=\"sk-item sk-dashed-wrapped\"><div class=\"sk-label-container\"><div class=\"sk-label sk-toggleable\"><input class=\"sk-toggleable__control sk-hidden--visually\" id=\"sk-estimator-id-8\" type=\"checkbox\" ><label for=\"sk-estimator-id-8\" class=\"sk-toggleable__label sk-toggleable__label-arrow\">GridSearchCV</label><div class=\"sk-toggleable__content\"><pre>GridSearchCV(cv=5, estimator=AdaBoostClassifier(),\n",
       "             param_grid=[{&#x27;algorithm&#x27;: [&#x27;SAMME&#x27;, &#x27;SAMME.R&#x27;],\n",
       "                          &#x27;base_estimator&#x27;: [DecisionTreeClassifier(max_depth=5),\n",
       "                                             DecisionTreeClassifier(max_depth=10),\n",
       "                                             DecisionTreeClassifier(max_depth=20)],\n",
       "                          &#x27;learning_rate&#x27;: [0.01, 0.1, 0.5, 1],\n",
       "                          &#x27;n_estimators&#x27;: [100, 150, 200, 350]}],\n",
       "             return_train_score=True, scoring=&#x27;recall&#x27;)</pre></div></div></div><div class=\"sk-parallel\"><div class=\"sk-parallel-item\"><div class=\"sk-item\"><div class=\"sk-label-container\"><div class=\"sk-label sk-toggleable\"><input class=\"sk-toggleable__control sk-hidden--visually\" id=\"sk-estimator-id-9\" type=\"checkbox\" ><label for=\"sk-estimator-id-9\" class=\"sk-toggleable__label sk-toggleable__label-arrow\">estimator: AdaBoostClassifier</label><div class=\"sk-toggleable__content\"><pre>AdaBoostClassifier()</pre></div></div></div><div class=\"sk-serial\"><div class=\"sk-item\"><div class=\"sk-estimator sk-toggleable\"><input class=\"sk-toggleable__control sk-hidden--visually\" id=\"sk-estimator-id-10\" type=\"checkbox\" ><label for=\"sk-estimator-id-10\" class=\"sk-toggleable__label sk-toggleable__label-arrow\">AdaBoostClassifier</label><div class=\"sk-toggleable__content\"><pre>AdaBoostClassifier()</pre></div></div></div></div></div></div></div></div></div></div>"
      ],
      "text/plain": [
       "GridSearchCV(cv=5, estimator=AdaBoostClassifier(),\n",
       "             param_grid=[{'algorithm': ['SAMME', 'SAMME.R'],\n",
       "                          'base_estimator': [DecisionTreeClassifier(max_depth=5),\n",
       "                                             DecisionTreeClassifier(max_depth=10),\n",
       "                                             DecisionTreeClassifier(max_depth=20)],\n",
       "                          'learning_rate': [0.01, 0.1, 0.5, 1],\n",
       "                          'n_estimators': [100, 150, 200, 350]}],\n",
       "             return_train_score=True, scoring='recall')"
      ]
     },
     "execution_count": 83,
     "metadata": {},
     "output_type": "execute_result"
    }
   ],
   "source": [
    "params = [\n",
    "    {'base_estimator': [DecisionTreeClassifier(max_depth=5),DecisionTreeClassifier(max_depth=10),DecisionTreeClassifier(max_depth=20)], #3\n",
    "      'n_estimators': [100, 150, 200, 350],        # 4\n",
    "     'learning_rate' :[0.01, 0.1, 0.5, 1], #4\n",
    "      'algorithm' :['SAMME', 'SAMME.R'] #2\n",
    "     #  Total 3*4*4*2 = 96 combinations\n",
    "},]\n",
    "\n",
    "ADA = AdaBoostClassifier()\n",
    "\n",
    "grid_search = GridSearchCV(ADA, params, cv=5,\n",
    "                           scoring='recall',\n",
    "                           return_train_score=True)\n",
    "grid_search.fit(X_train, y_train)"
   ]
  },
  {
   "cell_type": "markdown",
   "metadata": {},
   "source": [
    "> The code above is a way to do hyperparameter tuning with 96 hyperparameter combinations and then it will be determined which is the best hyperparameter combination to use in the model.\n",
    "\n",
    "> the `Scoring` parameter in the tuning hyperparameter was chosen because in this study it is more focused on cases where clients experiencing non-performing payments are not predicted as smooth paying clients in next month's payments. This case must be anticipated so that credit card issuers do not suffer losses by granting credit card rights to clients who are actually unable to pay their debt obligations."
   ]
  },
  {
   "cell_type": "code",
   "execution_count": 84,
   "metadata": {},
   "outputs": [
    {
     "data": {
      "text/plain": [
       "{'algorithm': 'SAMME',\n",
       " 'base_estimator': DecisionTreeClassifier(max_depth=5),\n",
       " 'learning_rate': 0.1,\n",
       " 'n_estimators': 200}"
      ]
     },
     "execution_count": 84,
     "metadata": {},
     "output_type": "execute_result"
    }
   ],
   "source": [
    "grid_search.best_params_"
   ]
  },
  {
   "cell_type": "markdown",
   "metadata": {},
   "source": [
    "The code above shows the best hyperparameter tuning results for the AdaBoost model."
   ]
  },
  {
   "cell_type": "code",
   "execution_count": 85,
   "metadata": {},
   "outputs": [
    {
     "data": {
      "text/plain": [
       "0.4002749656292964"
      ]
     },
     "execution_count": 85,
     "metadata": {},
     "output_type": "execute_result"
    }
   ],
   "source": [
    "grid_search.best_score_"
   ]
  },
  {
   "cell_type": "code",
   "execution_count": 110,
   "metadata": {},
   "outputs": [
    {
     "data": {
      "text/html": [
       "<style>#sk-container-id-9 {color: black;background-color: white;}#sk-container-id-9 pre{padding: 0;}#sk-container-id-9 div.sk-toggleable {background-color: white;}#sk-container-id-9 label.sk-toggleable__label {cursor: pointer;display: block;width: 100%;margin-bottom: 0;padding: 0.3em;box-sizing: border-box;text-align: center;}#sk-container-id-9 label.sk-toggleable__label-arrow:before {content: \"▸\";float: left;margin-right: 0.25em;color: #696969;}#sk-container-id-9 label.sk-toggleable__label-arrow:hover:before {color: black;}#sk-container-id-9 div.sk-estimator:hover label.sk-toggleable__label-arrow:before {color: black;}#sk-container-id-9 div.sk-toggleable__content {max-height: 0;max-width: 0;overflow: hidden;text-align: left;background-color: #f0f8ff;}#sk-container-id-9 div.sk-toggleable__content pre {margin: 0.2em;color: black;border-radius: 0.25em;background-color: #f0f8ff;}#sk-container-id-9 input.sk-toggleable__control:checked~div.sk-toggleable__content {max-height: 200px;max-width: 100%;overflow: auto;}#sk-container-id-9 input.sk-toggleable__control:checked~label.sk-toggleable__label-arrow:before {content: \"▾\";}#sk-container-id-9 div.sk-estimator input.sk-toggleable__control:checked~label.sk-toggleable__label {background-color: #d4ebff;}#sk-container-id-9 div.sk-label input.sk-toggleable__control:checked~label.sk-toggleable__label {background-color: #d4ebff;}#sk-container-id-9 input.sk-hidden--visually {border: 0;clip: rect(1px 1px 1px 1px);clip: rect(1px, 1px, 1px, 1px);height: 1px;margin: -1px;overflow: hidden;padding: 0;position: absolute;width: 1px;}#sk-container-id-9 div.sk-estimator {font-family: monospace;background-color: #f0f8ff;border: 1px dotted black;border-radius: 0.25em;box-sizing: border-box;margin-bottom: 0.5em;}#sk-container-id-9 div.sk-estimator:hover {background-color: #d4ebff;}#sk-container-id-9 div.sk-parallel-item::after {content: \"\";width: 100%;border-bottom: 1px solid gray;flex-grow: 1;}#sk-container-id-9 div.sk-label:hover label.sk-toggleable__label {background-color: #d4ebff;}#sk-container-id-9 div.sk-serial::before {content: \"\";position: absolute;border-left: 1px solid gray;box-sizing: border-box;top: 0;bottom: 0;left: 50%;z-index: 0;}#sk-container-id-9 div.sk-serial {display: flex;flex-direction: column;align-items: center;background-color: white;padding-right: 0.2em;padding-left: 0.2em;position: relative;}#sk-container-id-9 div.sk-item {position: relative;z-index: 1;}#sk-container-id-9 div.sk-parallel {display: flex;align-items: stretch;justify-content: center;background-color: white;position: relative;}#sk-container-id-9 div.sk-item::before, #sk-container-id-9 div.sk-parallel-item::before {content: \"\";position: absolute;border-left: 1px solid gray;box-sizing: border-box;top: 0;bottom: 0;left: 50%;z-index: -1;}#sk-container-id-9 div.sk-parallel-item {display: flex;flex-direction: column;z-index: 1;position: relative;background-color: white;}#sk-container-id-9 div.sk-parallel-item:first-child::after {align-self: flex-end;width: 50%;}#sk-container-id-9 div.sk-parallel-item:last-child::after {align-self: flex-start;width: 50%;}#sk-container-id-9 div.sk-parallel-item:only-child::after {width: 0;}#sk-container-id-9 div.sk-dashed-wrapped {border: 1px dashed gray;margin: 0 0.4em 0.5em 0.4em;box-sizing: border-box;padding-bottom: 0.4em;background-color: white;}#sk-container-id-9 div.sk-label label {font-family: monospace;font-weight: bold;display: inline-block;line-height: 1.2em;}#sk-container-id-9 div.sk-label-container {text-align: center;}#sk-container-id-9 div.sk-container {/* jupyter's `normalize.less` sets `[hidden] { display: none; }` but bootstrap.min.css set `[hidden] { display: none !important; }` so we also need the `!important` here to be able to override the default hidden behavior on the sphinx rendered scikit-learn.org. See: https://github.com/scikit-learn/scikit-learn/issues/21755 */display: inline-block !important;position: relative;}#sk-container-id-9 div.sk-text-repr-fallback {display: none;}</style><div id=\"sk-container-id-9\" class=\"sk-top-container\"><div class=\"sk-text-repr-fallback\"><pre>AdaBoostClassifier(algorithm=&#x27;SAMME&#x27;,\n",
       "                   base_estimator=DecisionTreeClassifier(max_depth=5),\n",
       "                   learning_rate=0.1, n_estimators=200)</pre><b>In a Jupyter environment, please rerun this cell to show the HTML representation or trust the notebook. <br />On GitHub, the HTML representation is unable to render, please try loading this page with nbviewer.org.</b></div><div class=\"sk-container\" hidden><div class=\"sk-item sk-dashed-wrapped\"><div class=\"sk-label-container\"><div class=\"sk-label sk-toggleable\"><input class=\"sk-toggleable__control sk-hidden--visually\" id=\"sk-estimator-id-11\" type=\"checkbox\" ><label for=\"sk-estimator-id-11\" class=\"sk-toggleable__label sk-toggleable__label-arrow\">AdaBoostClassifier</label><div class=\"sk-toggleable__content\"><pre>AdaBoostClassifier(algorithm=&#x27;SAMME&#x27;,\n",
       "                   base_estimator=DecisionTreeClassifier(max_depth=5),\n",
       "                   learning_rate=0.1, n_estimators=200)</pre></div></div></div><div class=\"sk-parallel\"><div class=\"sk-parallel-item\"><div class=\"sk-item\"><div class=\"sk-label-container\"><div class=\"sk-label sk-toggleable\"><input class=\"sk-toggleable__control sk-hidden--visually\" id=\"sk-estimator-id-12\" type=\"checkbox\" ><label for=\"sk-estimator-id-12\" class=\"sk-toggleable__label sk-toggleable__label-arrow\">base_estimator: DecisionTreeClassifier</label><div class=\"sk-toggleable__content\"><pre>DecisionTreeClassifier(max_depth=5)</pre></div></div></div><div class=\"sk-serial\"><div class=\"sk-item\"><div class=\"sk-estimator sk-toggleable\"><input class=\"sk-toggleable__control sk-hidden--visually\" id=\"sk-estimator-id-13\" type=\"checkbox\" ><label for=\"sk-estimator-id-13\" class=\"sk-toggleable__label sk-toggleable__label-arrow\">DecisionTreeClassifier</label><div class=\"sk-toggleable__content\"><pre>DecisionTreeClassifier(max_depth=5)</pre></div></div></div></div></div></div></div></div></div></div>"
      ],
      "text/plain": [
       "AdaBoostClassifier(algorithm='SAMME',\n",
       "                   base_estimator=DecisionTreeClassifier(max_depth=5),\n",
       "                   learning_rate=0.1, n_estimators=200)"
      ]
     },
     "execution_count": 110,
     "metadata": {},
     "output_type": "execute_result"
    }
   ],
   "source": [
    "grid_search.best_estimator_"
   ]
  },
  {
   "cell_type": "code",
   "execution_count": 86,
   "metadata": {},
   "outputs": [
    {
     "name": "stdout",
     "output_type": "stream",
     "text": [
      "              precision    recall  f1-score   support\n",
      "\n",
      "           0       0.87      0.97      0.91      2325\n",
      "           1       0.79      0.46      0.58       634\n",
      "\n",
      "    accuracy                           0.86      2959\n",
      "   macro avg       0.83      0.71      0.75      2959\n",
      "weighted avg       0.85      0.86      0.84      2959\n",
      "\n",
      "              precision    recall  f1-score   support\n",
      "\n",
      "           0       0.87      0.96      0.91       581\n",
      "           1       0.77      0.45      0.57       159\n",
      "\n",
      "    accuracy                           0.85       740\n",
      "   macro avg       0.82      0.71      0.74       740\n",
      "weighted avg       0.85      0.85      0.84       740\n",
      "\n"
     ]
    }
   ],
   "source": [
    "model = grid_search.best_estimator_\n",
    "\n",
    "model.fit(X_train, y_train)\n",
    "\n",
    "model_train = model.predict(X_train)\n",
    "model_test = model.predict(X_test)\n",
    "\n",
    "print(classification_report(y_train, model_train))\n",
    "print(classification_report(y_test, model_test))"
   ]
  },
  {
   "cell_type": "markdown",
   "metadata": {},
   "source": [
    "### Comparison of the performance of the AdaBoost model `before` and `after` Hyperparameter tuning"
   ]
  },
  {
   "cell_type": "markdown",
   "metadata": {},
   "source": [
    "### Result `before` Hyperparameter tuning"
   ]
  },
  {
   "cell_type": "code",
   "execution_count": 87,
   "metadata": {},
   "outputs": [
    {
     "name": "stdout",
     "output_type": "stream",
     "text": [
      "              precision    recall  f1-score   support\n",
      "\n",
      "           0       0.86      0.96      0.90      2325\n",
      "           1       0.72      0.41      0.52       634\n",
      "\n",
      "    accuracy                           0.84      2959\n",
      "   macro avg       0.79      0.68      0.71      2959\n",
      "weighted avg       0.83      0.84      0.82      2959\n",
      "\n",
      "              precision    recall  f1-score   support\n",
      "\n",
      "           0       0.85      0.95      0.90       581\n",
      "           1       0.71      0.41      0.52       159\n",
      "\n",
      "    accuracy                           0.84       740\n",
      "   macro avg       0.78      0.68      0.71       740\n",
      "weighted avg       0.82      0.84      0.82       740\n",
      "\n"
     ]
    }
   ],
   "source": [
    "ADA = AdaBoostClassifier()\n",
    "ADA.fit(X_train, y_train)\n",
    "\n",
    "ADA_train =ADA.predict(X_train)\n",
    "ADA_test = ADA.predict(X_test)\n",
    "\n",
    "print(classification_report(y_train, ADA_train))\n",
    "print(classification_report(y_test, ADA_test))"
   ]
  },
  {
   "cell_type": "code",
   "execution_count": 112,
   "metadata": {},
   "outputs": [
    {
     "data": {
      "image/png": "[encoded data removed]",
      "text/plain": [
       "<Figure size 432x288 with 2 Axes>"
      ]
     },
     "metadata": {
      "needs_background": "light"
     },
     "output_type": "display_data"
    }
   ],
   "source": [
    "cm = confusion_matrix(y_test, ADA_test, labels=ADA.classes_)\n",
    "disp = ConfusionMatrixDisplay(confusion_matrix=cm,display_labels=ADA.classes_)\n",
    "\n",
    "disp.plot()\n",
    "plt.show()"
   ]
  },
  {
   "cell_type": "markdown",
   "metadata": {},
   "source": [
    "### Result `After` Hyperparameter tuning"
   ]
  },
  {
   "cell_type": "code",
   "execution_count": 88,
   "metadata": {},
   "outputs": [
    {
     "name": "stdout",
     "output_type": "stream",
     "text": [
      "              precision    recall  f1-score   support\n",
      "\n",
      "           0       0.87      0.97      0.91      2325\n",
      "           1       0.78      0.46      0.58       634\n",
      "\n",
      "    accuracy                           0.86      2959\n",
      "   macro avg       0.82      0.71      0.75      2959\n",
      "weighted avg       0.85      0.86      0.84      2959\n",
      "\n",
      "              precision    recall  f1-score   support\n",
      "\n",
      "           0       0.87      0.96      0.91       581\n",
      "           1       0.77      0.46      0.57       159\n",
      "\n",
      "    accuracy                           0.85       740\n",
      "   macro avg       0.82      0.71      0.74       740\n",
      "weighted avg       0.85      0.85      0.84       740\n",
      "\n"
     ]
    }
   ],
   "source": [
    "model = grid_search.best_estimator_\n",
    "\n",
    "model.fit(X_train, y_train)\n",
    "\n",
    "model_train = model.predict(X_train)\n",
    "model_test = model.predict(X_test)\n",
    "\n",
    "print(classification_report(y_train, model_train))\n",
    "print(classification_report(y_test, model_test))"
   ]
  },
  {
   "cell_type": "code",
   "execution_count": 113,
   "metadata": {},
   "outputs": [
    {
     "data": {
      "image/png": "[encoded data removed]",
      "text/plain": [
       "<Figure size 432x288 with 2 Axes>"
      ]
     },
     "metadata": {
      "needs_background": "light"
     },
     "output_type": "display_data"
    }
   ],
   "source": [
    "cm = confusion_matrix(y_test, model_test, labels=model.classes_)\n",
    "disp = ConfusionMatrixDisplay(confusion_matrix=cm,display_labels=model.classes_)\n",
    "\n",
    "disp.plot()\n",
    "plt.show()"
   ]
  },
  {
   "cell_type": "markdown",
   "metadata": {},
   "source": [
    "In this study, researchers will make class 1 (yes) in the default_payment_next_month target column as a positive class or main class as a reference in considering false negatives.\n",
    "- True Positive (TP) = cases where clients with bad payments are predicted to be really bad\n",
    "\n",
    "- True Negative (TN) = cases where clients with smooth payments are predicted to have smooth payments\n",
    "\n",
    "- False Positive (FP) = cases where clients with smooth payments are predicted as clients with bad payments\n",
    "\n",
    "- False Negative (FN) = cases where clients with bad payments are predicted as clients with smooth payments\n",
    "\n",
    "In this research, the researcher wants to anticipate and handle the FN case where the actual client is stuck but is predicted to be a client with smooth payments. The reason why this case should receive more attention is that credit card issuers do not provide credit card access to clients who are actually unable to pay their debt obligations, but the issuers instead regard them as clients with smooth payments.\n",
    "The FN case is very precise in terms of the results of the recall calculation.\n",
    "\n",
    "Recall Is the ratio of correct positive predictions compared to all data that is positive.\n",
    "\n",
    "Recall = (TP) / (TP + FN)\n",
    "\n",
    "- Before to Hyperparameter tuning, the AdaBoost model uses default parameters. The result is `Good Fit` even though the score is `0.41`. The score for small recall in this model is affected by data imbalance in the `default_payment_next_month` target column.\n",
    "In the AdaBoost model, before hyperparameter tuning, it was able to predict True Positive as many as 65 data from 159 data and predict False Negative as much as 94 data from 159 data.\n",
    "\n",
    "- After using Hyperparameter Tuning the result remains `Good Fit` and the model recall score increases 0.05 so the result is `0.46`. Based on the confusion_matrix, this model is only able to predict True Positive as many as 73 data from 159 data and predict False Negative as many as 86 data from 159 data.\n",
    "\n",
    "The conclusion is that the poor performance of the model made is due to imbalance data and you can handle the imbalance data first or you can try to build another model that is more effective."
   ]
  },
  {
   "cell_type": "markdown",
   "metadata": {},
   "source": [
    "## 9.Model Inference"
   ]
  },
  {
   "cell_type": "code",
   "execution_count": 89,
   "metadata": {},
   "outputs": [
    {
     "data": {
      "text/html": [
       "<div>\n",
       "<style scoped>\n",
       "    .dataframe tbody tr th:only-of-type {\n",
       "        vertical-align: middle;\n",
       "    }\n",
       "\n",
       "    .dataframe tbody tr th {\n",
       "        vertical-align: top;\n",
       "    }\n",
       "\n",
       "    .dataframe thead th {\n",
       "        text-align: right;\n",
       "    }\n",
       "</style>\n",
       "<table border=\"1\" class=\"dataframe\">\n",
       "  <thead>\n",
       "    <tr style=\"text-align: right;\">\n",
       "      <th></th>\n",
       "      <th>limit_balance</th>\n",
       "      <th>sex</th>\n",
       "      <th>education_level</th>\n",
       "      <th>marital_status</th>\n",
       "      <th>age</th>\n",
       "      <th>pay_1</th>\n",
       "      <th>pay_2</th>\n",
       "      <th>pay_3</th>\n",
       "      <th>pay_4</th>\n",
       "      <th>pay_5</th>\n",
       "      <th>pay_6</th>\n",
       "      <th>bill_amt_1</th>\n",
       "      <th>bill_amt_2</th>\n",
       "      <th>bill_amt_3</th>\n",
       "      <th>bill_amt_4</th>\n",
       "      <th>bill_amt_5</th>\n",
       "      <th>bill_amt_6</th>\n",
       "      <th>pay_amt_1</th>\n",
       "      <th>pay_amt_2</th>\n",
       "      <th>pay_amt_3</th>\n",
       "      <th>pay_amt_4</th>\n",
       "      <th>pay_amt_5</th>\n",
       "      <th>pay_amt_6</th>\n",
       "      <th>default_payment_next_month</th>\n",
       "    </tr>\n",
       "  </thead>\n",
       "  <tbody>\n",
       "    <tr>\n",
       "      <th>91</th>\n",
       "      <td>180000</td>\n",
       "      <td>1</td>\n",
       "      <td>1</td>\n",
       "      <td>1</td>\n",
       "      <td>35</td>\n",
       "      <td>0</td>\n",
       "      <td>0</td>\n",
       "      <td>0</td>\n",
       "      <td>0</td>\n",
       "      <td>0</td>\n",
       "      <td>0</td>\n",
       "      <td>170128</td>\n",
       "      <td>172258</td>\n",
       "      <td>138807</td>\n",
       "      <td>132806</td>\n",
       "      <td>135603</td>\n",
       "      <td>137803</td>\n",
       "      <td>7187</td>\n",
       "      <td>5000</td>\n",
       "      <td>4749</td>\n",
       "      <td>5141</td>\n",
       "      <td>4916</td>\n",
       "      <td>4000</td>\n",
       "      <td>0</td>\n",
       "    </tr>\n",
       "    <tr>\n",
       "      <th>325</th>\n",
       "      <td>20000</td>\n",
       "      <td>1</td>\n",
       "      <td>3</td>\n",
       "      <td>2</td>\n",
       "      <td>38</td>\n",
       "      <td>0</td>\n",
       "      <td>0</td>\n",
       "      <td>0</td>\n",
       "      <td>0</td>\n",
       "      <td>0</td>\n",
       "      <td>0</td>\n",
       "      <td>18878</td>\n",
       "      <td>19286</td>\n",
       "      <td>18977</td>\n",
       "      <td>18335</td>\n",
       "      <td>18718</td>\n",
       "      <td>18475</td>\n",
       "      <td>1318</td>\n",
       "      <td>1289</td>\n",
       "      <td>647</td>\n",
       "      <td>669</td>\n",
       "      <td>664</td>\n",
       "      <td>682</td>\n",
       "      <td>0</td>\n",
       "    </tr>\n",
       "    <tr>\n",
       "      <th>47</th>\n",
       "      <td>240000</td>\n",
       "      <td>1</td>\n",
       "      <td>1</td>\n",
       "      <td>1</td>\n",
       "      <td>35</td>\n",
       "      <td>0</td>\n",
       "      <td>0</td>\n",
       "      <td>0</td>\n",
       "      <td>0</td>\n",
       "      <td>0</td>\n",
       "      <td>0</td>\n",
       "      <td>188964</td>\n",
       "      <td>183744</td>\n",
       "      <td>168683</td>\n",
       "      <td>155064</td>\n",
       "      <td>148969</td>\n",
       "      <td>148619</td>\n",
       "      <td>8000</td>\n",
       "      <td>6017</td>\n",
       "      <td>6900</td>\n",
       "      <td>5250</td>\n",
       "      <td>5400</td>\n",
       "      <td>6200</td>\n",
       "      <td>0</td>\n",
       "    </tr>\n",
       "    <tr>\n",
       "      <th>2848</th>\n",
       "      <td>240000</td>\n",
       "      <td>2</td>\n",
       "      <td>2</td>\n",
       "      <td>2</td>\n",
       "      <td>30</td>\n",
       "      <td>-1</td>\n",
       "      <td>-1</td>\n",
       "      <td>0</td>\n",
       "      <td>-1</td>\n",
       "      <td>-1</td>\n",
       "      <td>-1</td>\n",
       "      <td>4684</td>\n",
       "      <td>18412</td>\n",
       "      <td>16580</td>\n",
       "      <td>416</td>\n",
       "      <td>416</td>\n",
       "      <td>416</td>\n",
       "      <td>18432</td>\n",
       "      <td>1416</td>\n",
       "      <td>16580</td>\n",
       "      <td>416</td>\n",
       "      <td>416</td>\n",
       "      <td>416</td>\n",
       "      <td>1</td>\n",
       "    </tr>\n",
       "    <tr>\n",
       "      <th>446</th>\n",
       "      <td>150000</td>\n",
       "      <td>1</td>\n",
       "      <td>2</td>\n",
       "      <td>1</td>\n",
       "      <td>41</td>\n",
       "      <td>0</td>\n",
       "      <td>0</td>\n",
       "      <td>0</td>\n",
       "      <td>0</td>\n",
       "      <td>0</td>\n",
       "      <td>0</td>\n",
       "      <td>19350</td>\n",
       "      <td>20703</td>\n",
       "      <td>10403</td>\n",
       "      <td>10927</td>\n",
       "      <td>11598</td>\n",
       "      <td>13235</td>\n",
       "      <td>2000</td>\n",
       "      <td>3000</td>\n",
       "      <td>1000</td>\n",
       "      <td>1000</td>\n",
       "      <td>2000</td>\n",
       "      <td>2000</td>\n",
       "      <td>0</td>\n",
       "    </tr>\n",
       "  </tbody>\n",
       "</table>\n",
       "</div>"
      ],
      "text/plain": [
       "      limit_balance  sex  education_level  marital_status  age  pay_1  pay_2  \\\n",
       "91           180000    1                1               1   35      0      0   \n",
       "325           20000    1                3               2   38      0      0   \n",
       "47           240000    1                1               1   35      0      0   \n",
       "2848         240000    2                2               2   30     -1     -1   \n",
       "446          150000    1                2               1   41      0      0   \n",
       "\n",
       "      pay_3  pay_4  pay_5  pay_6  bill_amt_1  bill_amt_2  bill_amt_3  \\\n",
       "91        0      0      0      0      170128      172258      138807   \n",
       "325       0      0      0      0       18878       19286       18977   \n",
       "47        0      0      0      0      188964      183744      168683   \n",
       "2848      0     -1     -1     -1        4684       18412       16580   \n",
       "446       0      0      0      0       19350       20703       10403   \n",
       "\n",
       "      bill_amt_4  bill_amt_5  bill_amt_6  pay_amt_1  pay_amt_2  pay_amt_3  \\\n",
       "91        132806      135603      137803       7187       5000       4749   \n",
       "325        18335       18718       18475       1318       1289        647   \n",
       "47        155064      148969      148619       8000       6017       6900   \n",
       "2848         416         416         416      18432       1416      16580   \n",
       "446        10927       11598       13235       2000       3000       1000   \n",
       "\n",
       "      pay_amt_4  pay_amt_5  pay_amt_6  default_payment_next_month  \n",
       "91         5141       4916       4000                           0  \n",
       "325         669        664        682                           0  \n",
       "47         5250       5400       6200                           0  \n",
       "2848        416        416        416                           1  \n",
       "446        1000       2000       2000                           0  "
      ]
     },
     "execution_count": 89,
     "metadata": {},
     "output_type": "execute_result"
    }
   ],
   "source": [
    "inference = wins.transform(inference)\n",
    "inference"
   ]
  },
  {
   "cell_type": "code",
   "execution_count": 90,
   "metadata": {},
   "outputs": [
    {
     "data": {
      "text/html": [
       "<div>\n",
       "<style scoped>\n",
       "    .dataframe tbody tr th:only-of-type {\n",
       "        vertical-align: middle;\n",
       "    }\n",
       "\n",
       "    .dataframe tbody tr th {\n",
       "        vertical-align: top;\n",
       "    }\n",
       "\n",
       "    .dataframe thead th {\n",
       "        text-align: right;\n",
       "    }\n",
       "</style>\n",
       "<table border=\"1\" class=\"dataframe\">\n",
       "  <thead>\n",
       "    <tr style=\"text-align: right;\">\n",
       "      <th></th>\n",
       "      <th>sex</th>\n",
       "      <th>education_level</th>\n",
       "      <th>marital_status</th>\n",
       "      <th>pay_1</th>\n",
       "      <th>pay_2</th>\n",
       "      <th>pay_3</th>\n",
       "      <th>pay_4</th>\n",
       "      <th>pay_5</th>\n",
       "      <th>pay_6</th>\n",
       "      <th>default_payment_next_month</th>\n",
       "    </tr>\n",
       "  </thead>\n",
       "  <tbody>\n",
       "    <tr>\n",
       "      <th>91</th>\n",
       "      <td>1</td>\n",
       "      <td>1</td>\n",
       "      <td>1</td>\n",
       "      <td>0</td>\n",
       "      <td>0</td>\n",
       "      <td>0</td>\n",
       "      <td>0</td>\n",
       "      <td>0</td>\n",
       "      <td>0</td>\n",
       "      <td>0</td>\n",
       "    </tr>\n",
       "    <tr>\n",
       "      <th>325</th>\n",
       "      <td>1</td>\n",
       "      <td>3</td>\n",
       "      <td>2</td>\n",
       "      <td>0</td>\n",
       "      <td>0</td>\n",
       "      <td>0</td>\n",
       "      <td>0</td>\n",
       "      <td>0</td>\n",
       "      <td>0</td>\n",
       "      <td>0</td>\n",
       "    </tr>\n",
       "    <tr>\n",
       "      <th>47</th>\n",
       "      <td>1</td>\n",
       "      <td>1</td>\n",
       "      <td>1</td>\n",
       "      <td>0</td>\n",
       "      <td>0</td>\n",
       "      <td>0</td>\n",
       "      <td>0</td>\n",
       "      <td>0</td>\n",
       "      <td>0</td>\n",
       "      <td>0</td>\n",
       "    </tr>\n",
       "    <tr>\n",
       "      <th>2848</th>\n",
       "      <td>2</td>\n",
       "      <td>2</td>\n",
       "      <td>2</td>\n",
       "      <td>-1</td>\n",
       "      <td>-1</td>\n",
       "      <td>0</td>\n",
       "      <td>-1</td>\n",
       "      <td>-1</td>\n",
       "      <td>-1</td>\n",
       "      <td>1</td>\n",
       "    </tr>\n",
       "    <tr>\n",
       "      <th>446</th>\n",
       "      <td>1</td>\n",
       "      <td>2</td>\n",
       "      <td>1</td>\n",
       "      <td>0</td>\n",
       "      <td>0</td>\n",
       "      <td>0</td>\n",
       "      <td>0</td>\n",
       "      <td>0</td>\n",
       "      <td>0</td>\n",
       "      <td>0</td>\n",
       "    </tr>\n",
       "  </tbody>\n",
       "</table>\n",
       "</div>"
      ],
      "text/plain": [
       "      sex  education_level  marital_status  pay_1  pay_2  pay_3  pay_4  pay_5  \\\n",
       "91      1                1               1      0      0      0      0      0   \n",
       "325     1                3               2      0      0      0      0      0   \n",
       "47      1                1               1      0      0      0      0      0   \n",
       "2848    2                2               2     -1     -1      0     -1     -1   \n",
       "446     1                2               1      0      0      0      0      0   \n",
       "\n",
       "      pay_6  default_payment_next_month  \n",
       "91        0                           0  \n",
       "325       0                           0  \n",
       "47        0                           0  \n",
       "2848     -1                           1  \n",
       "446       0                           0  "
      ]
     },
     "execution_count": 90,
     "metadata": {},
     "output_type": "execute_result"
    }
   ],
   "source": [
    "inf_cat = inference[cat]\n",
    "inf_cat"
   ]
  },
  {
   "cell_type": "code",
   "execution_count": 91,
   "metadata": {},
   "outputs": [
    {
     "data": {
      "text/html": [
       "<div>\n",
       "<style scoped>\n",
       "    .dataframe tbody tr th:only-of-type {\n",
       "        vertical-align: middle;\n",
       "    }\n",
       "\n",
       "    .dataframe tbody tr th {\n",
       "        vertical-align: top;\n",
       "    }\n",
       "\n",
       "    .dataframe thead th {\n",
       "        text-align: right;\n",
       "    }\n",
       "</style>\n",
       "<table border=\"1\" class=\"dataframe\">\n",
       "  <thead>\n",
       "    <tr style=\"text-align: right;\">\n",
       "      <th></th>\n",
       "      <th>limit_balance</th>\n",
       "      <th>pay_1</th>\n",
       "      <th>pay_2</th>\n",
       "      <th>pay_3</th>\n",
       "      <th>pay_4</th>\n",
       "      <th>pay_5</th>\n",
       "      <th>pay_6</th>\n",
       "      <th>default_payment_next_month</th>\n",
       "    </tr>\n",
       "  </thead>\n",
       "  <tbody>\n",
       "    <tr>\n",
       "      <th>91</th>\n",
       "      <td>180000</td>\n",
       "      <td>0</td>\n",
       "      <td>0</td>\n",
       "      <td>0</td>\n",
       "      <td>0</td>\n",
       "      <td>0</td>\n",
       "      <td>0</td>\n",
       "      <td>0</td>\n",
       "    </tr>\n",
       "    <tr>\n",
       "      <th>325</th>\n",
       "      <td>20000</td>\n",
       "      <td>0</td>\n",
       "      <td>0</td>\n",
       "      <td>0</td>\n",
       "      <td>0</td>\n",
       "      <td>0</td>\n",
       "      <td>0</td>\n",
       "      <td>0</td>\n",
       "    </tr>\n",
       "    <tr>\n",
       "      <th>47</th>\n",
       "      <td>240000</td>\n",
       "      <td>0</td>\n",
       "      <td>0</td>\n",
       "      <td>0</td>\n",
       "      <td>0</td>\n",
       "      <td>0</td>\n",
       "      <td>0</td>\n",
       "      <td>0</td>\n",
       "    </tr>\n",
       "    <tr>\n",
       "      <th>2848</th>\n",
       "      <td>240000</td>\n",
       "      <td>-1</td>\n",
       "      <td>-1</td>\n",
       "      <td>0</td>\n",
       "      <td>-1</td>\n",
       "      <td>-1</td>\n",
       "      <td>-1</td>\n",
       "      <td>1</td>\n",
       "    </tr>\n",
       "    <tr>\n",
       "      <th>446</th>\n",
       "      <td>150000</td>\n",
       "      <td>0</td>\n",
       "      <td>0</td>\n",
       "      <td>0</td>\n",
       "      <td>0</td>\n",
       "      <td>0</td>\n",
       "      <td>0</td>\n",
       "      <td>0</td>\n",
       "    </tr>\n",
       "  </tbody>\n",
       "</table>\n",
       "</div>"
      ],
      "text/plain": [
       "      limit_balance  pay_1  pay_2  pay_3  pay_4  pay_5  pay_6  \\\n",
       "91           180000      0      0      0      0      0      0   \n",
       "325           20000      0      0      0      0      0      0   \n",
       "47           240000      0      0      0      0      0      0   \n",
       "2848         240000     -1     -1      0     -1     -1     -1   \n",
       "446          150000      0      0      0      0      0      0   \n",
       "\n",
       "      default_payment_next_month  \n",
       "91                             0  \n",
       "325                            0  \n",
       "47                             0  \n",
       "2848                           1  \n",
       "446                            0  "
      ]
     },
     "execution_count": 91,
     "metadata": {},
     "output_type": "execute_result"
    }
   ],
   "source": [
    "inference_model = inference[['limit_balance', 'pay_1', 'pay_2', 'pay_3', 'pay_4', 'pay_5', 'pay_6', 'default_payment_next_month']]\n",
    "inference_model"
   ]
  },
  {
   "cell_type": "code",
   "execution_count": 92,
   "metadata": {},
   "outputs": [
    {
     "data": {
      "text/html": [
       "<div>\n",
       "<style scoped>\n",
       "    .dataframe tbody tr th:only-of-type {\n",
       "        vertical-align: middle;\n",
       "    }\n",
       "\n",
       "    .dataframe tbody tr th {\n",
       "        vertical-align: top;\n",
       "    }\n",
       "\n",
       "    .dataframe thead th {\n",
       "        text-align: right;\n",
       "    }\n",
       "</style>\n",
       "<table border=\"1\" class=\"dataframe\">\n",
       "  <thead>\n",
       "    <tr style=\"text-align: right;\">\n",
       "      <th></th>\n",
       "      <th>limit_balance</th>\n",
       "      <th>pay_1</th>\n",
       "      <th>pay_2</th>\n",
       "      <th>pay_3</th>\n",
       "      <th>pay_4</th>\n",
       "      <th>pay_5</th>\n",
       "      <th>pay_6</th>\n",
       "      <th>default_payment_next_month</th>\n",
       "    </tr>\n",
       "  </thead>\n",
       "  <tbody>\n",
       "    <tr>\n",
       "      <th>91</th>\n",
       "      <td>0.215190</td>\n",
       "      <td>0</td>\n",
       "      <td>0</td>\n",
       "      <td>0</td>\n",
       "      <td>0</td>\n",
       "      <td>0</td>\n",
       "      <td>0</td>\n",
       "      <td>0</td>\n",
       "    </tr>\n",
       "    <tr>\n",
       "      <th>325</th>\n",
       "      <td>0.012658</td>\n",
       "      <td>0</td>\n",
       "      <td>0</td>\n",
       "      <td>0</td>\n",
       "      <td>0</td>\n",
       "      <td>0</td>\n",
       "      <td>0</td>\n",
       "      <td>0</td>\n",
       "    </tr>\n",
       "    <tr>\n",
       "      <th>47</th>\n",
       "      <td>0.291139</td>\n",
       "      <td>0</td>\n",
       "      <td>0</td>\n",
       "      <td>0</td>\n",
       "      <td>0</td>\n",
       "      <td>0</td>\n",
       "      <td>0</td>\n",
       "      <td>0</td>\n",
       "    </tr>\n",
       "    <tr>\n",
       "      <th>2848</th>\n",
       "      <td>0.291139</td>\n",
       "      <td>-1</td>\n",
       "      <td>-1</td>\n",
       "      <td>0</td>\n",
       "      <td>-1</td>\n",
       "      <td>-1</td>\n",
       "      <td>-1</td>\n",
       "      <td>1</td>\n",
       "    </tr>\n",
       "    <tr>\n",
       "      <th>446</th>\n",
       "      <td>0.177215</td>\n",
       "      <td>0</td>\n",
       "      <td>0</td>\n",
       "      <td>0</td>\n",
       "      <td>0</td>\n",
       "      <td>0</td>\n",
       "      <td>0</td>\n",
       "      <td>0</td>\n",
       "    </tr>\n",
       "  </tbody>\n",
       "</table>\n",
       "</div>"
      ],
      "text/plain": [
       "      limit_balance  pay_1  pay_2  pay_3  pay_4  pay_5  pay_6  \\\n",
       "91         0.215190      0      0      0      0      0      0   \n",
       "325        0.012658      0      0      0      0      0      0   \n",
       "47         0.291139      0      0      0      0      0      0   \n",
       "2848       0.291139     -1     -1      0     -1     -1     -1   \n",
       "446        0.177215      0      0      0      0      0      0   \n",
       "\n",
       "      default_payment_next_month  \n",
       "91                             0  \n",
       "325                            0  \n",
       "47                             0  \n",
       "2848                           1  \n",
       "446                            0  "
      ]
     },
     "execution_count": 92,
     "metadata": {},
     "output_type": "execute_result"
    }
   ],
   "source": [
    "num_column = ['limit_balance']\n",
    "\n",
    "inference_model[num_column]= scaler.transform(inference_model[num_column])\n",
    "inference_model\n"
   ]
  },
  {
   "cell_type": "code",
   "execution_count": 93,
   "metadata": {},
   "outputs": [],
   "source": [
    "X_inf = inference_model.drop('default_payment_next_month', axis=1).copy()"
   ]
  },
  {
   "cell_type": "markdown",
   "metadata": {},
   "source": [
    "### Result `Before` Hyperparameter tuning"
   ]
  },
  {
   "cell_type": "code",
   "execution_count": 94,
   "metadata": {},
   "outputs": [
    {
     "data": {
      "text/plain": [
       "array([0, 0, 0, 0, 0], dtype=int64)"
      ]
     },
     "execution_count": 94,
     "metadata": {},
     "output_type": "execute_result"
    }
   ],
   "source": [
    "ADA.predict(X_inf)"
   ]
  },
  {
   "cell_type": "markdown",
   "metadata": {},
   "source": [
    "### Resultf `After` Hyperparameter tuning"
   ]
  },
  {
   "cell_type": "code",
   "execution_count": 95,
   "metadata": {},
   "outputs": [
    {
     "data": {
      "text/plain": [
       "array([0, 0, 0, 0, 0], dtype=int64)"
      ]
     },
     "execution_count": 95,
     "metadata": {},
     "output_type": "execute_result"
    }
   ],
   "source": [
    "model.predict(X_inf)"
   ]
  },
  {
   "cell_type": "markdown",
   "metadata": {},
   "source": [
    "> At the model inference stage, the model that I use at this stage is the adaboost model which has done hyperparameter tuning, and when new data is entered the model can run and make predictions which means the model can be used and can run in making predictions on new data"
   ]
  },
  {
   "cell_type": "markdown",
   "metadata": {},
   "source": [
    "## 10.Conlussion"
   ]
  },
  {
   "cell_type": "markdown",
   "metadata": {},
   "source": [
    "In this study it can be concluded that:\n",
    "1. clients with smooth payments, which means clients are still able to fulfill their debt payment obligations. The number of clients with smooth payments is 2,325 people\n",
    "- Clients with bad payments, which means clients are unable to fulfill their debt payment obligations. The number of bad paying clients is 634 people\n",
    "\n",
    "2. Most credit card users have university-level education\n",
    "\n",
    "3. In general, credit card users in Taiwan are around the age of 30 to around 40 years old.\n",
    "\n",
    "4. The number of female clients is 1,800 people and the number of male clients is 1,159 people. The number of female clients is more than the number of male clients.\n",
    "\n",
    "5. Based on EDA - Modeling, there are several features determined from the feature selection results using a correlation heatmap which will later be used in the modeling stage, along with the features used `limit_balance`, `pay_1`,`pay_2`,` pay_3`,`pay_4`,`pay_5` ,`pay_6` and `default_payment_next_month` as targets\n",
    "\n",
    "6. In this study there are several models that will be used, namely the model:\n",
    "> - Logistic Regression\n",
    "> - SVM\n",
    "> - Decision Tree Classifier\n",
    "> - RandomForestClassifier\n",
    "> - KNN\n",
    "> - Naive Bayes\n",
    "> - AdaBoost\n",
    "\n",
    "7. Determine the best model based on the accuracy mean value and the standard deviation accuracy value so that by cross validation the best model is obtained, namely the `AdaBoost` model with an accuracy mean value of 0.82 and an accuracy Std still close to 0\n",
    "\n",
    "8. Hyperparameter tuning in this study seeks the highest scoring recall results so that the model is able to anticipate cases of clients that are jammed but are predicted as clients with smooth payments.\n",
    "> 'algorithm': 'SAMME',\n",
    "> 'base_estimator': DecisionTreeClassifier(max_depth=20),\n",
    ">'learning_rate': 0.5,\n",
    "> 'n_estimators': 150}\n",
    "\n",
    "9. Conclusion based on the result model before and after using hyperparameter tuning\n",
    "- Before to Hyperparameter tuning, the AdaBoost model uses default parameters. The result is `Good Fit` even though the score is `0.41`. The score for small recall in this model is affected by data imbalance in the `default_payment_next_month` target column.\n",
    "In the AdaBoost model, before hyperparameter tuning, it was able to predict True Positive as many as 65 data from 159 data and predict False Negative as much as 94 data from 159 data.\n",
    "\n",
    "- After using Hyperparameter Tuning the result remains `Good Fit` and the model recall score increases 0.05 so the result is `0.46`. Based on the confusion_matrix, this model is only able to predict True Positive as many as 73 data from 159 data and predict False Negative as many as 86 data from 159 data."
   ]
  },
  {
   "cell_type": "markdown",
   "metadata": {},
   "source": [
    "## Conceptual Problems\n",
    "Jawab pertanyaan berikut:\n",
    "\n",
    "1. Apakah fungsi parameter criterion pada Decision Tree? Jelaskan salah satu criterion yang kalian pahami!\n",
    "2. Apakah fungsi dari pruning pada Tree model?\n",
    "3. Bagaimana cara memilih K yang optimal pada KNN?\n",
    "4. Jelaskan apa yang kalian ketahui tentang Cross Validation!\n",
    "5. Jelaskan apa yang kalian ketahui tentang Accuracy, Precision, Recall, F1 Score!\n",
    "\n",
    "Answer :\n",
    "1. Criterion : parameter to separate attributes. For each criterion that can be selected, it must be able to optimize the split value from the decision tree. an example of a criterion that can be selected is accuracy.\n",
    "> Accuracy is this criterion selecting the attributes to be separated that can maximize the accuracy of the entire tree.\n",
    "> Entropy : this criterion is used to measure impurities in certain attributes\n",
    "\n",
    "2. tree pruning, namely identifying and removing branches that are not needed in the tree that has been formed. This is because the constructed decision tree can be large in size, so it can be simplified by pruning based on the confidence level. Tree pruning is done in addition to reducing the size of the tree, it also aims to reduce the prediction error rate in new cases from the results of dividing by dividing and conquering. PruningThere are two approaches, namely:\n",
    "- Pre-pruning ie stopping the construction of a subtree earlier (by deciding not to further partition the training data). When it suddenly stops, the node turns into a leaf (end node). This end node becomes the class that occurs most frequently among the sample subsets.\n",
    "- Post-pruning, namely simplifying the tree by removing some of the subtree branches after the tree has been built. The node that is rarely cut will be the leaf (end node) with the most frequently appearing class.\n",
    "\n",
    "3. It is recommended to choose k values ​​that are odd numbers to avoid ties in classification, meaning a minimum value of k = 3. The cross validation strategy can also be used to help us choose the optimal k for the dataset we have.\n",
    "\n",
    "4. Cross Validation systematically creates and evaluates several models on several subsets of the data set. It is used to assess the evaluation of machine learning models by training several models on the available training data subset and evaluating them on the test data subset. By using cross validation, there is a high probability of detecting overfit easily. To perform Cross Validation, we must create a fixed number of data folds (partitions) and then perform analysis on each fold. Then average the overall error estimates.\n",
    "\n",
    "5. > Accuracy = Is the ratio of correct predictions (positive and negative) to the entire data. Accuracy is not suitable to be used as a reference for imbalance data.\n",
    "- Accuracy = (TP + TN) /(TP + TN + FP + FN)\n",
    "\n",
    "> Precission = Is the ratio of positive correct predictions compared to the overall positive predicted results. Precision is a matrix that describes how large the number of correct predictions is. Precission usually focuses mainly on False positive cases\n",
    "- Precision = (TP) / (TP + FP)\n",
    "\n",
    "> Recall = Represents the ratio of correct positive predictions compared to all correct positive data. Recall is a matrix that describes the number of positive predicted positive data. The main focus is to handle False Negative cases.\n",
    "- Recall = (TP) / (TP + FN)\n",
    "\n",
    "> F1 Score = is a comparison of the average precision and recall that is weighted. It is very good to be used as a reference if Precision and Recall are in balance.\n",
    "- F1 Score = (2 x Precision x Recall) / (Precision + Recall)\n"
   ]
  },
  {
   "cell_type": "markdown",
   "metadata": {},
   "source": []
  }
 ],
 "metadata": {
  "kernelspec": {
   "display_name": "Python 3.9.12 ('base')",
   "language": "python",
   "name": "python3"
  },
  "language_info": {
   "codemirror_mode": {
    "name": "ipython",
    "version": 3
   },
   "file_extension": ".py",
   "mimetype": "text/x-python",
   "name": "python",
   "nbconvert_exporter": "python",
   "pygments_lexer": "ipython3",
   "version": "3.9.12"
  },
  "orig_nbformat": 4,
  "vscode": {
   "interpreter": {
    "hash": "5179d32cf6ec497baf3f8a3ef987cc77c5d2dc691fdde20a56316522f61a7323"
   }
  }
 },
 "nbformat": 4,
 "nbformat_minor": 2
}
